{
 "cells": [
  {
   "cell_type": "code",
   "execution_count": null,
   "id": "49f0e856-147d-493c-8da8-e20d37b53c9d",
   "metadata": {},
   "outputs": [],
   "source": [
    "'I am a boy'"
   ]
  },
  {
   "cell_type": "code",
   "execution_count": null,
   "id": "f66902d7-e734-4f79-ad05-b984bfd2a81f",
   "metadata": {},
   "outputs": [],
   "source": [
    "\"I am a boy\""
   ]
  },
  {
   "cell_type": "code",
   "execution_count": null,
   "id": "7a8a1c0b-6b5f-43df-a0cb-eb87a90816e7",
   "metadata": {},
   "outputs": [],
   "source": [
    "'I'm a boy'"
   ]
  },
  {
   "cell_type": "code",
   "execution_count": null,
   "id": "dc4a5a93-edc9-404b-a3a2-ca7a280c3e42",
   "metadata": {},
   "outputs": [],
   "source": [
    "\"I'm a boy\""
   ]
  },
  {
   "cell_type": "code",
   "execution_count": null,
   "id": "793ca581-0f80-4ef9-9705-960c7d25f6cf",
   "metadata": {},
   "outputs": [],
   "source": [
    "# 이스케이프: 메타문자의 기능을 해제하는 메타문자\n",
    "'I\\'m a boy'"
   ]
  },
  {
   "cell_type": "code",
   "execution_count": null,
   "id": "9fe9e619-f7ca-4f5c-95dc-90b4cde374c6",
   "metadata": {},
   "outputs": [],
   "source": [
    "'C:\\\\Users\\\\USER\\\\Documents\\\\project\\\\data'"
   ]
  },
  {
   "cell_type": "code",
   "execution_count": null,
   "id": "74a35273-3701-40ab-8c4b-db2ae3dafcf5",
   "metadata": {},
   "outputs": [],
   "source": [
    "'C:/Users/USER/Documents/project/data'"
   ]
  },
  {
   "cell_type": "code",
   "execution_count": null,
   "id": "976c2892-2655-464b-be17-e4478f9003a9",
   "metadata": {},
   "outputs": [],
   "source": [
    "# raw string: 문자열 안에 있는 모든 메타문자의 기능을 일괄 해제\n",
    "r'C:\\Users\\USER\\Documents\\project\\data'"
   ]
  },
  {
   "cell_type": "raw",
   "id": "af23c8ac-57e8-4fa4-9754-f26603f3b43a",
   "metadata": {},
   "source": [
    "!pip install chardet"
   ]
  },
  {
   "cell_type": "code",
   "execution_count": null,
   "id": "d08e1420-66d9-4bbb-8980-3e3cbcbd2c04",
   "metadata": {
    "scrolled": true
   },
   "outputs": [],
   "source": [
    "import os\n",
    "import numpy as np\n",
    "import pandas as pd\n",
    "import chardet"
   ]
  },
  {
   "cell_type": "code",
   "execution_count": null,
   "id": "d8aba7fe-1753-4737-8ec8-59349b4b07f1",
   "metadata": {},
   "outputs": [],
   "source": [
    "pd.__version__"
   ]
  },
  {
   "cell_type": "code",
   "execution_count": null,
   "id": "b676fd08-0e1a-45a4-8ce3-a23bb88bfcf5",
   "metadata": {},
   "outputs": [],
   "source": [
    "np.__version__"
   ]
  },
  {
   "cell_type": "code",
   "execution_count": null,
   "id": "293a601e-1277-4163-a4a2-389c9d2982f4",
   "metadata": {},
   "outputs": [],
   "source": [
    "os.getcwd()"
   ]
  },
  {
   "cell_type": "code",
   "execution_count": null,
   "id": "57276386-06ab-4bba-9587-97a4aea7eb1c",
   "metadata": {},
   "outputs": [],
   "source": [
    "# 절대 경로 방식\n",
    "os.chdir(path = 'C:\\\\Users\\\\USER\\\\Documents\\\\project\\\\data')\n",
    "os.getcwd()"
   ]
  },
  {
   "cell_type": "code",
   "execution_count": null,
   "id": "8bd78b60-b0e6-43a0-967c-31ed252d1e9e",
   "metadata": {},
   "outputs": [],
   "source": [
    "# 상대 경로 방식: '.'(현재 폴더), '..'(부모 폴더)\n",
    "os.chdir(path = '..')\n",
    "os.getcwd()"
   ]
  },
  {
   "cell_type": "code",
   "execution_count": null,
   "id": "76173ae8-fce5-4729-b981-e3db86ebd304",
   "metadata": {},
   "outputs": [],
   "source": [
    "os.chdir(path = './code')\n",
    "os.getcwd()"
   ]
  },
  {
   "cell_type": "code",
   "execution_count": null,
   "id": "25162ab2-9fd5-4f52-9a23-a6bea9e47187",
   "metadata": {},
   "outputs": [],
   "source": [
    "os.chdir(path = '../data')\n",
    "os.getcwd()"
   ]
  },
  {
   "cell_type": "code",
   "execution_count": null,
   "id": "59c30d0a-2e4a-44d8-9e83-fd835b0a4c3a",
   "metadata": {},
   "outputs": [],
   "source": [
    "# 탐색기에서 복사한 절대 경로\n",
    "os.chdir(path = r'C:\\Users\\USER\\Documents\\project\\data')\n",
    "os.getcwd()"
   ]
  },
  {
   "cell_type": "code",
   "execution_count": null,
   "id": "b96ef8ee-9d7b-454f-b06a-87a866b9f66c",
   "metadata": {},
   "outputs": [],
   "source": [
    "os.mkdir(path = 'temp')"
   ]
  },
  {
   "cell_type": "code",
   "execution_count": null,
   "id": "c6ff750f-8bdc-4133-8482-b48a1b9abd16",
   "metadata": {},
   "outputs": [],
   "source": [
    "os.listdir()"
   ]
  },
  {
   "cell_type": "code",
   "execution_count": null,
   "id": "aa4be045-ecbd-4a94-9931-1f557225c75a",
   "metadata": {},
   "outputs": [],
   "source": [
    "os.rmdir(path = 'temp')"
   ]
  },
  {
   "cell_type": "code",
   "execution_count": null,
   "id": "7242ba57-ad72-4552-aee9-2c92cc7b77e3",
   "metadata": {},
   "outputs": [],
   "source": [
    "files = os.listdir()"
   ]
  },
  {
   "cell_type": "code",
   "execution_count": null,
   "id": "c7ad361e-cc68-483f-8e0f-581844ba43c1",
   "metadata": {},
   "outputs": [],
   "source": [
    "for file in files:\n",
    "    if 'xlsx' in file:\n",
    "        print(file)"
   ]
  },
  {
   "cell_type": "code",
   "execution_count": null,
   "id": "c54573ae-639b-46c8-93bb-d568247a5493",
   "metadata": {},
   "outputs": [],
   "source": [
    "result = []\n",
    "for file in files:\n",
    "    if 'xlsx' in file:\n",
    "        result.append(file)"
   ]
  },
  {
   "cell_type": "code",
   "execution_count": null,
   "id": "0ed09cdb-3288-41fa-927b-6e886ea59c82",
   "metadata": {},
   "outputs": [],
   "source": [
    "result"
   ]
  },
  {
   "cell_type": "code",
   "execution_count": null,
   "id": "3fbfaab5-47e2-486d-af70-295d2d515356",
   "metadata": {},
   "outputs": [],
   "source": [
    "# 리스트 컴프리헨션: [원소 for 변수 in 범위 if 조건]\n",
    "result = [file for file in files if 'xlsx' in file]\n",
    "result"
   ]
  },
  {
   "cell_type": "code",
   "execution_count": null,
   "id": "fe20ab6a-7b58-44ff-b495-e38d5c20db29",
   "metadata": {},
   "outputs": [],
   "source": [
    "[i for i in range(10)]"
   ]
  },
  {
   "cell_type": "code",
   "execution_count": null,
   "id": "dc64629d-10b1-406b-8e9d-ac220d0a45f9",
   "metadata": {},
   "outputs": [],
   "source": [
    "[i for i in range(10) if i % 2 == 0]"
   ]
  },
  {
   "cell_type": "code",
   "execution_count": null,
   "id": "b8159191-d76c-442e-8430-ea2adaf8f888",
   "metadata": {},
   "outputs": [],
   "source": [
    "# 삼항 연산자: 값1 if 조건 else 값2\n",
    "[i if i % 2 == 0 else '홀수' for i in range(10)]"
   ]
  },
  {
   "cell_type": "raw",
   "id": "5bb8e565-29c1-4ead-8dac-f6893be1bb47",
   "metadata": {},
   "source": [
    "!pip install openpyxl xlrd"
   ]
  },
  {
   "cell_type": "code",
   "execution_count": null,
   "id": "750468b4-5a46-4e5d-babc-f191df03699a",
   "metadata": {},
   "outputs": [],
   "source": [
    "pd.read_excel('APT_Price_Seoul(2020~2024).xlsx')"
   ]
  },
  {
   "cell_type": "code",
   "execution_count": null,
   "id": "8bb2b827-43e2-4826-9da9-5089ffdd96c0",
   "metadata": {},
   "outputs": [],
   "source": [
    "%%time\n",
    "dfs = pd.read_excel(io = 'APT_Price_Seoul(2020~2024).xlsx', \n",
    "                    sheet_name = None, \n",
    "                    usecols = range(1, 16), \n",
    "                    # usecols = ['거래금액', '지역코드']\n",
    "                    skiprows = 3, \n",
    "                    thousands = ',')"
   ]
  },
  {
   "cell_type": "code",
   "execution_count": null,
   "id": "02892170-c391-4209-a5d8-00e85494ca1d",
   "metadata": {},
   "outputs": [],
   "source": [
    "dfs"
   ]
  },
  {
   "cell_type": "code",
   "execution_count": null,
   "id": "0cfc58f7-da75-4ee2-a770-38d8bb491497",
   "metadata": {},
   "outputs": [],
   "source": [
    "dfs.keys()"
   ]
  },
  {
   "cell_type": "code",
   "execution_count": null,
   "id": "e9f26219-7b5a-4df5-8083-7b179d469172",
   "metadata": {},
   "outputs": [],
   "source": [
    "df1 = pd.DataFrame()\n",
    "for key in dfs.keys():\n",
    "    df = dfs[key]\n",
    "    df1 = pd.concat(objs = [df1, df])"
   ]
  },
  {
   "cell_type": "code",
   "execution_count": null,
   "id": "eee3a38d-1ea3-4c1c-b329-de4e22920eb3",
   "metadata": {},
   "outputs": [],
   "source": [
    "df1.shape"
   ]
  },
  {
   "cell_type": "code",
   "execution_count": null,
   "id": "4ee64d1f-b167-4534-8fd2-0f5a2af7d2c2",
   "metadata": {},
   "outputs": [],
   "source": [
    "df1 = pd.concat(objs = dfs, ignore_index = True)"
   ]
  },
  {
   "cell_type": "code",
   "execution_count": null,
   "id": "b9609202-3193-4b52-937f-cbe85a0ac812",
   "metadata": {},
   "outputs": [],
   "source": [
    "df8 = pd.DataFrame(data = {'A': [1, 3, 5], 'B': [2, 4, 6]})\n",
    "df9 = pd.DataFrame(data = {'A': [11, 13, 15], 'B': [12, 14, 16]})"
   ]
  },
  {
   "cell_type": "code",
   "execution_count": null,
   "id": "341d6593-889b-48ac-99f3-13099d797a37",
   "metadata": {},
   "outputs": [],
   "source": [
    "pd.concat(objs = [df8, df9], ignore_index = True)"
   ]
  },
  {
   "cell_type": "code",
   "execution_count": null,
   "id": "41624e3c-9f79-4061-b94a-61ddc6bdda5c",
   "metadata": {},
   "outputs": [],
   "source": [
    "pd.concat(objs = [df8, df9], axis = 1, ignore_index = True)"
   ]
  },
  {
   "cell_type": "code",
   "execution_count": null,
   "id": "30b69bf9-54ef-42fe-835d-e81ff9584ad6",
   "metadata": {},
   "outputs": [],
   "source": [
    "df1.info()"
   ]
  },
  {
   "cell_type": "code",
   "execution_count": null,
   "id": "a82d48c1-0c01-4d3f-a4c3-4fc9569411b2",
   "metadata": {},
   "outputs": [],
   "source": [
    "%time df1.to_excel('test.xlsx', index = False)"
   ]
  },
  {
   "cell_type": "code",
   "execution_count": null,
   "id": "f8754b1c-e016-40b7-adb5-e25b3bf80afa",
   "metadata": {},
   "outputs": [],
   "source": [
    "df1"
   ]
  },
  {
   "cell_type": "code",
   "execution_count": null,
   "id": "ea00babb-ce30-487b-a2a1-660d957a9cda",
   "metadata": {},
   "outputs": [],
   "source": [
    "df1.head()"
   ]
  },
  {
   "cell_type": "code",
   "execution_count": null,
   "id": "6ca5e555-d63f-4c1d-8d9c-de2e11a1b595",
   "metadata": {},
   "outputs": [],
   "source": [
    "df1.tail()"
   ]
  },
  {
   "cell_type": "code",
   "execution_count": null,
   "id": "10bcbc45-588c-4a38-adbd-676100fc51e7",
   "metadata": {},
   "outputs": [],
   "source": [
    "df1.sample(random_state = 1234)"
   ]
  },
  {
   "cell_type": "code",
   "execution_count": null,
   "id": "1a2446df-49c1-4dc9-872b-7bc843baf355",
   "metadata": {},
   "outputs": [],
   "source": [
    "df1.sample(random_state = 1234)"
   ]
  },
  {
   "cell_type": "code",
   "execution_count": null,
   "id": "cd246702-bc60-45d3-bbd5-8fa0341f4feb",
   "metadata": {},
   "outputs": [],
   "source": [
    "files = os.listdir()"
   ]
  },
  {
   "cell_type": "code",
   "execution_count": null,
   "id": "d7847db5-33a1-42ce-84aa-48a82ea360f7",
   "metadata": {},
   "outputs": [],
   "source": [
    "files = [file for file in files if 'csv' in file and 'Price' in file]\n",
    "files"
   ]
  },
  {
   "cell_type": "code",
   "execution_count": null,
   "id": "ae024ac3-f3b8-4823-ba41-016611d40d67",
   "metadata": {},
   "outputs": [],
   "source": [
    "pd.read_csv(files[0])"
   ]
  },
  {
   "cell_type": "code",
   "execution_count": null,
   "id": "ba12b8e9-b2b3-435b-839d-280c6814347d",
   "metadata": {},
   "outputs": [],
   "source": [
    "%%time\n",
    "df2 = pd.DataFrame()\n",
    "for file in files:\n",
    "    df = pd.read_csv(filepath_or_buffer = file, encoding = 'CP949', \n",
    "                     parse_dates = ['등기일자'], thousands = ',')\n",
    "    df2 = pd.concat(objs = [df2, df], ignore_index = True)"
   ]
  },
  {
   "cell_type": "code",
   "execution_count": null,
   "id": "8a7d86cc-fa91-4406-9e3e-d77eb5188ce7",
   "metadata": {},
   "outputs": [],
   "source": [
    "df2.info()"
   ]
  },
  {
   "cell_type": "code",
   "execution_count": null,
   "id": "50384b1f-9261-4499-aa14-f59dece3ba5c",
   "metadata": {},
   "outputs": [],
   "source": [
    "with open(file = files[0], mode = 'rb') as file:\n",
    "    text = file.read()"
   ]
  },
  {
   "cell_type": "code",
   "execution_count": null,
   "id": "20c1239c-c649-456a-b006-fc6b9fe62e4e",
   "metadata": {},
   "outputs": [],
   "source": [
    "text[:100]"
   ]
  },
  {
   "cell_type": "code",
   "execution_count": null,
   "id": "5606b083-8515-43a5-89f9-02f36f4e6c5b",
   "metadata": {},
   "outputs": [],
   "source": [
    "%time chardet.detect(text[:100])"
   ]
  },
  {
   "cell_type": "code",
   "execution_count": null,
   "id": "ed6b905f-19e1-42a2-a654-246a16de0905",
   "metadata": {},
   "outputs": [],
   "source": [
    "%time chardet.detect(text)"
   ]
  },
  {
   "cell_type": "code",
   "execution_count": null,
   "id": "9e3c45e1-6f5a-484e-bb97-6332ea99821f",
   "metadata": {},
   "outputs": [],
   "source": [
    "%time df2.to_csv('test.csv', index = False)"
   ]
  },
  {
   "cell_type": "code",
   "execution_count": null,
   "id": "8cb4abd7-4d8a-4b50-8f68-b55f9d703493",
   "metadata": {},
   "outputs": [],
   "source": [
    "%time df3 = pd.read_csv('test.csv')"
   ]
  },
  {
   "cell_type": "code",
   "execution_count": null,
   "id": "9fcc6599-93dc-43f2-8d8e-c8b02dc647e8",
   "metadata": {},
   "outputs": [],
   "source": [
    "%time df3 = pd.read_csv('test.csv', low_memory = False)"
   ]
  },
  {
   "cell_type": "code",
   "execution_count": null,
   "id": "6a2c1237-c408-4e2b-aec7-f63887a79762",
   "metadata": {},
   "outputs": [],
   "source": [
    "df3.head()"
   ]
  },
  {
   "cell_type": "code",
   "execution_count": null,
   "id": "804dd0a5-339d-4e3a-9be1-c61662b75d7e",
   "metadata": {},
   "outputs": [],
   "source": [
    "df3.info()"
   ]
  },
  {
   "cell_type": "code",
   "execution_count": null,
   "id": "9c0d27e5-a75b-4410-bbf1-63c264ee20f4",
   "metadata": {},
   "outputs": [],
   "source": [
    "%time df2.to_pickle('test.pkl')"
   ]
  },
  {
   "cell_type": "code",
   "execution_count": null,
   "id": "c3c7c976-4e40-4da7-89f8-09a0e99f7f07",
   "metadata": {},
   "outputs": [],
   "source": [
    "%time df4 = pd.read_pickle('test.pkl')"
   ]
  },
  {
   "cell_type": "code",
   "execution_count": null,
   "id": "30722bc8-e9c6-4d17-a060-25cde5071928",
   "metadata": {},
   "outputs": [],
   "source": [
    "df4.info()"
   ]
  },
  {
   "cell_type": "code",
   "execution_count": null,
   "id": "4cc9385e-a4dc-4867-99c1-85b71699b36b",
   "metadata": {},
   "outputs": [],
   "source": [
    "os.rename(src = 'test.pkl', dst = 'APT_List.pkl')"
   ]
  },
  {
   "cell_type": "code",
   "execution_count": null,
   "id": "8ed4f861-1ad1-435a-ac5e-12808093979c",
   "metadata": {},
   "outputs": [],
   "source": [
    "a = 1\n",
    "b = 2.0\n",
    "c = '3'"
   ]
  },
  {
   "cell_type": "code",
   "execution_count": null,
   "id": "dfd99284-b7ff-41de-9e3d-2503bf4695b8",
   "metadata": {},
   "outputs": [],
   "source": [
    "pd.to_pickle(obj = [a, b, c], filepath_or_buffer = 'testAll.pkl')"
   ]
  },
  {
   "cell_type": "code",
   "execution_count": null,
   "id": "b443fcd1-39dc-4718-bdf7-8dfa3d211be8",
   "metadata": {},
   "outputs": [],
   "source": [
    "pd.read_pickle(filepath_or_buffer = 'testAll.pkl')"
   ]
  },
  {
   "cell_type": "code",
   "execution_count": null,
   "id": "6d85645f-2cc5-4439-9845-060f10ba8479",
   "metadata": {},
   "outputs": [],
   "source": [
    "a_1, b_1, c_1 = pd.read_pickle(filepath_or_buffer = 'testAll.pkl')"
   ]
  },
  {
   "cell_type": "code",
   "execution_count": null,
   "id": "61daad63-eb3d-45cd-a843-5fcf9cf626c9",
   "metadata": {},
   "outputs": [],
   "source": [
    "print(a_1)\n",
    "print(b_1)\n",
    "print(c_1)"
   ]
  },
  {
   "cell_type": "code",
   "execution_count": null,
   "id": "6c997561-51f8-4c9e-b437-91e58e9974cd",
   "metadata": {},
   "outputs": [],
   "source": [
    "os.listdir()"
   ]
  },
  {
   "cell_type": "code",
   "execution_count": null,
   "id": "b701327f-6acd-4d55-93eb-1bf5d5fe6c85",
   "metadata": {},
   "outputs": [],
   "source": [
    "files = [file for file in os.listdir() if 'test' in file]\n",
    "files"
   ]
  },
  {
   "cell_type": "code",
   "execution_count": null,
   "id": "4b9e0ba4-0664-4536-8a30-31aeca671dc5",
   "metadata": {},
   "outputs": [],
   "source": [
    "for file in files:\n",
    "    os.remove(file)"
   ]
  },
  {
   "cell_type": "code",
   "execution_count": null,
   "id": "248608b5-000d-478b-bdfa-0377b6585322",
   "metadata": {},
   "outputs": [],
   "source": [
    "os.listdir()"
   ]
  },
  {
   "cell_type": "code",
   "execution_count": null,
   "id": "ee1b0d68-3c25-4118-bf29-dd3808b2d8b9",
   "metadata": {},
   "outputs": [],
   "source": [
    "files = [file for file in os.listdir() if 'csv' in file and 'Price' in file]"
   ]
  },
  {
   "cell_type": "code",
   "execution_count": null,
   "id": "34aac3ee-11ee-4e2f-9c8e-73176d0aea6e",
   "metadata": {},
   "outputs": [],
   "source": [
    "files = pd.Series(files)"
   ]
  },
  {
   "cell_type": "code",
   "execution_count": null,
   "id": "c672922a-7a1c-44c0-9d3f-9368a5b1f292",
   "metadata": {},
   "outputs": [],
   "source": [
    "years = files.str.extract(pat = r'(\\d+)')[0]"
   ]
  },
  {
   "cell_type": "code",
   "execution_count": null,
   "id": "f9fc4704-9b87-4693-ba53-e1d67fef94dc",
   "metadata": {},
   "outputs": [],
   "source": [
    "for file, year in zip(files, years):\n",
    "    print(file, year)"
   ]
  },
  {
   "cell_type": "code",
   "execution_count": null,
   "id": "ec63fe34-6b75-455c-a7c5-c7a263c60917",
   "metadata": {},
   "outputs": [],
   "source": [
    "df5 = pd.DataFrame()\n",
    "for file, year in zip(files, years):\n",
    "    df = pd.read_csv(file, encoding = 'CP949')\n",
    "    df.insert(loc = 0, column = '거래년도', value = year)\n",
    "    df5 = pd.concat(objs = [df5, df], ignore_index = True)"
   ]
  },
  {
   "cell_type": "code",
   "execution_count": null,
   "id": "c9f68222-29ee-4912-8ff2-8fcf3726681e",
   "metadata": {},
   "outputs": [],
   "source": [
    "df5.head()"
   ]
  },
  {
   "cell_type": "code",
   "execution_count": null,
   "id": "9e57f4c2-d18d-4a72-bbd9-5019056cc8e0",
   "metadata": {},
   "outputs": [],
   "source": []
  },
  {
   "cell_type": "code",
   "execution_count": 1,
   "id": "7ad56135-3442-4e66-8771-c5b3fec52728",
   "metadata": {},
   "outputs": [],
   "source": [
    "import os\n",
    "import numpy as np\n",
    "import pandas as pd"
   ]
  },
  {
   "cell_type": "code",
   "execution_count": 2,
   "id": "a4a1a09b-01db-465a-8218-826477b3dd9c",
   "metadata": {},
   "outputs": [
    {
     "data": {
      "text/plain": [
       "'C:\\\\Users\\\\USER\\\\Documents\\\\project\\\\code'"
      ]
     },
     "execution_count": 2,
     "metadata": {},
     "output_type": "execute_result"
    }
   ],
   "source": [
    "os.getcwd()"
   ]
  },
  {
   "cell_type": "code",
   "execution_count": 3,
   "id": "bac995e4-9138-49d7-ac11-d9d4898b6e12",
   "metadata": {},
   "outputs": [],
   "source": [
    "os.chdir(path = '../data')"
   ]
  },
  {
   "cell_type": "code",
   "execution_count": 4,
   "id": "19f2ab32-76c6-421a-9ba4-a6d7e6249712",
   "metadata": {
    "collapsed": true,
    "jupyter": {
     "outputs_hidden": true
    }
   },
   "outputs": [
    {
     "data": {
      "text/plain": [
       "['APT_Detail_Seoul_2024.csv',\n",
       " 'APT_Detail_Seoul_2024.xlsx',\n",
       " 'APT_List.pkl',\n",
       " 'APT_Price_Seoul(2020~2024).xlsx',\n",
       " 'APT_Price_Seoul_2020.csv',\n",
       " 'APT_Price_Seoul_2021.csv',\n",
       " 'APT_Price_Seoul_2022.csv',\n",
       " 'APT_Price_Seoul_2023.csv',\n",
       " 'APT_Price_Seoul_2024.csv',\n",
       " 'NA_Sample.xlsx']"
      ]
     },
     "execution_count": 4,
     "metadata": {},
     "output_type": "execute_result"
    }
   ],
   "source": [
    "os.listdir()"
   ]
  },
  {
   "cell_type": "code",
   "execution_count": 5,
   "id": "b05380ce-9e86-4375-be78-dc2bdcd325c0",
   "metadata": {},
   "outputs": [],
   "source": [
    "apt = pd.read_pickle('APT_List.pkl')"
   ]
  },
  {
   "cell_type": "code",
   "execution_count": 6,
   "id": "23a21a0d-7cf7-4af9-bd2a-4b202f6dac3e",
   "metadata": {
    "collapsed": true,
    "jupyter": {
     "outputs_hidden": true
    }
   },
   "outputs": [
    {
     "data": {
      "text/html": [
       "<div>\n",
       "<style scoped>\n",
       "    .dataframe tbody tr th:only-of-type {\n",
       "        vertical-align: middle;\n",
       "    }\n",
       "\n",
       "    .dataframe tbody tr th {\n",
       "        vertical-align: top;\n",
       "    }\n",
       "\n",
       "    .dataframe thead th {\n",
       "        text-align: right;\n",
       "    }\n",
       "</style>\n",
       "<table border=\"1\" class=\"dataframe\">\n",
       "  <thead>\n",
       "    <tr style=\"text-align: right;\">\n",
       "      <th></th>\n",
       "      <th>거래금액</th>\n",
       "      <th>지역코드</th>\n",
       "      <th>아파트</th>\n",
       "      <th>시도명</th>\n",
       "      <th>시군구</th>\n",
       "      <th>법정동</th>\n",
       "      <th>지번</th>\n",
       "      <th>건축년도</th>\n",
       "      <th>년</th>\n",
       "      <th>월</th>\n",
       "      <th>일</th>\n",
       "      <th>등기일자</th>\n",
       "      <th>매도자</th>\n",
       "      <th>전용면적</th>\n",
       "      <th>층</th>\n",
       "    </tr>\n",
       "  </thead>\n",
       "  <tbody>\n",
       "    <tr>\n",
       "      <th>0</th>\n",
       "      <td>100500</td>\n",
       "      <td>11680</td>\n",
       "      <td>삼익대청아파트</td>\n",
       "      <td>서울특별시</td>\n",
       "      <td>강남구</td>\n",
       "      <td>개포동</td>\n",
       "      <td>12</td>\n",
       "      <td>1992</td>\n",
       "      <td>2020</td>\n",
       "      <td>1</td>\n",
       "      <td>31</td>\n",
       "      <td>NaT</td>\n",
       "      <td>NaN</td>\n",
       "      <td>39.53</td>\n",
       "      <td>13</td>\n",
       "    </tr>\n",
       "    <tr>\n",
       "      <th>1</th>\n",
       "      <td>203000</td>\n",
       "      <td>11680</td>\n",
       "      <td>개포자이</td>\n",
       "      <td>서울특별시</td>\n",
       "      <td>강남구</td>\n",
       "      <td>개포동</td>\n",
       "      <td>12-2</td>\n",
       "      <td>2004</td>\n",
       "      <td>2020</td>\n",
       "      <td>1</td>\n",
       "      <td>6</td>\n",
       "      <td>NaT</td>\n",
       "      <td>NaN</td>\n",
       "      <td>134.30</td>\n",
       "      <td>17</td>\n",
       "    </tr>\n",
       "    <tr>\n",
       "      <th>2</th>\n",
       "      <td>180000</td>\n",
       "      <td>11680</td>\n",
       "      <td>개포주공6단지</td>\n",
       "      <td>서울특별시</td>\n",
       "      <td>강남구</td>\n",
       "      <td>개포동</td>\n",
       "      <td>185</td>\n",
       "      <td>1983</td>\n",
       "      <td>2020</td>\n",
       "      <td>1</td>\n",
       "      <td>14</td>\n",
       "      <td>NaT</td>\n",
       "      <td>NaN</td>\n",
       "      <td>60.13</td>\n",
       "      <td>14</td>\n",
       "    </tr>\n",
       "    <tr>\n",
       "      <th>3</th>\n",
       "      <td>285000</td>\n",
       "      <td>11680</td>\n",
       "      <td>디에이치아너힐즈</td>\n",
       "      <td>서울특별시</td>\n",
       "      <td>강남구</td>\n",
       "      <td>개포동</td>\n",
       "      <td>1281</td>\n",
       "      <td>2019</td>\n",
       "      <td>2020</td>\n",
       "      <td>1</td>\n",
       "      <td>4</td>\n",
       "      <td>NaT</td>\n",
       "      <td>NaN</td>\n",
       "      <td>94.29</td>\n",
       "      <td>12</td>\n",
       "    </tr>\n",
       "    <tr>\n",
       "      <th>4</th>\n",
       "      <td>171000</td>\n",
       "      <td>11680</td>\n",
       "      <td>개포주공7단지</td>\n",
       "      <td>서울특별시</td>\n",
       "      <td>강남구</td>\n",
       "      <td>개포동</td>\n",
       "      <td>185</td>\n",
       "      <td>1983</td>\n",
       "      <td>2020</td>\n",
       "      <td>1</td>\n",
       "      <td>12</td>\n",
       "      <td>NaT</td>\n",
       "      <td>NaN</td>\n",
       "      <td>60.76</td>\n",
       "      <td>2</td>\n",
       "    </tr>\n",
       "  </tbody>\n",
       "</table>\n",
       "</div>"
      ],
      "text/plain": [
       "     거래금액   지역코드       아파트    시도명  시군구  법정동    지번  건축년도     년  월   일 등기일자  \\\n",
       "0  100500  11680   삼익대청아파트  서울특별시  강남구  개포동    12  1992  2020  1  31  NaT   \n",
       "1  203000  11680      개포자이  서울특별시  강남구  개포동  12-2  2004  2020  1   6  NaT   \n",
       "2  180000  11680   개포주공6단지  서울특별시  강남구  개포동   185  1983  2020  1  14  NaT   \n",
       "3  285000  11680  디에이치아너힐즈  서울특별시  강남구  개포동  1281  2019  2020  1   4  NaT   \n",
       "4  171000  11680   개포주공7단지  서울특별시  강남구  개포동   185  1983  2020  1  12  NaT   \n",
       "\n",
       "   매도자    전용면적   층  \n",
       "0  NaN   39.53  13  \n",
       "1  NaN  134.30  17  \n",
       "2  NaN   60.13  14  \n",
       "3  NaN   94.29  12  \n",
       "4  NaN   60.76   2  "
      ]
     },
     "execution_count": 6,
     "metadata": {},
     "output_type": "execute_result"
    }
   ],
   "source": [
    "apt.head()"
   ]
  },
  {
   "cell_type": "code",
   "execution_count": 7,
   "id": "1a45c3ed-9bce-4cc5-95b6-038568454614",
   "metadata": {},
   "outputs": [
    {
     "name": "stdout",
     "output_type": "stream",
     "text": [
      "<class 'pandas.core.frame.DataFrame'>\n",
      "RangeIndex: 231904 entries, 0 to 231903\n",
      "Data columns (total 15 columns):\n",
      " #   Column  Non-Null Count   Dtype         \n",
      "---  ------  --------------   -----         \n",
      " 0   거래금액    231904 non-null  int64         \n",
      " 1   지역코드    231904 non-null  int64         \n",
      " 2   아파트     231904 non-null  object        \n",
      " 3   시도명     231904 non-null  object        \n",
      " 4   시군구     231904 non-null  object        \n",
      " 5   법정동     231904 non-null  object        \n",
      " 6   지번      231904 non-null  object        \n",
      " 7   건축년도    231904 non-null  int64         \n",
      " 8   년       231904 non-null  int64         \n",
      " 9   월       231904 non-null  int64         \n",
      " 10  일       231904 non-null  int64         \n",
      " 11  등기일자    79535 non-null   datetime64[ns]\n",
      " 12  매도자     56193 non-null   object        \n",
      " 13  전용면적    231904 non-null  float64       \n",
      " 14  층       231904 non-null  int64         \n",
      "dtypes: datetime64[ns](1), float64(1), int64(7), object(6)\n",
      "memory usage: 26.5+ MB\n"
     ]
    }
   ],
   "source": [
    "apt.info()"
   ]
  },
  {
   "cell_type": "code",
   "execution_count": 8,
   "id": "a76686b5-b81e-4f49-8da5-ce184a49db4c",
   "metadata": {
    "collapsed": true,
    "jupyter": {
     "outputs_hidden": true
    }
   },
   "outputs": [
    {
     "data": {
      "text/html": [
       "<div>\n",
       "<style scoped>\n",
       "    .dataframe tbody tr th:only-of-type {\n",
       "        vertical-align: middle;\n",
       "    }\n",
       "\n",
       "    .dataframe tbody tr th {\n",
       "        vertical-align: top;\n",
       "    }\n",
       "\n",
       "    .dataframe thead th {\n",
       "        text-align: right;\n",
       "    }\n",
       "</style>\n",
       "<table border=\"1\" class=\"dataframe\">\n",
       "  <thead>\n",
       "    <tr style=\"text-align: right;\">\n",
       "      <th></th>\n",
       "      <th>거래금액</th>\n",
       "      <th>지역코드</th>\n",
       "      <th>아파트</th>\n",
       "      <th>시도명</th>\n",
       "      <th>시군구</th>\n",
       "      <th>법정동</th>\n",
       "      <th>지번</th>\n",
       "      <th>건축년도</th>\n",
       "      <th>년</th>\n",
       "      <th>월</th>\n",
       "      <th>일</th>\n",
       "      <th>등기일자</th>\n",
       "      <th>매도자</th>\n",
       "      <th>전용면적</th>\n",
       "      <th>층</th>\n",
       "    </tr>\n",
       "  </thead>\n",
       "  <tbody>\n",
       "    <tr>\n",
       "      <th>0</th>\n",
       "      <td>False</td>\n",
       "      <td>False</td>\n",
       "      <td>False</td>\n",
       "      <td>False</td>\n",
       "      <td>False</td>\n",
       "      <td>False</td>\n",
       "      <td>False</td>\n",
       "      <td>False</td>\n",
       "      <td>False</td>\n",
       "      <td>False</td>\n",
       "      <td>False</td>\n",
       "      <td>True</td>\n",
       "      <td>True</td>\n",
       "      <td>False</td>\n",
       "      <td>False</td>\n",
       "    </tr>\n",
       "    <tr>\n",
       "      <th>1</th>\n",
       "      <td>False</td>\n",
       "      <td>False</td>\n",
       "      <td>False</td>\n",
       "      <td>False</td>\n",
       "      <td>False</td>\n",
       "      <td>False</td>\n",
       "      <td>False</td>\n",
       "      <td>False</td>\n",
       "      <td>False</td>\n",
       "      <td>False</td>\n",
       "      <td>False</td>\n",
       "      <td>True</td>\n",
       "      <td>True</td>\n",
       "      <td>False</td>\n",
       "      <td>False</td>\n",
       "    </tr>\n",
       "    <tr>\n",
       "      <th>2</th>\n",
       "      <td>False</td>\n",
       "      <td>False</td>\n",
       "      <td>False</td>\n",
       "      <td>False</td>\n",
       "      <td>False</td>\n",
       "      <td>False</td>\n",
       "      <td>False</td>\n",
       "      <td>False</td>\n",
       "      <td>False</td>\n",
       "      <td>False</td>\n",
       "      <td>False</td>\n",
       "      <td>True</td>\n",
       "      <td>True</td>\n",
       "      <td>False</td>\n",
       "      <td>False</td>\n",
       "    </tr>\n",
       "    <tr>\n",
       "      <th>3</th>\n",
       "      <td>False</td>\n",
       "      <td>False</td>\n",
       "      <td>False</td>\n",
       "      <td>False</td>\n",
       "      <td>False</td>\n",
       "      <td>False</td>\n",
       "      <td>False</td>\n",
       "      <td>False</td>\n",
       "      <td>False</td>\n",
       "      <td>False</td>\n",
       "      <td>False</td>\n",
       "      <td>True</td>\n",
       "      <td>True</td>\n",
       "      <td>False</td>\n",
       "      <td>False</td>\n",
       "    </tr>\n",
       "    <tr>\n",
       "      <th>4</th>\n",
       "      <td>False</td>\n",
       "      <td>False</td>\n",
       "      <td>False</td>\n",
       "      <td>False</td>\n",
       "      <td>False</td>\n",
       "      <td>False</td>\n",
       "      <td>False</td>\n",
       "      <td>False</td>\n",
       "      <td>False</td>\n",
       "      <td>False</td>\n",
       "      <td>False</td>\n",
       "      <td>True</td>\n",
       "      <td>True</td>\n",
       "      <td>False</td>\n",
       "      <td>False</td>\n",
       "    </tr>\n",
       "    <tr>\n",
       "      <th>...</th>\n",
       "      <td>...</td>\n",
       "      <td>...</td>\n",
       "      <td>...</td>\n",
       "      <td>...</td>\n",
       "      <td>...</td>\n",
       "      <td>...</td>\n",
       "      <td>...</td>\n",
       "      <td>...</td>\n",
       "      <td>...</td>\n",
       "      <td>...</td>\n",
       "      <td>...</td>\n",
       "      <td>...</td>\n",
       "      <td>...</td>\n",
       "      <td>...</td>\n",
       "      <td>...</td>\n",
       "    </tr>\n",
       "    <tr>\n",
       "      <th>231899</th>\n",
       "      <td>False</td>\n",
       "      <td>False</td>\n",
       "      <td>False</td>\n",
       "      <td>False</td>\n",
       "      <td>False</td>\n",
       "      <td>False</td>\n",
       "      <td>False</td>\n",
       "      <td>False</td>\n",
       "      <td>False</td>\n",
       "      <td>False</td>\n",
       "      <td>False</td>\n",
       "      <td>False</td>\n",
       "      <td>False</td>\n",
       "      <td>False</td>\n",
       "      <td>False</td>\n",
       "    </tr>\n",
       "    <tr>\n",
       "      <th>231900</th>\n",
       "      <td>False</td>\n",
       "      <td>False</td>\n",
       "      <td>False</td>\n",
       "      <td>False</td>\n",
       "      <td>False</td>\n",
       "      <td>False</td>\n",
       "      <td>False</td>\n",
       "      <td>False</td>\n",
       "      <td>False</td>\n",
       "      <td>False</td>\n",
       "      <td>False</td>\n",
       "      <td>False</td>\n",
       "      <td>False</td>\n",
       "      <td>False</td>\n",
       "      <td>False</td>\n",
       "    </tr>\n",
       "    <tr>\n",
       "      <th>231901</th>\n",
       "      <td>False</td>\n",
       "      <td>False</td>\n",
       "      <td>False</td>\n",
       "      <td>False</td>\n",
       "      <td>False</td>\n",
       "      <td>False</td>\n",
       "      <td>False</td>\n",
       "      <td>False</td>\n",
       "      <td>False</td>\n",
       "      <td>False</td>\n",
       "      <td>False</td>\n",
       "      <td>False</td>\n",
       "      <td>False</td>\n",
       "      <td>False</td>\n",
       "      <td>False</td>\n",
       "    </tr>\n",
       "    <tr>\n",
       "      <th>231902</th>\n",
       "      <td>False</td>\n",
       "      <td>False</td>\n",
       "      <td>False</td>\n",
       "      <td>False</td>\n",
       "      <td>False</td>\n",
       "      <td>False</td>\n",
       "      <td>False</td>\n",
       "      <td>False</td>\n",
       "      <td>False</td>\n",
       "      <td>False</td>\n",
       "      <td>False</td>\n",
       "      <td>True</td>\n",
       "      <td>False</td>\n",
       "      <td>False</td>\n",
       "      <td>False</td>\n",
       "    </tr>\n",
       "    <tr>\n",
       "      <th>231903</th>\n",
       "      <td>False</td>\n",
       "      <td>False</td>\n",
       "      <td>False</td>\n",
       "      <td>False</td>\n",
       "      <td>False</td>\n",
       "      <td>False</td>\n",
       "      <td>False</td>\n",
       "      <td>False</td>\n",
       "      <td>False</td>\n",
       "      <td>False</td>\n",
       "      <td>False</td>\n",
       "      <td>True</td>\n",
       "      <td>False</td>\n",
       "      <td>False</td>\n",
       "      <td>False</td>\n",
       "    </tr>\n",
       "  </tbody>\n",
       "</table>\n",
       "<p>231904 rows × 15 columns</p>\n",
       "</div>"
      ],
      "text/plain": [
       "         거래금액   지역코드    아파트    시도명    시군구    법정동     지번   건축년도      년      월  \\\n",
       "0       False  False  False  False  False  False  False  False  False  False   \n",
       "1       False  False  False  False  False  False  False  False  False  False   \n",
       "2       False  False  False  False  False  False  False  False  False  False   \n",
       "3       False  False  False  False  False  False  False  False  False  False   \n",
       "4       False  False  False  False  False  False  False  False  False  False   \n",
       "...       ...    ...    ...    ...    ...    ...    ...    ...    ...    ...   \n",
       "231899  False  False  False  False  False  False  False  False  False  False   \n",
       "231900  False  False  False  False  False  False  False  False  False  False   \n",
       "231901  False  False  False  False  False  False  False  False  False  False   \n",
       "231902  False  False  False  False  False  False  False  False  False  False   \n",
       "231903  False  False  False  False  False  False  False  False  False  False   \n",
       "\n",
       "            일   등기일자    매도자   전용면적      층  \n",
       "0       False   True   True  False  False  \n",
       "1       False   True   True  False  False  \n",
       "2       False   True   True  False  False  \n",
       "3       False   True   True  False  False  \n",
       "4       False   True   True  False  False  \n",
       "...       ...    ...    ...    ...    ...  \n",
       "231899  False  False  False  False  False  \n",
       "231900  False  False  False  False  False  \n",
       "231901  False  False  False  False  False  \n",
       "231902  False   True  False  False  False  \n",
       "231903  False   True  False  False  False  \n",
       "\n",
       "[231904 rows x 15 columns]"
      ]
     },
     "execution_count": 8,
     "metadata": {},
     "output_type": "execute_result"
    }
   ],
   "source": [
    "apt.isna()"
   ]
  },
  {
   "cell_type": "code",
   "execution_count": 9,
   "id": "b1853e98-3fe8-4cb8-ab9c-7b6d61309b33",
   "metadata": {},
   "outputs": [
    {
     "data": {
      "text/plain": [
       "거래금액         0\n",
       "지역코드         0\n",
       "아파트          0\n",
       "시도명          0\n",
       "시군구          0\n",
       "법정동          0\n",
       "지번           0\n",
       "건축년도         0\n",
       "년            0\n",
       "월            0\n",
       "일            0\n",
       "등기일자    152369\n",
       "매도자     175711\n",
       "전용면적         0\n",
       "층            0\n",
       "dtype: int64"
      ]
     },
     "execution_count": 9,
     "metadata": {},
     "output_type": "execute_result"
    }
   ],
   "source": [
    "apt.isna().sum()"
   ]
  },
  {
   "cell_type": "code",
   "execution_count": 11,
   "id": "797972c1-90aa-4ffa-8c2e-e89023d7e67b",
   "metadata": {},
   "outputs": [
    {
     "data": {
      "text/plain": [
       "거래금액     0.000000\n",
       "지역코드     0.000000\n",
       "아파트      0.000000\n",
       "시도명      0.000000\n",
       "시군구      0.000000\n",
       "법정동      0.000000\n",
       "지번       0.000000\n",
       "건축년도     0.000000\n",
       "년        0.000000\n",
       "월        0.000000\n",
       "일        0.000000\n",
       "등기일자    65.703481\n",
       "매도자     75.768853\n",
       "전용면적     0.000000\n",
       "층        0.000000\n",
       "dtype: float64"
      ]
     },
     "execution_count": 11,
     "metadata": {},
     "output_type": "execute_result"
    }
   ],
   "source": [
    "apt.isna().mean() * 100"
   ]
  },
  {
   "cell_type": "code",
   "execution_count": 12,
   "id": "396b8d93-48b7-49a7-adea-d2a789871d2f",
   "metadata": {},
   "outputs": [
    {
     "data": {
      "text/html": [
       "<div>\n",
       "<style scoped>\n",
       "    .dataframe tbody tr th:only-of-type {\n",
       "        vertical-align: middle;\n",
       "    }\n",
       "\n",
       "    .dataframe tbody tr th {\n",
       "        vertical-align: top;\n",
       "    }\n",
       "\n",
       "    .dataframe thead th {\n",
       "        text-align: right;\n",
       "    }\n",
       "</style>\n",
       "<table border=\"1\" class=\"dataframe\">\n",
       "  <thead>\n",
       "    <tr style=\"text-align: right;\">\n",
       "      <th></th>\n",
       "      <th>거래금액</th>\n",
       "      <th>지역코드</th>\n",
       "      <th>아파트</th>\n",
       "      <th>시도명</th>\n",
       "      <th>시군구</th>\n",
       "      <th>법정동</th>\n",
       "      <th>지번</th>\n",
       "      <th>건축년도</th>\n",
       "      <th>년</th>\n",
       "      <th>월</th>\n",
       "      <th>일</th>\n",
       "      <th>등기일자</th>\n",
       "      <th>매도자</th>\n",
       "      <th>전용면적</th>\n",
       "      <th>층</th>\n",
       "    </tr>\n",
       "  </thead>\n",
       "  <tbody>\n",
       "    <tr>\n",
       "      <th>0</th>\n",
       "      <td>100500</td>\n",
       "      <td>11680</td>\n",
       "      <td>삼익대청아파트</td>\n",
       "      <td>서울특별시</td>\n",
       "      <td>강남구</td>\n",
       "      <td>개포동</td>\n",
       "      <td>12</td>\n",
       "      <td>1992</td>\n",
       "      <td>2020</td>\n",
       "      <td>1</td>\n",
       "      <td>31</td>\n",
       "      <td>NaT</td>\n",
       "      <td>NaN</td>\n",
       "      <td>39.53</td>\n",
       "      <td>13</td>\n",
       "    </tr>\n",
       "    <tr>\n",
       "      <th>1</th>\n",
       "      <td>203000</td>\n",
       "      <td>11680</td>\n",
       "      <td>개포자이</td>\n",
       "      <td>서울특별시</td>\n",
       "      <td>강남구</td>\n",
       "      <td>개포동</td>\n",
       "      <td>12-2</td>\n",
       "      <td>2004</td>\n",
       "      <td>2020</td>\n",
       "      <td>1</td>\n",
       "      <td>6</td>\n",
       "      <td>NaT</td>\n",
       "      <td>NaN</td>\n",
       "      <td>134.30</td>\n",
       "      <td>17</td>\n",
       "    </tr>\n",
       "    <tr>\n",
       "      <th>2</th>\n",
       "      <td>180000</td>\n",
       "      <td>11680</td>\n",
       "      <td>개포주공6단지</td>\n",
       "      <td>서울특별시</td>\n",
       "      <td>강남구</td>\n",
       "      <td>개포동</td>\n",
       "      <td>185</td>\n",
       "      <td>1983</td>\n",
       "      <td>2020</td>\n",
       "      <td>1</td>\n",
       "      <td>14</td>\n",
       "      <td>NaT</td>\n",
       "      <td>NaN</td>\n",
       "      <td>60.13</td>\n",
       "      <td>14</td>\n",
       "    </tr>\n",
       "    <tr>\n",
       "      <th>3</th>\n",
       "      <td>285000</td>\n",
       "      <td>11680</td>\n",
       "      <td>디에이치아너힐즈</td>\n",
       "      <td>서울특별시</td>\n",
       "      <td>강남구</td>\n",
       "      <td>개포동</td>\n",
       "      <td>1281</td>\n",
       "      <td>2019</td>\n",
       "      <td>2020</td>\n",
       "      <td>1</td>\n",
       "      <td>4</td>\n",
       "      <td>NaT</td>\n",
       "      <td>NaN</td>\n",
       "      <td>94.29</td>\n",
       "      <td>12</td>\n",
       "    </tr>\n",
       "    <tr>\n",
       "      <th>4</th>\n",
       "      <td>171000</td>\n",
       "      <td>11680</td>\n",
       "      <td>개포주공7단지</td>\n",
       "      <td>서울특별시</td>\n",
       "      <td>강남구</td>\n",
       "      <td>개포동</td>\n",
       "      <td>185</td>\n",
       "      <td>1983</td>\n",
       "      <td>2020</td>\n",
       "      <td>1</td>\n",
       "      <td>12</td>\n",
       "      <td>NaT</td>\n",
       "      <td>NaN</td>\n",
       "      <td>60.76</td>\n",
       "      <td>2</td>\n",
       "    </tr>\n",
       "    <tr>\n",
       "      <th>...</th>\n",
       "      <td>...</td>\n",
       "      <td>...</td>\n",
       "      <td>...</td>\n",
       "      <td>...</td>\n",
       "      <td>...</td>\n",
       "      <td>...</td>\n",
       "      <td>...</td>\n",
       "      <td>...</td>\n",
       "      <td>...</td>\n",
       "      <td>...</td>\n",
       "      <td>...</td>\n",
       "      <td>...</td>\n",
       "      <td>...</td>\n",
       "      <td>...</td>\n",
       "      <td>...</td>\n",
       "    </tr>\n",
       "    <tr>\n",
       "      <th>231896</th>\n",
       "      <td>66500</td>\n",
       "      <td>11260</td>\n",
       "      <td>한신아파트상가동유치원동(103~109)</td>\n",
       "      <td>서울특별시</td>\n",
       "      <td>중랑구</td>\n",
       "      <td>중화동</td>\n",
       "      <td>450</td>\n",
       "      <td>1997</td>\n",
       "      <td>2024</td>\n",
       "      <td>11</td>\n",
       "      <td>9</td>\n",
       "      <td>NaT</td>\n",
       "      <td>개인</td>\n",
       "      <td>59.76</td>\n",
       "      <td>17</td>\n",
       "    </tr>\n",
       "    <tr>\n",
       "      <th>231897</th>\n",
       "      <td>59500</td>\n",
       "      <td>11260</td>\n",
       "      <td>한신아파트상가동유치원동(103~109)</td>\n",
       "      <td>서울특별시</td>\n",
       "      <td>중랑구</td>\n",
       "      <td>중화동</td>\n",
       "      <td>450</td>\n",
       "      <td>1997</td>\n",
       "      <td>2024</td>\n",
       "      <td>11</td>\n",
       "      <td>8</td>\n",
       "      <td>NaT</td>\n",
       "      <td>개인</td>\n",
       "      <td>59.76</td>\n",
       "      <td>1</td>\n",
       "    </tr>\n",
       "    <tr>\n",
       "      <th>231898</th>\n",
       "      <td>68500</td>\n",
       "      <td>11260</td>\n",
       "      <td>한신아파트상가동유치원동(103~109)</td>\n",
       "      <td>서울특별시</td>\n",
       "      <td>중랑구</td>\n",
       "      <td>중화동</td>\n",
       "      <td>450</td>\n",
       "      <td>1997</td>\n",
       "      <td>2024</td>\n",
       "      <td>11</td>\n",
       "      <td>14</td>\n",
       "      <td>NaT</td>\n",
       "      <td>개인</td>\n",
       "      <td>59.76</td>\n",
       "      <td>15</td>\n",
       "    </tr>\n",
       "    <tr>\n",
       "      <th>231902</th>\n",
       "      <td>67000</td>\n",
       "      <td>11260</td>\n",
       "      <td>한신아파트상가동유치원동(102~102)</td>\n",
       "      <td>서울특별시</td>\n",
       "      <td>중랑구</td>\n",
       "      <td>중화동</td>\n",
       "      <td>450</td>\n",
       "      <td>1998</td>\n",
       "      <td>2024</td>\n",
       "      <td>11</td>\n",
       "      <td>2</td>\n",
       "      <td>NaT</td>\n",
       "      <td>개인</td>\n",
       "      <td>59.76</td>\n",
       "      <td>9</td>\n",
       "    </tr>\n",
       "    <tr>\n",
       "      <th>231903</th>\n",
       "      <td>11000</td>\n",
       "      <td>11260</td>\n",
       "      <td>범양프레체</td>\n",
       "      <td>서울특별시</td>\n",
       "      <td>중랑구</td>\n",
       "      <td>중화동</td>\n",
       "      <td>208-4</td>\n",
       "      <td>2012</td>\n",
       "      <td>2024</td>\n",
       "      <td>12</td>\n",
       "      <td>7</td>\n",
       "      <td>NaT</td>\n",
       "      <td>개인</td>\n",
       "      <td>17.94</td>\n",
       "      <td>15</td>\n",
       "    </tr>\n",
       "  </tbody>\n",
       "</table>\n",
       "<p>152369 rows × 15 columns</p>\n",
       "</div>"
      ],
      "text/plain": [
       "          거래금액   지역코드                    아파트    시도명  시군구  법정동     지번  건축년도  \\\n",
       "0       100500  11680                삼익대청아파트  서울특별시  강남구  개포동     12  1992   \n",
       "1       203000  11680                   개포자이  서울특별시  강남구  개포동   12-2  2004   \n",
       "2       180000  11680                개포주공6단지  서울특별시  강남구  개포동    185  1983   \n",
       "3       285000  11680               디에이치아너힐즈  서울특별시  강남구  개포동   1281  2019   \n",
       "4       171000  11680                개포주공7단지  서울특별시  강남구  개포동    185  1983   \n",
       "...        ...    ...                    ...    ...  ...  ...    ...   ...   \n",
       "231896   66500  11260  한신아파트상가동유치원동(103~109)  서울특별시  중랑구  중화동    450  1997   \n",
       "231897   59500  11260  한신아파트상가동유치원동(103~109)  서울특별시  중랑구  중화동    450  1997   \n",
       "231898   68500  11260  한신아파트상가동유치원동(103~109)  서울특별시  중랑구  중화동    450  1997   \n",
       "231902   67000  11260  한신아파트상가동유치원동(102~102)  서울특별시  중랑구  중화동    450  1998   \n",
       "231903   11000  11260                  범양프레체  서울특별시  중랑구  중화동  208-4  2012   \n",
       "\n",
       "           년   월   일 등기일자  매도자    전용면적   층  \n",
       "0       2020   1  31  NaT  NaN   39.53  13  \n",
       "1       2020   1   6  NaT  NaN  134.30  17  \n",
       "2       2020   1  14  NaT  NaN   60.13  14  \n",
       "3       2020   1   4  NaT  NaN   94.29  12  \n",
       "4       2020   1  12  NaT  NaN   60.76   2  \n",
       "...      ...  ..  ..  ...  ...     ...  ..  \n",
       "231896  2024  11   9  NaT   개인   59.76  17  \n",
       "231897  2024  11   8  NaT   개인   59.76   1  \n",
       "231898  2024  11  14  NaT   개인   59.76  15  \n",
       "231902  2024  11   2  NaT   개인   59.76   9  \n",
       "231903  2024  12   7  NaT   개인   17.94  15  \n",
       "\n",
       "[152369 rows x 15 columns]"
      ]
     },
     "execution_count": 12,
     "metadata": {},
     "output_type": "execute_result"
    }
   ],
   "source": [
    "cond = apt['등기일자'].isna()\n",
    "apt.loc[cond, :]"
   ]
  },
  {
   "cell_type": "code",
   "execution_count": 14,
   "id": "d0193f47-2eca-487c-ab88-2480fbdc5ed4",
   "metadata": {},
   "outputs": [
    {
     "data": {
      "text/plain": [
       "0        1900-01-01\n",
       "1        1900-01-01\n",
       "2        1900-01-01\n",
       "3        1900-01-01\n",
       "4        1900-01-01\n",
       "            ...    \n",
       "231899   2024-12-13\n",
       "231900   2024-12-18\n",
       "231901   2024-11-20\n",
       "231902   1900-01-01\n",
       "231903   1900-01-01\n",
       "Name: 등기일자, Length: 231904, dtype: datetime64[ns]"
      ]
     },
     "execution_count": 14,
     "metadata": {},
     "output_type": "execute_result"
    }
   ],
   "source": [
    "apt['등기일자'].fillna(value = '1900-01-01')"
   ]
  },
  {
   "cell_type": "code",
   "execution_count": 15,
   "id": "aef25241-02e5-466b-a366-fe9e07f68848",
   "metadata": {
    "collapsed": true,
    "jupyter": {
     "outputs_hidden": true
    }
   },
   "outputs": [
    {
     "data": {
      "text/html": [
       "<div>\n",
       "<style scoped>\n",
       "    .dataframe tbody tr th:only-of-type {\n",
       "        vertical-align: middle;\n",
       "    }\n",
       "\n",
       "    .dataframe tbody tr th {\n",
       "        vertical-align: top;\n",
       "    }\n",
       "\n",
       "    .dataframe thead th {\n",
       "        text-align: right;\n",
       "    }\n",
       "</style>\n",
       "<table border=\"1\" class=\"dataframe\">\n",
       "  <thead>\n",
       "    <tr style=\"text-align: right;\">\n",
       "      <th></th>\n",
       "      <th>거래금액</th>\n",
       "      <th>지역코드</th>\n",
       "      <th>아파트</th>\n",
       "      <th>시도명</th>\n",
       "      <th>시군구</th>\n",
       "      <th>법정동</th>\n",
       "      <th>지번</th>\n",
       "      <th>건축년도</th>\n",
       "      <th>년</th>\n",
       "      <th>월</th>\n",
       "      <th>일</th>\n",
       "      <th>등기일자</th>\n",
       "      <th>매도자</th>\n",
       "      <th>전용면적</th>\n",
       "      <th>층</th>\n",
       "    </tr>\n",
       "  </thead>\n",
       "  <tbody>\n",
       "    <tr>\n",
       "      <th>175711</th>\n",
       "      <td>219000</td>\n",
       "      <td>11680</td>\n",
       "      <td>디에이치아너힐즈</td>\n",
       "      <td>서울특별시</td>\n",
       "      <td>강남구</td>\n",
       "      <td>개포동</td>\n",
       "      <td>1281</td>\n",
       "      <td>2019</td>\n",
       "      <td>2024</td>\n",
       "      <td>1</td>\n",
       "      <td>30</td>\n",
       "      <td>2024-04-30</td>\n",
       "      <td>개인</td>\n",
       "      <td>59.8732</td>\n",
       "      <td>17</td>\n",
       "    </tr>\n",
       "    <tr>\n",
       "      <th>175712</th>\n",
       "      <td>175000</td>\n",
       "      <td>11680</td>\n",
       "      <td>개포주공7단지</td>\n",
       "      <td>서울특별시</td>\n",
       "      <td>강남구</td>\n",
       "      <td>개포동</td>\n",
       "      <td>185</td>\n",
       "      <td>1983</td>\n",
       "      <td>2024</td>\n",
       "      <td>1</td>\n",
       "      <td>31</td>\n",
       "      <td>2024-03-20</td>\n",
       "      <td>개인</td>\n",
       "      <td>53.4600</td>\n",
       "      <td>5</td>\n",
       "    </tr>\n",
       "    <tr>\n",
       "      <th>175713</th>\n",
       "      <td>200000</td>\n",
       "      <td>11680</td>\n",
       "      <td>래미안블레스티지</td>\n",
       "      <td>서울특별시</td>\n",
       "      <td>강남구</td>\n",
       "      <td>개포동</td>\n",
       "      <td>1280</td>\n",
       "      <td>2019</td>\n",
       "      <td>2024</td>\n",
       "      <td>1</td>\n",
       "      <td>27</td>\n",
       "      <td>2024-02-29</td>\n",
       "      <td>개인</td>\n",
       "      <td>59.9670</td>\n",
       "      <td>9</td>\n",
       "    </tr>\n",
       "    <tr>\n",
       "      <th>175715</th>\n",
       "      <td>282000</td>\n",
       "      <td>11680</td>\n",
       "      <td>현대2</td>\n",
       "      <td>서울특별시</td>\n",
       "      <td>강남구</td>\n",
       "      <td>개포동</td>\n",
       "      <td>654</td>\n",
       "      <td>1986</td>\n",
       "      <td>2024</td>\n",
       "      <td>1</td>\n",
       "      <td>19</td>\n",
       "      <td>2024-05-30</td>\n",
       "      <td>개인</td>\n",
       "      <td>131.8300</td>\n",
       "      <td>1</td>\n",
       "    </tr>\n",
       "    <tr>\n",
       "      <th>175716</th>\n",
       "      <td>260000</td>\n",
       "      <td>11680</td>\n",
       "      <td>현대아파트3</td>\n",
       "      <td>서울특별시</td>\n",
       "      <td>강남구</td>\n",
       "      <td>개포동</td>\n",
       "      <td>177</td>\n",
       "      <td>1986</td>\n",
       "      <td>2024</td>\n",
       "      <td>1</td>\n",
       "      <td>20</td>\n",
       "      <td>2024-03-21</td>\n",
       "      <td>개인</td>\n",
       "      <td>131.8300</td>\n",
       "      <td>6</td>\n",
       "    </tr>\n",
       "    <tr>\n",
       "      <th>...</th>\n",
       "      <td>...</td>\n",
       "      <td>...</td>\n",
       "      <td>...</td>\n",
       "      <td>...</td>\n",
       "      <td>...</td>\n",
       "      <td>...</td>\n",
       "      <td>...</td>\n",
       "      <td>...</td>\n",
       "      <td>...</td>\n",
       "      <td>...</td>\n",
       "      <td>...</td>\n",
       "      <td>...</td>\n",
       "      <td>...</td>\n",
       "      <td>...</td>\n",
       "      <td>...</td>\n",
       "    </tr>\n",
       "    <tr>\n",
       "      <th>231888</th>\n",
       "      <td>64300</td>\n",
       "      <td>11260</td>\n",
       "      <td>한신아파트상가동유치원동(103~109)</td>\n",
       "      <td>서울특별시</td>\n",
       "      <td>중랑구</td>\n",
       "      <td>중화동</td>\n",
       "      <td>450</td>\n",
       "      <td>1997</td>\n",
       "      <td>2024</td>\n",
       "      <td>10</td>\n",
       "      <td>26</td>\n",
       "      <td>2025-01-02</td>\n",
       "      <td>개인</td>\n",
       "      <td>59.7600</td>\n",
       "      <td>7</td>\n",
       "    </tr>\n",
       "    <tr>\n",
       "      <th>231890</th>\n",
       "      <td>63000</td>\n",
       "      <td>11260</td>\n",
       "      <td>한신아파트상가동유치원동(103~109)</td>\n",
       "      <td>서울특별시</td>\n",
       "      <td>중랑구</td>\n",
       "      <td>중화동</td>\n",
       "      <td>450</td>\n",
       "      <td>1997</td>\n",
       "      <td>2024</td>\n",
       "      <td>10</td>\n",
       "      <td>27</td>\n",
       "      <td>2024-11-12</td>\n",
       "      <td>개인</td>\n",
       "      <td>59.7600</td>\n",
       "      <td>25</td>\n",
       "    </tr>\n",
       "    <tr>\n",
       "      <th>231899</th>\n",
       "      <td>74000</td>\n",
       "      <td>11260</td>\n",
       "      <td>한신아파트상가동유치원동(102~102)</td>\n",
       "      <td>서울특별시</td>\n",
       "      <td>중랑구</td>\n",
       "      <td>중화동</td>\n",
       "      <td>450</td>\n",
       "      <td>1998</td>\n",
       "      <td>2024</td>\n",
       "      <td>11</td>\n",
       "      <td>21</td>\n",
       "      <td>2024-12-13</td>\n",
       "      <td>개인</td>\n",
       "      <td>84.0300</td>\n",
       "      <td>11</td>\n",
       "    </tr>\n",
       "    <tr>\n",
       "      <th>231900</th>\n",
       "      <td>50500</td>\n",
       "      <td>11260</td>\n",
       "      <td>삼익아파트.상가동</td>\n",
       "      <td>서울특별시</td>\n",
       "      <td>중랑구</td>\n",
       "      <td>중화동</td>\n",
       "      <td>438</td>\n",
       "      <td>1995</td>\n",
       "      <td>2024</td>\n",
       "      <td>11</td>\n",
       "      <td>13</td>\n",
       "      <td>2024-12-18</td>\n",
       "      <td>개인</td>\n",
       "      <td>59.3400</td>\n",
       "      <td>10</td>\n",
       "    </tr>\n",
       "    <tr>\n",
       "      <th>231901</th>\n",
       "      <td>60000</td>\n",
       "      <td>11260</td>\n",
       "      <td>한신아파트상가동유치원동(103~109)</td>\n",
       "      <td>서울특별시</td>\n",
       "      <td>중랑구</td>\n",
       "      <td>중화동</td>\n",
       "      <td>450</td>\n",
       "      <td>1997</td>\n",
       "      <td>2024</td>\n",
       "      <td>11</td>\n",
       "      <td>18</td>\n",
       "      <td>2024-11-20</td>\n",
       "      <td>개인</td>\n",
       "      <td>59.7600</td>\n",
       "      <td>4</td>\n",
       "    </tr>\n",
       "  </tbody>\n",
       "</table>\n",
       "<p>45636 rows × 15 columns</p>\n",
       "</div>"
      ],
      "text/plain": [
       "          거래금액   지역코드                    아파트    시도명  시군구  법정동    지번  건축년도  \\\n",
       "175711  219000  11680               디에이치아너힐즈  서울특별시  강남구  개포동  1281  2019   \n",
       "175712  175000  11680                개포주공7단지  서울특별시  강남구  개포동   185  1983   \n",
       "175713  200000  11680               래미안블레스티지  서울특별시  강남구  개포동  1280  2019   \n",
       "175715  282000  11680                    현대2  서울특별시  강남구  개포동   654  1986   \n",
       "175716  260000  11680                 현대아파트3  서울특별시  강남구  개포동   177  1986   \n",
       "...        ...    ...                    ...    ...  ...  ...   ...   ...   \n",
       "231888   64300  11260  한신아파트상가동유치원동(103~109)  서울특별시  중랑구  중화동   450  1997   \n",
       "231890   63000  11260  한신아파트상가동유치원동(103~109)  서울특별시  중랑구  중화동   450  1997   \n",
       "231899   74000  11260  한신아파트상가동유치원동(102~102)  서울특별시  중랑구  중화동   450  1998   \n",
       "231900   50500  11260              삼익아파트.상가동  서울특별시  중랑구  중화동   438  1995   \n",
       "231901   60000  11260  한신아파트상가동유치원동(103~109)  서울특별시  중랑구  중화동   450  1997   \n",
       "\n",
       "           년   월   일       등기일자 매도자      전용면적   층  \n",
       "175711  2024   1  30 2024-04-30  개인   59.8732  17  \n",
       "175712  2024   1  31 2024-03-20  개인   53.4600   5  \n",
       "175713  2024   1  27 2024-02-29  개인   59.9670   9  \n",
       "175715  2024   1  19 2024-05-30  개인  131.8300   1  \n",
       "175716  2024   1  20 2024-03-21  개인  131.8300   6  \n",
       "...      ...  ..  ..        ...  ..       ...  ..  \n",
       "231888  2024  10  26 2025-01-02  개인   59.7600   7  \n",
       "231890  2024  10  27 2024-11-12  개인   59.7600  25  \n",
       "231899  2024  11  21 2024-12-13  개인   84.0300  11  \n",
       "231900  2024  11  13 2024-12-18  개인   59.3400  10  \n",
       "231901  2024  11  18 2024-11-20  개인   59.7600   4  \n",
       "\n",
       "[45636 rows x 15 columns]"
      ]
     },
     "execution_count": 15,
     "metadata": {},
     "output_type": "execute_result"
    }
   ],
   "source": [
    "apt.dropna()"
   ]
  },
  {
   "cell_type": "code",
   "execution_count": 16,
   "id": "85224686-28c5-44c5-bd2c-3f3a81ac2c7d",
   "metadata": {
    "collapsed": true,
    "jupyter": {
     "outputs_hidden": true
    }
   },
   "outputs": [
    {
     "data": {
      "text/html": [
       "<div>\n",
       "<style scoped>\n",
       "    .dataframe tbody tr th:only-of-type {\n",
       "        vertical-align: middle;\n",
       "    }\n",
       "\n",
       "    .dataframe tbody tr th {\n",
       "        vertical-align: top;\n",
       "    }\n",
       "\n",
       "    .dataframe thead th {\n",
       "        text-align: right;\n",
       "    }\n",
       "</style>\n",
       "<table border=\"1\" class=\"dataframe\">\n",
       "  <thead>\n",
       "    <tr style=\"text-align: right;\">\n",
       "      <th></th>\n",
       "      <th>거래금액</th>\n",
       "      <th>지역코드</th>\n",
       "      <th>아파트</th>\n",
       "      <th>시도명</th>\n",
       "      <th>시군구</th>\n",
       "      <th>법정동</th>\n",
       "      <th>지번</th>\n",
       "      <th>건축년도</th>\n",
       "      <th>년</th>\n",
       "      <th>월</th>\n",
       "      <th>일</th>\n",
       "      <th>전용면적</th>\n",
       "      <th>층</th>\n",
       "    </tr>\n",
       "  </thead>\n",
       "  <tbody>\n",
       "    <tr>\n",
       "      <th>0</th>\n",
       "      <td>100500</td>\n",
       "      <td>11680</td>\n",
       "      <td>삼익대청아파트</td>\n",
       "      <td>서울특별시</td>\n",
       "      <td>강남구</td>\n",
       "      <td>개포동</td>\n",
       "      <td>12</td>\n",
       "      <td>1992</td>\n",
       "      <td>2020</td>\n",
       "      <td>1</td>\n",
       "      <td>31</td>\n",
       "      <td>39.53</td>\n",
       "      <td>13</td>\n",
       "    </tr>\n",
       "    <tr>\n",
       "      <th>1</th>\n",
       "      <td>203000</td>\n",
       "      <td>11680</td>\n",
       "      <td>개포자이</td>\n",
       "      <td>서울특별시</td>\n",
       "      <td>강남구</td>\n",
       "      <td>개포동</td>\n",
       "      <td>12-2</td>\n",
       "      <td>2004</td>\n",
       "      <td>2020</td>\n",
       "      <td>1</td>\n",
       "      <td>6</td>\n",
       "      <td>134.30</td>\n",
       "      <td>17</td>\n",
       "    </tr>\n",
       "    <tr>\n",
       "      <th>2</th>\n",
       "      <td>180000</td>\n",
       "      <td>11680</td>\n",
       "      <td>개포주공6단지</td>\n",
       "      <td>서울특별시</td>\n",
       "      <td>강남구</td>\n",
       "      <td>개포동</td>\n",
       "      <td>185</td>\n",
       "      <td>1983</td>\n",
       "      <td>2020</td>\n",
       "      <td>1</td>\n",
       "      <td>14</td>\n",
       "      <td>60.13</td>\n",
       "      <td>14</td>\n",
       "    </tr>\n",
       "    <tr>\n",
       "      <th>3</th>\n",
       "      <td>285000</td>\n",
       "      <td>11680</td>\n",
       "      <td>디에이치아너힐즈</td>\n",
       "      <td>서울특별시</td>\n",
       "      <td>강남구</td>\n",
       "      <td>개포동</td>\n",
       "      <td>1281</td>\n",
       "      <td>2019</td>\n",
       "      <td>2020</td>\n",
       "      <td>1</td>\n",
       "      <td>4</td>\n",
       "      <td>94.29</td>\n",
       "      <td>12</td>\n",
       "    </tr>\n",
       "    <tr>\n",
       "      <th>4</th>\n",
       "      <td>171000</td>\n",
       "      <td>11680</td>\n",
       "      <td>개포주공7단지</td>\n",
       "      <td>서울특별시</td>\n",
       "      <td>강남구</td>\n",
       "      <td>개포동</td>\n",
       "      <td>185</td>\n",
       "      <td>1983</td>\n",
       "      <td>2020</td>\n",
       "      <td>1</td>\n",
       "      <td>12</td>\n",
       "      <td>60.76</td>\n",
       "      <td>2</td>\n",
       "    </tr>\n",
       "    <tr>\n",
       "      <th>...</th>\n",
       "      <td>...</td>\n",
       "      <td>...</td>\n",
       "      <td>...</td>\n",
       "      <td>...</td>\n",
       "      <td>...</td>\n",
       "      <td>...</td>\n",
       "      <td>...</td>\n",
       "      <td>...</td>\n",
       "      <td>...</td>\n",
       "      <td>...</td>\n",
       "      <td>...</td>\n",
       "      <td>...</td>\n",
       "      <td>...</td>\n",
       "    </tr>\n",
       "    <tr>\n",
       "      <th>231899</th>\n",
       "      <td>74000</td>\n",
       "      <td>11260</td>\n",
       "      <td>한신아파트상가동유치원동(102~102)</td>\n",
       "      <td>서울특별시</td>\n",
       "      <td>중랑구</td>\n",
       "      <td>중화동</td>\n",
       "      <td>450</td>\n",
       "      <td>1998</td>\n",
       "      <td>2024</td>\n",
       "      <td>11</td>\n",
       "      <td>21</td>\n",
       "      <td>84.03</td>\n",
       "      <td>11</td>\n",
       "    </tr>\n",
       "    <tr>\n",
       "      <th>231900</th>\n",
       "      <td>50500</td>\n",
       "      <td>11260</td>\n",
       "      <td>삼익아파트.상가동</td>\n",
       "      <td>서울특별시</td>\n",
       "      <td>중랑구</td>\n",
       "      <td>중화동</td>\n",
       "      <td>438</td>\n",
       "      <td>1995</td>\n",
       "      <td>2024</td>\n",
       "      <td>11</td>\n",
       "      <td>13</td>\n",
       "      <td>59.34</td>\n",
       "      <td>10</td>\n",
       "    </tr>\n",
       "    <tr>\n",
       "      <th>231901</th>\n",
       "      <td>60000</td>\n",
       "      <td>11260</td>\n",
       "      <td>한신아파트상가동유치원동(103~109)</td>\n",
       "      <td>서울특별시</td>\n",
       "      <td>중랑구</td>\n",
       "      <td>중화동</td>\n",
       "      <td>450</td>\n",
       "      <td>1997</td>\n",
       "      <td>2024</td>\n",
       "      <td>11</td>\n",
       "      <td>18</td>\n",
       "      <td>59.76</td>\n",
       "      <td>4</td>\n",
       "    </tr>\n",
       "    <tr>\n",
       "      <th>231902</th>\n",
       "      <td>67000</td>\n",
       "      <td>11260</td>\n",
       "      <td>한신아파트상가동유치원동(102~102)</td>\n",
       "      <td>서울특별시</td>\n",
       "      <td>중랑구</td>\n",
       "      <td>중화동</td>\n",
       "      <td>450</td>\n",
       "      <td>1998</td>\n",
       "      <td>2024</td>\n",
       "      <td>11</td>\n",
       "      <td>2</td>\n",
       "      <td>59.76</td>\n",
       "      <td>9</td>\n",
       "    </tr>\n",
       "    <tr>\n",
       "      <th>231903</th>\n",
       "      <td>11000</td>\n",
       "      <td>11260</td>\n",
       "      <td>범양프레체</td>\n",
       "      <td>서울특별시</td>\n",
       "      <td>중랑구</td>\n",
       "      <td>중화동</td>\n",
       "      <td>208-4</td>\n",
       "      <td>2012</td>\n",
       "      <td>2024</td>\n",
       "      <td>12</td>\n",
       "      <td>7</td>\n",
       "      <td>17.94</td>\n",
       "      <td>15</td>\n",
       "    </tr>\n",
       "  </tbody>\n",
       "</table>\n",
       "<p>231904 rows × 13 columns</p>\n",
       "</div>"
      ],
      "text/plain": [
       "          거래금액   지역코드                    아파트    시도명  시군구  법정동     지번  건축년도  \\\n",
       "0       100500  11680                삼익대청아파트  서울특별시  강남구  개포동     12  1992   \n",
       "1       203000  11680                   개포자이  서울특별시  강남구  개포동   12-2  2004   \n",
       "2       180000  11680                개포주공6단지  서울특별시  강남구  개포동    185  1983   \n",
       "3       285000  11680               디에이치아너힐즈  서울특별시  강남구  개포동   1281  2019   \n",
       "4       171000  11680                개포주공7단지  서울특별시  강남구  개포동    185  1983   \n",
       "...        ...    ...                    ...    ...  ...  ...    ...   ...   \n",
       "231899   74000  11260  한신아파트상가동유치원동(102~102)  서울특별시  중랑구  중화동    450  1998   \n",
       "231900   50500  11260              삼익아파트.상가동  서울특별시  중랑구  중화동    438  1995   \n",
       "231901   60000  11260  한신아파트상가동유치원동(103~109)  서울특별시  중랑구  중화동    450  1997   \n",
       "231902   67000  11260  한신아파트상가동유치원동(102~102)  서울특별시  중랑구  중화동    450  1998   \n",
       "231903   11000  11260                  범양프레체  서울특별시  중랑구  중화동  208-4  2012   \n",
       "\n",
       "           년   월   일    전용면적   층  \n",
       "0       2020   1  31   39.53  13  \n",
       "1       2020   1   6  134.30  17  \n",
       "2       2020   1  14   60.13  14  \n",
       "3       2020   1   4   94.29  12  \n",
       "4       2020   1  12   60.76   2  \n",
       "...      ...  ..  ..     ...  ..  \n",
       "231899  2024  11  21   84.03  11  \n",
       "231900  2024  11  13   59.34  10  \n",
       "231901  2024  11  18   59.76   4  \n",
       "231902  2024  11   2   59.76   9  \n",
       "231903  2024  12   7   17.94  15  \n",
       "\n",
       "[231904 rows x 13 columns]"
      ]
     },
     "execution_count": 16,
     "metadata": {},
     "output_type": "execute_result"
    }
   ],
   "source": [
    "apt.dropna(axis = 1)"
   ]
  },
  {
   "cell_type": "code",
   "execution_count": 17,
   "id": "33a5e764-dbb6-4312-b806-0ab5721b2a54",
   "metadata": {},
   "outputs": [],
   "source": [
    "apt = apt.dropna(axis = 1)"
   ]
  },
  {
   "cell_type": "code",
   "execution_count": 18,
   "id": "68a0864e-c9d9-479e-9c35-b8561137d37d",
   "metadata": {},
   "outputs": [
    {
     "data": {
      "text/plain": [
       "(231904, 13)"
      ]
     },
     "execution_count": 18,
     "metadata": {},
     "output_type": "execute_result"
    }
   ],
   "source": [
    "apt.shape"
   ]
  },
  {
   "cell_type": "code",
   "execution_count": 19,
   "id": "53463d3e-933c-4a09-b328-079c105b325b",
   "metadata": {
    "collapsed": true,
    "jupyter": {
     "outputs_hidden": true
    }
   },
   "outputs": [
    {
     "data": {
      "text/plain": [
       "['APT_Detail_Seoul_2024.csv',\n",
       " 'APT_Detail_Seoul_2024.xlsx',\n",
       " 'APT_List.pkl',\n",
       " 'APT_Price_Seoul(2020~2024).xlsx',\n",
       " 'APT_Price_Seoul_2020.csv',\n",
       " 'APT_Price_Seoul_2021.csv',\n",
       " 'APT_Price_Seoul_2022.csv',\n",
       " 'APT_Price_Seoul_2023.csv',\n",
       " 'APT_Price_Seoul_2024.csv',\n",
       " 'NA_Sample.xlsx']"
      ]
     },
     "execution_count": 19,
     "metadata": {},
     "output_type": "execute_result"
    }
   ],
   "source": [
    "os.listdir()"
   ]
  },
  {
   "cell_type": "code",
   "execution_count": 20,
   "id": "2d33a050-6bfe-42b6-8cb5-b3ab1646b624",
   "metadata": {},
   "outputs": [],
   "source": [
    "na = pd.read_excel('NA_Sample.xlsx')"
   ]
  },
  {
   "cell_type": "code",
   "execution_count": 21,
   "id": "655ac37b-4ee5-4145-9c53-f34862556484",
   "metadata": {},
   "outputs": [
    {
     "data": {
      "text/html": [
       "<div>\n",
       "<style scoped>\n",
       "    .dataframe tbody tr th:only-of-type {\n",
       "        vertical-align: middle;\n",
       "    }\n",
       "\n",
       "    .dataframe tbody tr th {\n",
       "        vertical-align: top;\n",
       "    }\n",
       "\n",
       "    .dataframe thead th {\n",
       "        text-align: right;\n",
       "    }\n",
       "</style>\n",
       "<table border=\"1\" class=\"dataframe\">\n",
       "  <thead>\n",
       "    <tr style=\"text-align: right;\">\n",
       "      <th></th>\n",
       "      <th>구분</th>\n",
       "      <th>항목</th>\n",
       "      <th>값</th>\n",
       "    </tr>\n",
       "  </thead>\n",
       "  <tbody>\n",
       "    <tr>\n",
       "      <th>0</th>\n",
       "      <td>A</td>\n",
       "      <td>a</td>\n",
       "      <td>1.2</td>\n",
       "    </tr>\n",
       "    <tr>\n",
       "      <th>1</th>\n",
       "      <td>NaN</td>\n",
       "      <td>b</td>\n",
       "      <td>2.3</td>\n",
       "    </tr>\n",
       "    <tr>\n",
       "      <th>2</th>\n",
       "      <td>NaN</td>\n",
       "      <td>c</td>\n",
       "      <td>3.5</td>\n",
       "    </tr>\n",
       "    <tr>\n",
       "      <th>3</th>\n",
       "      <td>B</td>\n",
       "      <td>a</td>\n",
       "      <td>1.7</td>\n",
       "    </tr>\n",
       "    <tr>\n",
       "      <th>4</th>\n",
       "      <td>NaN</td>\n",
       "      <td>b</td>\n",
       "      <td>2.6</td>\n",
       "    </tr>\n",
       "    <tr>\n",
       "      <th>5</th>\n",
       "      <td>NaN</td>\n",
       "      <td>c</td>\n",
       "      <td>3.6</td>\n",
       "    </tr>\n",
       "  </tbody>\n",
       "</table>\n",
       "</div>"
      ],
      "text/plain": [
       "    구분 항목    값\n",
       "0    A  a  1.2\n",
       "1  NaN  b  2.3\n",
       "2  NaN  c  3.5\n",
       "3    B  a  1.7\n",
       "4  NaN  b  2.6\n",
       "5  NaN  c  3.6"
      ]
     },
     "execution_count": 21,
     "metadata": {},
     "output_type": "execute_result"
    }
   ],
   "source": [
    "na"
   ]
  },
  {
   "cell_type": "code",
   "execution_count": 22,
   "id": "5290fe49-55ef-4b0a-8618-4c766f750552",
   "metadata": {},
   "outputs": [
    {
     "data": {
      "text/html": [
       "<div>\n",
       "<style scoped>\n",
       "    .dataframe tbody tr th:only-of-type {\n",
       "        vertical-align: middle;\n",
       "    }\n",
       "\n",
       "    .dataframe tbody tr th {\n",
       "        vertical-align: top;\n",
       "    }\n",
       "\n",
       "    .dataframe thead th {\n",
       "        text-align: right;\n",
       "    }\n",
       "</style>\n",
       "<table border=\"1\" class=\"dataframe\">\n",
       "  <thead>\n",
       "    <tr style=\"text-align: right;\">\n",
       "      <th></th>\n",
       "      <th>구분</th>\n",
       "      <th>항목</th>\n",
       "      <th>값</th>\n",
       "    </tr>\n",
       "  </thead>\n",
       "  <tbody>\n",
       "    <tr>\n",
       "      <th>0</th>\n",
       "      <td>A</td>\n",
       "      <td>a</td>\n",
       "      <td>1.2</td>\n",
       "    </tr>\n",
       "    <tr>\n",
       "      <th>1</th>\n",
       "      <td>A</td>\n",
       "      <td>b</td>\n",
       "      <td>2.3</td>\n",
       "    </tr>\n",
       "    <tr>\n",
       "      <th>2</th>\n",
       "      <td>A</td>\n",
       "      <td>c</td>\n",
       "      <td>3.5</td>\n",
       "    </tr>\n",
       "    <tr>\n",
       "      <th>3</th>\n",
       "      <td>B</td>\n",
       "      <td>a</td>\n",
       "      <td>1.7</td>\n",
       "    </tr>\n",
       "    <tr>\n",
       "      <th>4</th>\n",
       "      <td>B</td>\n",
       "      <td>b</td>\n",
       "      <td>2.6</td>\n",
       "    </tr>\n",
       "    <tr>\n",
       "      <th>5</th>\n",
       "      <td>B</td>\n",
       "      <td>c</td>\n",
       "      <td>3.6</td>\n",
       "    </tr>\n",
       "  </tbody>\n",
       "</table>\n",
       "</div>"
      ],
      "text/plain": [
       "  구분 항목    값\n",
       "0  A  a  1.2\n",
       "1  A  b  2.3\n",
       "2  A  c  3.5\n",
       "3  B  a  1.7\n",
       "4  B  b  2.6\n",
       "5  B  c  3.6"
      ]
     },
     "execution_count": 22,
     "metadata": {},
     "output_type": "execute_result"
    }
   ],
   "source": [
    "na.ffill()"
   ]
  },
  {
   "cell_type": "code",
   "execution_count": 23,
   "id": "be8a18de-453e-4cce-bff7-fbd2a92a66ca",
   "metadata": {},
   "outputs": [
    {
     "data": {
      "text/html": [
       "<div>\n",
       "<style scoped>\n",
       "    .dataframe tbody tr th:only-of-type {\n",
       "        vertical-align: middle;\n",
       "    }\n",
       "\n",
       "    .dataframe tbody tr th {\n",
       "        vertical-align: top;\n",
       "    }\n",
       "\n",
       "    .dataframe thead th {\n",
       "        text-align: right;\n",
       "    }\n",
       "</style>\n",
       "<table border=\"1\" class=\"dataframe\">\n",
       "  <thead>\n",
       "    <tr style=\"text-align: right;\">\n",
       "      <th></th>\n",
       "      <th>구분</th>\n",
       "      <th>항목</th>\n",
       "      <th>값</th>\n",
       "    </tr>\n",
       "  </thead>\n",
       "  <tbody>\n",
       "    <tr>\n",
       "      <th>0</th>\n",
       "      <td>A</td>\n",
       "      <td>a</td>\n",
       "      <td>1.2</td>\n",
       "    </tr>\n",
       "    <tr>\n",
       "      <th>1</th>\n",
       "      <td>B</td>\n",
       "      <td>b</td>\n",
       "      <td>2.3</td>\n",
       "    </tr>\n",
       "    <tr>\n",
       "      <th>2</th>\n",
       "      <td>B</td>\n",
       "      <td>c</td>\n",
       "      <td>3.5</td>\n",
       "    </tr>\n",
       "    <tr>\n",
       "      <th>3</th>\n",
       "      <td>B</td>\n",
       "      <td>a</td>\n",
       "      <td>1.7</td>\n",
       "    </tr>\n",
       "    <tr>\n",
       "      <th>4</th>\n",
       "      <td>NaN</td>\n",
       "      <td>b</td>\n",
       "      <td>2.6</td>\n",
       "    </tr>\n",
       "    <tr>\n",
       "      <th>5</th>\n",
       "      <td>NaN</td>\n",
       "      <td>c</td>\n",
       "      <td>3.6</td>\n",
       "    </tr>\n",
       "  </tbody>\n",
       "</table>\n",
       "</div>"
      ],
      "text/plain": [
       "    구분 항목    값\n",
       "0    A  a  1.2\n",
       "1    B  b  2.3\n",
       "2    B  c  3.5\n",
       "3    B  a  1.7\n",
       "4  NaN  b  2.6\n",
       "5  NaN  c  3.6"
      ]
     },
     "execution_count": 23,
     "metadata": {},
     "output_type": "execute_result"
    }
   ],
   "source": [
    "na.bfill()"
   ]
  },
  {
   "cell_type": "code",
   "execution_count": 26,
   "id": "a2c01670-1708-4cff-87e2-c3869f19cfec",
   "metadata": {},
   "outputs": [],
   "source": [
    "na.loc[2, '값'] = np.nan"
   ]
  },
  {
   "cell_type": "code",
   "execution_count": 27,
   "id": "881c323b-f008-4763-bb08-1834141637b6",
   "metadata": {
    "collapsed": true,
    "jupyter": {
     "outputs_hidden": true
    }
   },
   "outputs": [
    {
     "data": {
      "text/html": [
       "<div>\n",
       "<style scoped>\n",
       "    .dataframe tbody tr th:only-of-type {\n",
       "        vertical-align: middle;\n",
       "    }\n",
       "\n",
       "    .dataframe tbody tr th {\n",
       "        vertical-align: top;\n",
       "    }\n",
       "\n",
       "    .dataframe thead th {\n",
       "        text-align: right;\n",
       "    }\n",
       "</style>\n",
       "<table border=\"1\" class=\"dataframe\">\n",
       "  <thead>\n",
       "    <tr style=\"text-align: right;\">\n",
       "      <th></th>\n",
       "      <th>구분</th>\n",
       "      <th>항목</th>\n",
       "      <th>값</th>\n",
       "    </tr>\n",
       "  </thead>\n",
       "  <tbody>\n",
       "    <tr>\n",
       "      <th>0</th>\n",
       "      <td>A</td>\n",
       "      <td>a</td>\n",
       "      <td>1.2</td>\n",
       "    </tr>\n",
       "    <tr>\n",
       "      <th>1</th>\n",
       "      <td>NaN</td>\n",
       "      <td>b</td>\n",
       "      <td>2.3</td>\n",
       "    </tr>\n",
       "    <tr>\n",
       "      <th>2</th>\n",
       "      <td>NaN</td>\n",
       "      <td>c</td>\n",
       "      <td>NaN</td>\n",
       "    </tr>\n",
       "    <tr>\n",
       "      <th>3</th>\n",
       "      <td>B</td>\n",
       "      <td>a</td>\n",
       "      <td>1.7</td>\n",
       "    </tr>\n",
       "    <tr>\n",
       "      <th>4</th>\n",
       "      <td>NaN</td>\n",
       "      <td>b</td>\n",
       "      <td>2.6</td>\n",
       "    </tr>\n",
       "    <tr>\n",
       "      <th>5</th>\n",
       "      <td>NaN</td>\n",
       "      <td>c</td>\n",
       "      <td>3.6</td>\n",
       "    </tr>\n",
       "  </tbody>\n",
       "</table>\n",
       "</div>"
      ],
      "text/plain": [
       "    구분 항목    값\n",
       "0    A  a  1.2\n",
       "1  NaN  b  2.3\n",
       "2  NaN  c  NaN\n",
       "3    B  a  1.7\n",
       "4  NaN  b  2.6\n",
       "5  NaN  c  3.6"
      ]
     },
     "execution_count": 27,
     "metadata": {},
     "output_type": "execute_result"
    }
   ],
   "source": [
    "na"
   ]
  },
  {
   "cell_type": "code",
   "execution_count": 28,
   "id": "8da88fa6-da71-4d1d-a6db-22d5791d0d5f",
   "metadata": {},
   "outputs": [
    {
     "data": {
      "text/plain": [
       "np.float64(2.2800000000000002)"
      ]
     },
     "execution_count": 28,
     "metadata": {},
     "output_type": "execute_result"
    }
   ],
   "source": [
    "na['값'].mean()"
   ]
  },
  {
   "cell_type": "code",
   "execution_count": 30,
   "id": "3122bae4-940c-4c92-9922-09db90a0d019",
   "metadata": {},
   "outputs": [],
   "source": [
    "na['값'] = na['값'].fillna(value = na['값'].mean())"
   ]
  },
  {
   "cell_type": "code",
   "execution_count": 31,
   "id": "e104d706-a9da-4874-9258-305b500e7d20",
   "metadata": {
    "collapsed": true,
    "jupyter": {
     "outputs_hidden": true
    }
   },
   "outputs": [
    {
     "data": {
      "text/html": [
       "<div>\n",
       "<style scoped>\n",
       "    .dataframe tbody tr th:only-of-type {\n",
       "        vertical-align: middle;\n",
       "    }\n",
       "\n",
       "    .dataframe tbody tr th {\n",
       "        vertical-align: top;\n",
       "    }\n",
       "\n",
       "    .dataframe thead th {\n",
       "        text-align: right;\n",
       "    }\n",
       "</style>\n",
       "<table border=\"1\" class=\"dataframe\">\n",
       "  <thead>\n",
       "    <tr style=\"text-align: right;\">\n",
       "      <th></th>\n",
       "      <th>구분</th>\n",
       "      <th>항목</th>\n",
       "      <th>값</th>\n",
       "    </tr>\n",
       "  </thead>\n",
       "  <tbody>\n",
       "    <tr>\n",
       "      <th>0</th>\n",
       "      <td>A</td>\n",
       "      <td>a</td>\n",
       "      <td>1.20</td>\n",
       "    </tr>\n",
       "    <tr>\n",
       "      <th>1</th>\n",
       "      <td>NaN</td>\n",
       "      <td>b</td>\n",
       "      <td>2.30</td>\n",
       "    </tr>\n",
       "    <tr>\n",
       "      <th>2</th>\n",
       "      <td>NaN</td>\n",
       "      <td>c</td>\n",
       "      <td>2.28</td>\n",
       "    </tr>\n",
       "    <tr>\n",
       "      <th>3</th>\n",
       "      <td>B</td>\n",
       "      <td>a</td>\n",
       "      <td>1.70</td>\n",
       "    </tr>\n",
       "    <tr>\n",
       "      <th>4</th>\n",
       "      <td>NaN</td>\n",
       "      <td>b</td>\n",
       "      <td>2.60</td>\n",
       "    </tr>\n",
       "    <tr>\n",
       "      <th>5</th>\n",
       "      <td>NaN</td>\n",
       "      <td>c</td>\n",
       "      <td>3.60</td>\n",
       "    </tr>\n",
       "  </tbody>\n",
       "</table>\n",
       "</div>"
      ],
      "text/plain": [
       "    구분 항목     값\n",
       "0    A  a  1.20\n",
       "1  NaN  b  2.30\n",
       "2  NaN  c  2.28\n",
       "3    B  a  1.70\n",
       "4  NaN  b  2.60\n",
       "5  NaN  c  3.60"
      ]
     },
     "execution_count": 31,
     "metadata": {},
     "output_type": "execute_result"
    }
   ],
   "source": [
    "na"
   ]
  },
  {
   "cell_type": "code",
   "execution_count": 32,
   "id": "ad69374e-f59f-4370-82e7-c7abe62d2871",
   "metadata": {},
   "outputs": [
    {
     "data": {
      "text/html": [
       "<div>\n",
       "<style scoped>\n",
       "    .dataframe tbody tr th:only-of-type {\n",
       "        vertical-align: middle;\n",
       "    }\n",
       "\n",
       "    .dataframe tbody tr th {\n",
       "        vertical-align: top;\n",
       "    }\n",
       "\n",
       "    .dataframe thead th {\n",
       "        text-align: right;\n",
       "    }\n",
       "</style>\n",
       "<table border=\"1\" class=\"dataframe\">\n",
       "  <thead>\n",
       "    <tr style=\"text-align: right;\">\n",
       "      <th></th>\n",
       "      <th>거래금액</th>\n",
       "      <th>지역코드</th>\n",
       "      <th>아파트</th>\n",
       "      <th>시도명</th>\n",
       "      <th>시군구</th>\n",
       "      <th>법정동</th>\n",
       "      <th>지번</th>\n",
       "      <th>건축년도</th>\n",
       "      <th>년</th>\n",
       "      <th>월</th>\n",
       "      <th>일</th>\n",
       "      <th>전용면적</th>\n",
       "      <th>층</th>\n",
       "    </tr>\n",
       "  </thead>\n",
       "  <tbody>\n",
       "    <tr>\n",
       "      <th>0</th>\n",
       "      <td>100500</td>\n",
       "      <td>11680</td>\n",
       "      <td>삼익대청아파트</td>\n",
       "      <td>서울특별시</td>\n",
       "      <td>강남구</td>\n",
       "      <td>개포동</td>\n",
       "      <td>12</td>\n",
       "      <td>1992</td>\n",
       "      <td>2020</td>\n",
       "      <td>1</td>\n",
       "      <td>31</td>\n",
       "      <td>39.53</td>\n",
       "      <td>13</td>\n",
       "    </tr>\n",
       "    <tr>\n",
       "      <th>1</th>\n",
       "      <td>203000</td>\n",
       "      <td>11680</td>\n",
       "      <td>개포자이</td>\n",
       "      <td>서울특별시</td>\n",
       "      <td>강남구</td>\n",
       "      <td>개포동</td>\n",
       "      <td>12-2</td>\n",
       "      <td>2004</td>\n",
       "      <td>2020</td>\n",
       "      <td>1</td>\n",
       "      <td>6</td>\n",
       "      <td>134.30</td>\n",
       "      <td>17</td>\n",
       "    </tr>\n",
       "    <tr>\n",
       "      <th>2</th>\n",
       "      <td>180000</td>\n",
       "      <td>11680</td>\n",
       "      <td>개포주공6단지</td>\n",
       "      <td>서울특별시</td>\n",
       "      <td>강남구</td>\n",
       "      <td>개포동</td>\n",
       "      <td>185</td>\n",
       "      <td>1983</td>\n",
       "      <td>2020</td>\n",
       "      <td>1</td>\n",
       "      <td>14</td>\n",
       "      <td>60.13</td>\n",
       "      <td>14</td>\n",
       "    </tr>\n",
       "    <tr>\n",
       "      <th>3</th>\n",
       "      <td>285000</td>\n",
       "      <td>11680</td>\n",
       "      <td>디에이치아너힐즈</td>\n",
       "      <td>서울특별시</td>\n",
       "      <td>강남구</td>\n",
       "      <td>개포동</td>\n",
       "      <td>1281</td>\n",
       "      <td>2019</td>\n",
       "      <td>2020</td>\n",
       "      <td>1</td>\n",
       "      <td>4</td>\n",
       "      <td>94.29</td>\n",
       "      <td>12</td>\n",
       "    </tr>\n",
       "    <tr>\n",
       "      <th>4</th>\n",
       "      <td>171000</td>\n",
       "      <td>11680</td>\n",
       "      <td>개포주공7단지</td>\n",
       "      <td>서울특별시</td>\n",
       "      <td>강남구</td>\n",
       "      <td>개포동</td>\n",
       "      <td>185</td>\n",
       "      <td>1983</td>\n",
       "      <td>2020</td>\n",
       "      <td>1</td>\n",
       "      <td>12</td>\n",
       "      <td>60.76</td>\n",
       "      <td>2</td>\n",
       "    </tr>\n",
       "  </tbody>\n",
       "</table>\n",
       "</div>"
      ],
      "text/plain": [
       "     거래금액   지역코드       아파트    시도명  시군구  법정동    지번  건축년도     년  월   일    전용면적  \\\n",
       "0  100500  11680   삼익대청아파트  서울특별시  강남구  개포동    12  1992  2020  1  31   39.53   \n",
       "1  203000  11680      개포자이  서울특별시  강남구  개포동  12-2  2004  2020  1   6  134.30   \n",
       "2  180000  11680   개포주공6단지  서울특별시  강남구  개포동   185  1983  2020  1  14   60.13   \n",
       "3  285000  11680  디에이치아너힐즈  서울특별시  강남구  개포동  1281  2019  2020  1   4   94.29   \n",
       "4  171000  11680   개포주공7단지  서울특별시  강남구  개포동   185  1983  2020  1  12   60.76   \n",
       "\n",
       "    층  \n",
       "0  13  \n",
       "1  17  \n",
       "2  14  \n",
       "3  12  \n",
       "4   2  "
      ]
     },
     "execution_count": 32,
     "metadata": {},
     "output_type": "execute_result"
    }
   ],
   "source": [
    "apt.head()"
   ]
  },
  {
   "cell_type": "code",
   "execution_count": 34,
   "id": "2d4f413d-209c-42ae-92e1-d1c1989636f5",
   "metadata": {
    "collapsed": true,
    "jupyter": {
     "outputs_hidden": true
    }
   },
   "outputs": [
    {
     "data": {
      "text/plain": [
       "0         11680\n",
       "1         11680\n",
       "2         11680\n",
       "3         11680\n",
       "4         11680\n",
       "          ...  \n",
       "231899    11260\n",
       "231900    11260\n",
       "231901    11260\n",
       "231902    11260\n",
       "231903    11260\n",
       "Name: 지역코드, Length: 231904, dtype: int64"
      ]
     },
     "execution_count": 34,
     "metadata": {},
     "output_type": "execute_result"
    }
   ],
   "source": [
    "# apt['지역코드']\n",
    "apt.loc[:, '지역코드']"
   ]
  },
  {
   "cell_type": "code",
   "execution_count": 36,
   "id": "9d39ec76-5263-48ee-80f4-c3765a2ba745",
   "metadata": {
    "collapsed": true,
    "jupyter": {
     "outputs_hidden": true
    }
   },
   "outputs": [
    {
     "data": {
      "text/html": [
       "<div>\n",
       "<style scoped>\n",
       "    .dataframe tbody tr th:only-of-type {\n",
       "        vertical-align: middle;\n",
       "    }\n",
       "\n",
       "    .dataframe tbody tr th {\n",
       "        vertical-align: top;\n",
       "    }\n",
       "\n",
       "    .dataframe thead th {\n",
       "        text-align: right;\n",
       "    }\n",
       "</style>\n",
       "<table border=\"1\" class=\"dataframe\">\n",
       "  <thead>\n",
       "    <tr style=\"text-align: right;\">\n",
       "      <th></th>\n",
       "      <th>거래금액</th>\n",
       "      <th>지역코드</th>\n",
       "    </tr>\n",
       "  </thead>\n",
       "  <tbody>\n",
       "    <tr>\n",
       "      <th>0</th>\n",
       "      <td>100500</td>\n",
       "      <td>11680</td>\n",
       "    </tr>\n",
       "    <tr>\n",
       "      <th>1</th>\n",
       "      <td>203000</td>\n",
       "      <td>11680</td>\n",
       "    </tr>\n",
       "    <tr>\n",
       "      <th>2</th>\n",
       "      <td>180000</td>\n",
       "      <td>11680</td>\n",
       "    </tr>\n",
       "    <tr>\n",
       "      <th>3</th>\n",
       "      <td>285000</td>\n",
       "      <td>11680</td>\n",
       "    </tr>\n",
       "    <tr>\n",
       "      <th>4</th>\n",
       "      <td>171000</td>\n",
       "      <td>11680</td>\n",
       "    </tr>\n",
       "    <tr>\n",
       "      <th>...</th>\n",
       "      <td>...</td>\n",
       "      <td>...</td>\n",
       "    </tr>\n",
       "    <tr>\n",
       "      <th>231899</th>\n",
       "      <td>74000</td>\n",
       "      <td>11260</td>\n",
       "    </tr>\n",
       "    <tr>\n",
       "      <th>231900</th>\n",
       "      <td>50500</td>\n",
       "      <td>11260</td>\n",
       "    </tr>\n",
       "    <tr>\n",
       "      <th>231901</th>\n",
       "      <td>60000</td>\n",
       "      <td>11260</td>\n",
       "    </tr>\n",
       "    <tr>\n",
       "      <th>231902</th>\n",
       "      <td>67000</td>\n",
       "      <td>11260</td>\n",
       "    </tr>\n",
       "    <tr>\n",
       "      <th>231903</th>\n",
       "      <td>11000</td>\n",
       "      <td>11260</td>\n",
       "    </tr>\n",
       "  </tbody>\n",
       "</table>\n",
       "<p>231904 rows × 2 columns</p>\n",
       "</div>"
      ],
      "text/plain": [
       "          거래금액   지역코드\n",
       "0       100500  11680\n",
       "1       203000  11680\n",
       "2       180000  11680\n",
       "3       285000  11680\n",
       "4       171000  11680\n",
       "...        ...    ...\n",
       "231899   74000  11260\n",
       "231900   50500  11260\n",
       "231901   60000  11260\n",
       "231902   67000  11260\n",
       "231903   11000  11260\n",
       "\n",
       "[231904 rows x 2 columns]"
      ]
     },
     "execution_count": 36,
     "metadata": {},
     "output_type": "execute_result"
    }
   ],
   "source": [
    "# apt[['거래금액', '지역코드']]\n",
    "apt.loc[:, ['거래금액', '지역코드']]"
   ]
  },
  {
   "cell_type": "code",
   "execution_count": 37,
   "id": "906a6f93-15f4-4506-91df-98e4c5561dc7",
   "metadata": {
    "collapsed": true,
    "jupyter": {
     "outputs_hidden": true
    }
   },
   "outputs": [
    {
     "data": {
      "text/html": [
       "<div>\n",
       "<style scoped>\n",
       "    .dataframe tbody tr th:only-of-type {\n",
       "        vertical-align: middle;\n",
       "    }\n",
       "\n",
       "    .dataframe tbody tr th {\n",
       "        vertical-align: top;\n",
       "    }\n",
       "\n",
       "    .dataframe thead th {\n",
       "        text-align: right;\n",
       "    }\n",
       "</style>\n",
       "<table border=\"1\" class=\"dataframe\">\n",
       "  <thead>\n",
       "    <tr style=\"text-align: right;\">\n",
       "      <th></th>\n",
       "      <th>지역코드</th>\n",
       "      <th>거래금액</th>\n",
       "    </tr>\n",
       "  </thead>\n",
       "  <tbody>\n",
       "    <tr>\n",
       "      <th>0</th>\n",
       "      <td>11680</td>\n",
       "      <td>100500</td>\n",
       "    </tr>\n",
       "    <tr>\n",
       "      <th>1</th>\n",
       "      <td>11680</td>\n",
       "      <td>203000</td>\n",
       "    </tr>\n",
       "    <tr>\n",
       "      <th>2</th>\n",
       "      <td>11680</td>\n",
       "      <td>180000</td>\n",
       "    </tr>\n",
       "    <tr>\n",
       "      <th>3</th>\n",
       "      <td>11680</td>\n",
       "      <td>285000</td>\n",
       "    </tr>\n",
       "    <tr>\n",
       "      <th>4</th>\n",
       "      <td>11680</td>\n",
       "      <td>171000</td>\n",
       "    </tr>\n",
       "    <tr>\n",
       "      <th>...</th>\n",
       "      <td>...</td>\n",
       "      <td>...</td>\n",
       "    </tr>\n",
       "    <tr>\n",
       "      <th>231899</th>\n",
       "      <td>11260</td>\n",
       "      <td>74000</td>\n",
       "    </tr>\n",
       "    <tr>\n",
       "      <th>231900</th>\n",
       "      <td>11260</td>\n",
       "      <td>50500</td>\n",
       "    </tr>\n",
       "    <tr>\n",
       "      <th>231901</th>\n",
       "      <td>11260</td>\n",
       "      <td>60000</td>\n",
       "    </tr>\n",
       "    <tr>\n",
       "      <th>231902</th>\n",
       "      <td>11260</td>\n",
       "      <td>67000</td>\n",
       "    </tr>\n",
       "    <tr>\n",
       "      <th>231903</th>\n",
       "      <td>11260</td>\n",
       "      <td>11000</td>\n",
       "    </tr>\n",
       "  </tbody>\n",
       "</table>\n",
       "<p>231904 rows × 2 columns</p>\n",
       "</div>"
      ],
      "text/plain": [
       "         지역코드    거래금액\n",
       "0       11680  100500\n",
       "1       11680  203000\n",
       "2       11680  180000\n",
       "3       11680  285000\n",
       "4       11680  171000\n",
       "...       ...     ...\n",
       "231899  11260   74000\n",
       "231900  11260   50500\n",
       "231901  11260   60000\n",
       "231902  11260   67000\n",
       "231903  11260   11000\n",
       "\n",
       "[231904 rows x 2 columns]"
      ]
     },
     "execution_count": 37,
     "metadata": {},
     "output_type": "execute_result"
    }
   ],
   "source": [
    "apt[['지역코드', '거래금액']]"
   ]
  },
  {
   "cell_type": "code",
   "execution_count": 39,
   "id": "aea12f49-b696-47f1-b292-c6d670c7ad49",
   "metadata": {
    "collapsed": true,
    "jupyter": {
     "outputs_hidden": true
    }
   },
   "outputs": [
    {
     "data": {
      "text/html": [
       "<div>\n",
       "<style scoped>\n",
       "    .dataframe tbody tr th:only-of-type {\n",
       "        vertical-align: middle;\n",
       "    }\n",
       "\n",
       "    .dataframe tbody tr th {\n",
       "        vertical-align: top;\n",
       "    }\n",
       "\n",
       "    .dataframe thead th {\n",
       "        text-align: right;\n",
       "    }\n",
       "</style>\n",
       "<table border=\"1\" class=\"dataframe\">\n",
       "  <thead>\n",
       "    <tr style=\"text-align: right;\">\n",
       "      <th></th>\n",
       "      <th>거래금액</th>\n",
       "      <th>지역코드</th>\n",
       "      <th>아파트</th>\n",
       "      <th>시도명</th>\n",
       "    </tr>\n",
       "  </thead>\n",
       "  <tbody>\n",
       "    <tr>\n",
       "      <th>0</th>\n",
       "      <td>100500</td>\n",
       "      <td>11680</td>\n",
       "      <td>삼익대청아파트</td>\n",
       "      <td>서울특별시</td>\n",
       "    </tr>\n",
       "    <tr>\n",
       "      <th>1</th>\n",
       "      <td>203000</td>\n",
       "      <td>11680</td>\n",
       "      <td>개포자이</td>\n",
       "      <td>서울특별시</td>\n",
       "    </tr>\n",
       "    <tr>\n",
       "      <th>2</th>\n",
       "      <td>180000</td>\n",
       "      <td>11680</td>\n",
       "      <td>개포주공6단지</td>\n",
       "      <td>서울특별시</td>\n",
       "    </tr>\n",
       "    <tr>\n",
       "      <th>3</th>\n",
       "      <td>285000</td>\n",
       "      <td>11680</td>\n",
       "      <td>디에이치아너힐즈</td>\n",
       "      <td>서울특별시</td>\n",
       "    </tr>\n",
       "    <tr>\n",
       "      <th>4</th>\n",
       "      <td>171000</td>\n",
       "      <td>11680</td>\n",
       "      <td>개포주공7단지</td>\n",
       "      <td>서울특별시</td>\n",
       "    </tr>\n",
       "    <tr>\n",
       "      <th>...</th>\n",
       "      <td>...</td>\n",
       "      <td>...</td>\n",
       "      <td>...</td>\n",
       "      <td>...</td>\n",
       "    </tr>\n",
       "    <tr>\n",
       "      <th>231899</th>\n",
       "      <td>74000</td>\n",
       "      <td>11260</td>\n",
       "      <td>한신아파트상가동유치원동(102~102)</td>\n",
       "      <td>서울특별시</td>\n",
       "    </tr>\n",
       "    <tr>\n",
       "      <th>231900</th>\n",
       "      <td>50500</td>\n",
       "      <td>11260</td>\n",
       "      <td>삼익아파트.상가동</td>\n",
       "      <td>서울특별시</td>\n",
       "    </tr>\n",
       "    <tr>\n",
       "      <th>231901</th>\n",
       "      <td>60000</td>\n",
       "      <td>11260</td>\n",
       "      <td>한신아파트상가동유치원동(103~109)</td>\n",
       "      <td>서울특별시</td>\n",
       "    </tr>\n",
       "    <tr>\n",
       "      <th>231902</th>\n",
       "      <td>67000</td>\n",
       "      <td>11260</td>\n",
       "      <td>한신아파트상가동유치원동(102~102)</td>\n",
       "      <td>서울특별시</td>\n",
       "    </tr>\n",
       "    <tr>\n",
       "      <th>231903</th>\n",
       "      <td>11000</td>\n",
       "      <td>11260</td>\n",
       "      <td>범양프레체</td>\n",
       "      <td>서울특별시</td>\n",
       "    </tr>\n",
       "  </tbody>\n",
       "</table>\n",
       "<p>231904 rows × 4 columns</p>\n",
       "</div>"
      ],
      "text/plain": [
       "          거래금액   지역코드                    아파트    시도명\n",
       "0       100500  11680                삼익대청아파트  서울특별시\n",
       "1       203000  11680                   개포자이  서울특별시\n",
       "2       180000  11680                개포주공6단지  서울특별시\n",
       "3       285000  11680               디에이치아너힐즈  서울특별시\n",
       "4       171000  11680                개포주공7단지  서울특별시\n",
       "...        ...    ...                    ...    ...\n",
       "231899   74000  11260  한신아파트상가동유치원동(102~102)  서울특별시\n",
       "231900   50500  11260              삼익아파트.상가동  서울특별시\n",
       "231901   60000  11260  한신아파트상가동유치원동(103~109)  서울특별시\n",
       "231902   67000  11260  한신아파트상가동유치원동(102~102)  서울특별시\n",
       "231903   11000  11260                  범양프레체  서울특별시\n",
       "\n",
       "[231904 rows x 4 columns]"
      ]
     },
     "execution_count": 39,
     "metadata": {},
     "output_type": "execute_result"
    }
   ],
   "source": [
    "apt[['거래금액', '지역코드', '아파트', '시도명']]"
   ]
  },
  {
   "cell_type": "code",
   "execution_count": 41,
   "id": "dd6e18ad-6b47-4924-ab29-28c096ef7f17",
   "metadata": {
    "collapsed": true,
    "jupyter": {
     "outputs_hidden": true
    }
   },
   "outputs": [
    {
     "data": {
      "text/html": [
       "<div>\n",
       "<style scoped>\n",
       "    .dataframe tbody tr th:only-of-type {\n",
       "        vertical-align: middle;\n",
       "    }\n",
       "\n",
       "    .dataframe tbody tr th {\n",
       "        vertical-align: top;\n",
       "    }\n",
       "\n",
       "    .dataframe thead th {\n",
       "        text-align: right;\n",
       "    }\n",
       "</style>\n",
       "<table border=\"1\" class=\"dataframe\">\n",
       "  <thead>\n",
       "    <tr style=\"text-align: right;\">\n",
       "      <th></th>\n",
       "      <th>거래금액</th>\n",
       "      <th>지역코드</th>\n",
       "      <th>아파트</th>\n",
       "      <th>시도명</th>\n",
       "    </tr>\n",
       "  </thead>\n",
       "  <tbody>\n",
       "    <tr>\n",
       "      <th>0</th>\n",
       "      <td>100500</td>\n",
       "      <td>11680</td>\n",
       "      <td>삼익대청아파트</td>\n",
       "      <td>서울특별시</td>\n",
       "    </tr>\n",
       "    <tr>\n",
       "      <th>1</th>\n",
       "      <td>203000</td>\n",
       "      <td>11680</td>\n",
       "      <td>개포자이</td>\n",
       "      <td>서울특별시</td>\n",
       "    </tr>\n",
       "    <tr>\n",
       "      <th>2</th>\n",
       "      <td>180000</td>\n",
       "      <td>11680</td>\n",
       "      <td>개포주공6단지</td>\n",
       "      <td>서울특별시</td>\n",
       "    </tr>\n",
       "    <tr>\n",
       "      <th>3</th>\n",
       "      <td>285000</td>\n",
       "      <td>11680</td>\n",
       "      <td>디에이치아너힐즈</td>\n",
       "      <td>서울특별시</td>\n",
       "    </tr>\n",
       "    <tr>\n",
       "      <th>4</th>\n",
       "      <td>171000</td>\n",
       "      <td>11680</td>\n",
       "      <td>개포주공7단지</td>\n",
       "      <td>서울특별시</td>\n",
       "    </tr>\n",
       "    <tr>\n",
       "      <th>...</th>\n",
       "      <td>...</td>\n",
       "      <td>...</td>\n",
       "      <td>...</td>\n",
       "      <td>...</td>\n",
       "    </tr>\n",
       "    <tr>\n",
       "      <th>231899</th>\n",
       "      <td>74000</td>\n",
       "      <td>11260</td>\n",
       "      <td>한신아파트상가동유치원동(102~102)</td>\n",
       "      <td>서울특별시</td>\n",
       "    </tr>\n",
       "    <tr>\n",
       "      <th>231900</th>\n",
       "      <td>50500</td>\n",
       "      <td>11260</td>\n",
       "      <td>삼익아파트.상가동</td>\n",
       "      <td>서울특별시</td>\n",
       "    </tr>\n",
       "    <tr>\n",
       "      <th>231901</th>\n",
       "      <td>60000</td>\n",
       "      <td>11260</td>\n",
       "      <td>한신아파트상가동유치원동(103~109)</td>\n",
       "      <td>서울특별시</td>\n",
       "    </tr>\n",
       "    <tr>\n",
       "      <th>231902</th>\n",
       "      <td>67000</td>\n",
       "      <td>11260</td>\n",
       "      <td>한신아파트상가동유치원동(102~102)</td>\n",
       "      <td>서울특별시</td>\n",
       "    </tr>\n",
       "    <tr>\n",
       "      <th>231903</th>\n",
       "      <td>11000</td>\n",
       "      <td>11260</td>\n",
       "      <td>범양프레체</td>\n",
       "      <td>서울특별시</td>\n",
       "    </tr>\n",
       "  </tbody>\n",
       "</table>\n",
       "<p>231904 rows × 4 columns</p>\n",
       "</div>"
      ],
      "text/plain": [
       "          거래금액   지역코드                    아파트    시도명\n",
       "0       100500  11680                삼익대청아파트  서울특별시\n",
       "1       203000  11680                   개포자이  서울특별시\n",
       "2       180000  11680                개포주공6단지  서울특별시\n",
       "3       285000  11680               디에이치아너힐즈  서울특별시\n",
       "4       171000  11680                개포주공7단지  서울특별시\n",
       "...        ...    ...                    ...    ...\n",
       "231899   74000  11260  한신아파트상가동유치원동(102~102)  서울특별시\n",
       "231900   50500  11260              삼익아파트.상가동  서울특별시\n",
       "231901   60000  11260  한신아파트상가동유치원동(103~109)  서울특별시\n",
       "231902   67000  11260  한신아파트상가동유치원동(102~102)  서울특별시\n",
       "231903   11000  11260                  범양프레체  서울특별시\n",
       "\n",
       "[231904 rows x 4 columns]"
      ]
     },
     "execution_count": 41,
     "metadata": {},
     "output_type": "execute_result"
    }
   ],
   "source": [
    "# apt['거래금액':'시도명']\n",
    "apt.loc[:, '거래금액':'시도명']"
   ]
  },
  {
   "cell_type": "code",
   "execution_count": 43,
   "id": "72b4ecc6-03f2-43dc-a082-14ab900364e0",
   "metadata": {},
   "outputs": [
    {
     "data": {
      "text/html": [
       "<div>\n",
       "<style scoped>\n",
       "    .dataframe tbody tr th:only-of-type {\n",
       "        vertical-align: middle;\n",
       "    }\n",
       "\n",
       "    .dataframe tbody tr th {\n",
       "        vertical-align: top;\n",
       "    }\n",
       "\n",
       "    .dataframe thead th {\n",
       "        text-align: right;\n",
       "    }\n",
       "</style>\n",
       "<table border=\"1\" class=\"dataframe\">\n",
       "  <thead>\n",
       "    <tr style=\"text-align: right;\">\n",
       "      <th></th>\n",
       "      <th>거래금액</th>\n",
       "      <th>지역코드</th>\n",
       "      <th>아파트</th>\n",
       "      <th>시도명</th>\n",
       "      <th>시군구</th>\n",
       "      <th>법정동</th>\n",
       "      <th>지번</th>\n",
       "      <th>건축년도</th>\n",
       "      <th>년</th>\n",
       "      <th>월</th>\n",
       "      <th>일</th>\n",
       "      <th>전용면적</th>\n",
       "      <th>층</th>\n",
       "    </tr>\n",
       "  </thead>\n",
       "  <tbody>\n",
       "    <tr>\n",
       "      <th>0</th>\n",
       "      <td>100500</td>\n",
       "      <td>11680</td>\n",
       "      <td>삼익대청아파트</td>\n",
       "      <td>서울특별시</td>\n",
       "      <td>강남구</td>\n",
       "      <td>개포동</td>\n",
       "      <td>12</td>\n",
       "      <td>1992</td>\n",
       "      <td>2020</td>\n",
       "      <td>1</td>\n",
       "      <td>31</td>\n",
       "      <td>39.53</td>\n",
       "      <td>13</td>\n",
       "    </tr>\n",
       "  </tbody>\n",
       "</table>\n",
       "</div>"
      ],
      "text/plain": [
       "     거래금액   지역코드      아파트    시도명  시군구  법정동  지번  건축년도     년  월   일   전용면적   층\n",
       "0  100500  11680  삼익대청아파트  서울특별시  강남구  개포동  12  1992  2020  1  31  39.53  13"
      ]
     },
     "execution_count": 43,
     "metadata": {},
     "output_type": "execute_result"
    }
   ],
   "source": [
    "apt.head(n = 1)"
   ]
  },
  {
   "cell_type": "code",
   "execution_count": 42,
   "id": "8f8ae9d4-ec8d-4eb5-9d6b-09506f609a76",
   "metadata": {
    "collapsed": true,
    "jupyter": {
     "outputs_hidden": true
    }
   },
   "outputs": [
    {
     "data": {
      "text/plain": [
       "거래금액     100500\n",
       "지역코드      11680\n",
       "아파트     삼익대청아파트\n",
       "시도명       서울특별시\n",
       "시군구         강남구\n",
       "법정동         개포동\n",
       "지번           12\n",
       "건축년도       1992\n",
       "년          2020\n",
       "월             1\n",
       "일            31\n",
       "전용면적      39.53\n",
       "층            13\n",
       "Name: 0, dtype: object"
      ]
     },
     "execution_count": 42,
     "metadata": {},
     "output_type": "execute_result"
    }
   ],
   "source": [
    "apt.loc[0, :]"
   ]
  },
  {
   "cell_type": "code",
   "execution_count": 44,
   "id": "397a235f-00f7-45d3-8598-4560344c480b",
   "metadata": {
    "collapsed": true,
    "jupyter": {
     "outputs_hidden": true
    }
   },
   "outputs": [
    {
     "data": {
      "text/html": [
       "<div>\n",
       "<style scoped>\n",
       "    .dataframe tbody tr th:only-of-type {\n",
       "        vertical-align: middle;\n",
       "    }\n",
       "\n",
       "    .dataframe tbody tr th {\n",
       "        vertical-align: top;\n",
       "    }\n",
       "\n",
       "    .dataframe thead th {\n",
       "        text-align: right;\n",
       "    }\n",
       "</style>\n",
       "<table border=\"1\" class=\"dataframe\">\n",
       "  <thead>\n",
       "    <tr style=\"text-align: right;\">\n",
       "      <th></th>\n",
       "      <th>거래금액</th>\n",
       "      <th>지역코드</th>\n",
       "      <th>아파트</th>\n",
       "      <th>시도명</th>\n",
       "      <th>시군구</th>\n",
       "      <th>법정동</th>\n",
       "      <th>지번</th>\n",
       "      <th>건축년도</th>\n",
       "      <th>년</th>\n",
       "      <th>월</th>\n",
       "      <th>일</th>\n",
       "      <th>전용면적</th>\n",
       "      <th>층</th>\n",
       "    </tr>\n",
       "  </thead>\n",
       "  <tbody>\n",
       "    <tr>\n",
       "      <th>0</th>\n",
       "      <td>100500</td>\n",
       "      <td>11680</td>\n",
       "      <td>삼익대청아파트</td>\n",
       "      <td>서울특별시</td>\n",
       "      <td>강남구</td>\n",
       "      <td>개포동</td>\n",
       "      <td>12</td>\n",
       "      <td>1992</td>\n",
       "      <td>2020</td>\n",
       "      <td>1</td>\n",
       "      <td>31</td>\n",
       "      <td>39.53</td>\n",
       "      <td>13</td>\n",
       "    </tr>\n",
       "    <tr>\n",
       "      <th>231903</th>\n",
       "      <td>11000</td>\n",
       "      <td>11260</td>\n",
       "      <td>범양프레체</td>\n",
       "      <td>서울특별시</td>\n",
       "      <td>중랑구</td>\n",
       "      <td>중화동</td>\n",
       "      <td>208-4</td>\n",
       "      <td>2012</td>\n",
       "      <td>2024</td>\n",
       "      <td>12</td>\n",
       "      <td>7</td>\n",
       "      <td>17.94</td>\n",
       "      <td>15</td>\n",
       "    </tr>\n",
       "  </tbody>\n",
       "</table>\n",
       "</div>"
      ],
      "text/plain": [
       "          거래금액   지역코드      아파트    시도명  시군구  법정동     지번  건축년도     년   월   일  \\\n",
       "0       100500  11680  삼익대청아파트  서울특별시  강남구  개포동     12  1992  2020   1  31   \n",
       "231903   11000  11260    범양프레체  서울특별시  중랑구  중화동  208-4  2012  2024  12   7   \n",
       "\n",
       "         전용면적   층  \n",
       "0       39.53  13  \n",
       "231903  17.94  15  "
      ]
     },
     "execution_count": 44,
     "metadata": {},
     "output_type": "execute_result"
    }
   ],
   "source": [
    "apt.loc[[0, 231903], :]"
   ]
  },
  {
   "cell_type": "code",
   "execution_count": 45,
   "id": "ecf2a052-ea0b-4d29-b1b3-cb8de2eabf25",
   "metadata": {
    "collapsed": true,
    "jupyter": {
     "outputs_hidden": true
    }
   },
   "outputs": [
    {
     "data": {
      "text/html": [
       "<div>\n",
       "<style scoped>\n",
       "    .dataframe tbody tr th:only-of-type {\n",
       "        vertical-align: middle;\n",
       "    }\n",
       "\n",
       "    .dataframe tbody tr th {\n",
       "        vertical-align: top;\n",
       "    }\n",
       "\n",
       "    .dataframe thead th {\n",
       "        text-align: right;\n",
       "    }\n",
       "</style>\n",
       "<table border=\"1\" class=\"dataframe\">\n",
       "  <thead>\n",
       "    <tr style=\"text-align: right;\">\n",
       "      <th></th>\n",
       "      <th>거래금액</th>\n",
       "      <th>지역코드</th>\n",
       "      <th>아파트</th>\n",
       "      <th>시도명</th>\n",
       "      <th>시군구</th>\n",
       "      <th>법정동</th>\n",
       "      <th>지번</th>\n",
       "      <th>건축년도</th>\n",
       "      <th>년</th>\n",
       "      <th>월</th>\n",
       "      <th>일</th>\n",
       "      <th>전용면적</th>\n",
       "      <th>층</th>\n",
       "    </tr>\n",
       "  </thead>\n",
       "  <tbody>\n",
       "    <tr>\n",
       "      <th>0</th>\n",
       "      <td>100500</td>\n",
       "      <td>11680</td>\n",
       "      <td>삼익대청아파트</td>\n",
       "      <td>서울특별시</td>\n",
       "      <td>강남구</td>\n",
       "      <td>개포동</td>\n",
       "      <td>12</td>\n",
       "      <td>1992</td>\n",
       "      <td>2020</td>\n",
       "      <td>1</td>\n",
       "      <td>31</td>\n",
       "      <td>39.53</td>\n",
       "      <td>13</td>\n",
       "    </tr>\n",
       "    <tr>\n",
       "      <th>231903</th>\n",
       "      <td>11000</td>\n",
       "      <td>11260</td>\n",
       "      <td>범양프레체</td>\n",
       "      <td>서울특별시</td>\n",
       "      <td>중랑구</td>\n",
       "      <td>중화동</td>\n",
       "      <td>208-4</td>\n",
       "      <td>2012</td>\n",
       "      <td>2024</td>\n",
       "      <td>12</td>\n",
       "      <td>7</td>\n",
       "      <td>17.94</td>\n",
       "      <td>15</td>\n",
       "    </tr>\n",
       "  </tbody>\n",
       "</table>\n",
       "</div>"
      ],
      "text/plain": [
       "          거래금액   지역코드      아파트    시도명  시군구  법정동     지번  건축년도     년   월   일  \\\n",
       "0       100500  11680  삼익대청아파트  서울특별시  강남구  개포동     12  1992  2020   1  31   \n",
       "231903   11000  11260    범양프레체  서울특별시  중랑구  중화동  208-4  2012  2024  12   7   \n",
       "\n",
       "         전용면적   층  \n",
       "0       39.53  13  \n",
       "231903  17.94  15  "
      ]
     },
     "execution_count": 45,
     "metadata": {},
     "output_type": "execute_result"
    }
   ],
   "source": [
    "apt.iloc[[0, -1], :]"
   ]
  },
  {
   "cell_type": "code",
   "execution_count": 46,
   "id": "f60c1140-1e74-423b-a355-b6608f311f53",
   "metadata": {
    "collapsed": true,
    "jupyter": {
     "outputs_hidden": true
    }
   },
   "outputs": [
    {
     "data": {
      "text/html": [
       "<div>\n",
       "<style scoped>\n",
       "    .dataframe tbody tr th:only-of-type {\n",
       "        vertical-align: middle;\n",
       "    }\n",
       "\n",
       "    .dataframe tbody tr th {\n",
       "        vertical-align: top;\n",
       "    }\n",
       "\n",
       "    .dataframe thead th {\n",
       "        text-align: right;\n",
       "    }\n",
       "</style>\n",
       "<table border=\"1\" class=\"dataframe\">\n",
       "  <thead>\n",
       "    <tr style=\"text-align: right;\">\n",
       "      <th></th>\n",
       "      <th>거래금액</th>\n",
       "      <th>지역코드</th>\n",
       "      <th>아파트</th>\n",
       "      <th>시도명</th>\n",
       "      <th>시군구</th>\n",
       "      <th>법정동</th>\n",
       "      <th>지번</th>\n",
       "      <th>건축년도</th>\n",
       "      <th>년</th>\n",
       "      <th>월</th>\n",
       "      <th>일</th>\n",
       "      <th>전용면적</th>\n",
       "      <th>층</th>\n",
       "    </tr>\n",
       "  </thead>\n",
       "  <tbody>\n",
       "    <tr>\n",
       "      <th>0</th>\n",
       "      <td>100500</td>\n",
       "      <td>11680</td>\n",
       "      <td>삼익대청아파트</td>\n",
       "      <td>서울특별시</td>\n",
       "      <td>강남구</td>\n",
       "      <td>개포동</td>\n",
       "      <td>12</td>\n",
       "      <td>1992</td>\n",
       "      <td>2020</td>\n",
       "      <td>1</td>\n",
       "      <td>31</td>\n",
       "      <td>39.530</td>\n",
       "      <td>13</td>\n",
       "    </tr>\n",
       "    <tr>\n",
       "      <th>1</th>\n",
       "      <td>203000</td>\n",
       "      <td>11680</td>\n",
       "      <td>개포자이</td>\n",
       "      <td>서울특별시</td>\n",
       "      <td>강남구</td>\n",
       "      <td>개포동</td>\n",
       "      <td>12-2</td>\n",
       "      <td>2004</td>\n",
       "      <td>2020</td>\n",
       "      <td>1</td>\n",
       "      <td>6</td>\n",
       "      <td>134.300</td>\n",
       "      <td>17</td>\n",
       "    </tr>\n",
       "    <tr>\n",
       "      <th>2</th>\n",
       "      <td>180000</td>\n",
       "      <td>11680</td>\n",
       "      <td>개포주공6단지</td>\n",
       "      <td>서울특별시</td>\n",
       "      <td>강남구</td>\n",
       "      <td>개포동</td>\n",
       "      <td>185</td>\n",
       "      <td>1983</td>\n",
       "      <td>2020</td>\n",
       "      <td>1</td>\n",
       "      <td>14</td>\n",
       "      <td>60.130</td>\n",
       "      <td>14</td>\n",
       "    </tr>\n",
       "    <tr>\n",
       "      <th>3</th>\n",
       "      <td>285000</td>\n",
       "      <td>11680</td>\n",
       "      <td>디에이치아너힐즈</td>\n",
       "      <td>서울특별시</td>\n",
       "      <td>강남구</td>\n",
       "      <td>개포동</td>\n",
       "      <td>1281</td>\n",
       "      <td>2019</td>\n",
       "      <td>2020</td>\n",
       "      <td>1</td>\n",
       "      <td>4</td>\n",
       "      <td>94.290</td>\n",
       "      <td>12</td>\n",
       "    </tr>\n",
       "    <tr>\n",
       "      <th>4</th>\n",
       "      <td>171000</td>\n",
       "      <td>11680</td>\n",
       "      <td>개포주공7단지</td>\n",
       "      <td>서울특별시</td>\n",
       "      <td>강남구</td>\n",
       "      <td>개포동</td>\n",
       "      <td>185</td>\n",
       "      <td>1983</td>\n",
       "      <td>2020</td>\n",
       "      <td>1</td>\n",
       "      <td>12</td>\n",
       "      <td>60.760</td>\n",
       "      <td>2</td>\n",
       "    </tr>\n",
       "    <tr>\n",
       "      <th>5</th>\n",
       "      <td>188000</td>\n",
       "      <td>11680</td>\n",
       "      <td>래미안블레스티지</td>\n",
       "      <td>서울특별시</td>\n",
       "      <td>강남구</td>\n",
       "      <td>개포동</td>\n",
       "      <td>1280</td>\n",
       "      <td>2019</td>\n",
       "      <td>2020</td>\n",
       "      <td>1</td>\n",
       "      <td>17</td>\n",
       "      <td>59.897</td>\n",
       "      <td>4</td>\n",
       "    </tr>\n",
       "  </tbody>\n",
       "</table>\n",
       "</div>"
      ],
      "text/plain": [
       "     거래금액   지역코드       아파트    시도명  시군구  법정동    지번  건축년도     년  월   일     전용면적  \\\n",
       "0  100500  11680   삼익대청아파트  서울특별시  강남구  개포동    12  1992  2020  1  31   39.530   \n",
       "1  203000  11680      개포자이  서울특별시  강남구  개포동  12-2  2004  2020  1   6  134.300   \n",
       "2  180000  11680   개포주공6단지  서울특별시  강남구  개포동   185  1983  2020  1  14   60.130   \n",
       "3  285000  11680  디에이치아너힐즈  서울특별시  강남구  개포동  1281  2019  2020  1   4   94.290   \n",
       "4  171000  11680   개포주공7단지  서울특별시  강남구  개포동   185  1983  2020  1  12   60.760   \n",
       "5  188000  11680  래미안블레스티지  서울특별시  강남구  개포동  1280  2019  2020  1  17   59.897   \n",
       "\n",
       "    층  \n",
       "0  13  \n",
       "1  17  \n",
       "2  14  \n",
       "3  12  \n",
       "4   2  \n",
       "5   4  "
      ]
     },
     "execution_count": 46,
     "metadata": {},
     "output_type": "execute_result"
    }
   ],
   "source": [
    "apt.loc[0:5, :]"
   ]
  },
  {
   "cell_type": "code",
   "execution_count": 47,
   "id": "69f0280f-5dca-4c4b-8b9a-e8327fffb24e",
   "metadata": {
    "collapsed": true,
    "jupyter": {
     "outputs_hidden": true
    }
   },
   "outputs": [
    {
     "data": {
      "text/plain": [
       "거래금액      int64\n",
       "지역코드      int64\n",
       "아파트      object\n",
       "시도명      object\n",
       "시군구      object\n",
       "법정동      object\n",
       "지번       object\n",
       "건축년도      int64\n",
       "년         int64\n",
       "월         int64\n",
       "일         int64\n",
       "전용면적    float64\n",
       "층         int64\n",
       "dtype: object"
      ]
     },
     "execution_count": 47,
     "metadata": {},
     "output_type": "execute_result"
    }
   ],
   "source": [
    "apt.dtypes"
   ]
  },
  {
   "cell_type": "code",
   "execution_count": 48,
   "id": "8e905d48-ac34-4ae1-a53c-b46c0f8499c5",
   "metadata": {
    "collapsed": true,
    "jupyter": {
     "outputs_hidden": true
    }
   },
   "outputs": [
    {
     "data": {
      "text/plain": [
       "거래금액     True\n",
       "지역코드     True\n",
       "아파트     False\n",
       "시도명     False\n",
       "시군구     False\n",
       "법정동     False\n",
       "지번      False\n",
       "건축년도     True\n",
       "년        True\n",
       "월        True\n",
       "일        True\n",
       "전용면적    False\n",
       "층        True\n",
       "dtype: bool"
      ]
     },
     "execution_count": 48,
     "metadata": {},
     "output_type": "execute_result"
    }
   ],
   "source": [
    "apt.dtypes == 'int64'"
   ]
  },
  {
   "cell_type": "code",
   "execution_count": 50,
   "id": "814957c2-178b-44a9-9767-f71ecdaa5a3e",
   "metadata": {
    "collapsed": true,
    "jupyter": {
     "outputs_hidden": true
    }
   },
   "outputs": [
    {
     "data": {
      "text/html": [
       "<div>\n",
       "<style scoped>\n",
       "    .dataframe tbody tr th:only-of-type {\n",
       "        vertical-align: middle;\n",
       "    }\n",
       "\n",
       "    .dataframe tbody tr th {\n",
       "        vertical-align: top;\n",
       "    }\n",
       "\n",
       "    .dataframe thead th {\n",
       "        text-align: right;\n",
       "    }\n",
       "</style>\n",
       "<table border=\"1\" class=\"dataframe\">\n",
       "  <thead>\n",
       "    <tr style=\"text-align: right;\">\n",
       "      <th></th>\n",
       "      <th>거래금액</th>\n",
       "      <th>지역코드</th>\n",
       "      <th>건축년도</th>\n",
       "      <th>년</th>\n",
       "      <th>월</th>\n",
       "      <th>일</th>\n",
       "      <th>층</th>\n",
       "    </tr>\n",
       "  </thead>\n",
       "  <tbody>\n",
       "    <tr>\n",
       "      <th>0</th>\n",
       "      <td>100500</td>\n",
       "      <td>11680</td>\n",
       "      <td>1992</td>\n",
       "      <td>2020</td>\n",
       "      <td>1</td>\n",
       "      <td>31</td>\n",
       "      <td>13</td>\n",
       "    </tr>\n",
       "    <tr>\n",
       "      <th>1</th>\n",
       "      <td>203000</td>\n",
       "      <td>11680</td>\n",
       "      <td>2004</td>\n",
       "      <td>2020</td>\n",
       "      <td>1</td>\n",
       "      <td>6</td>\n",
       "      <td>17</td>\n",
       "    </tr>\n",
       "    <tr>\n",
       "      <th>2</th>\n",
       "      <td>180000</td>\n",
       "      <td>11680</td>\n",
       "      <td>1983</td>\n",
       "      <td>2020</td>\n",
       "      <td>1</td>\n",
       "      <td>14</td>\n",
       "      <td>14</td>\n",
       "    </tr>\n",
       "    <tr>\n",
       "      <th>3</th>\n",
       "      <td>285000</td>\n",
       "      <td>11680</td>\n",
       "      <td>2019</td>\n",
       "      <td>2020</td>\n",
       "      <td>1</td>\n",
       "      <td>4</td>\n",
       "      <td>12</td>\n",
       "    </tr>\n",
       "    <tr>\n",
       "      <th>4</th>\n",
       "      <td>171000</td>\n",
       "      <td>11680</td>\n",
       "      <td>1983</td>\n",
       "      <td>2020</td>\n",
       "      <td>1</td>\n",
       "      <td>12</td>\n",
       "      <td>2</td>\n",
       "    </tr>\n",
       "    <tr>\n",
       "      <th>...</th>\n",
       "      <td>...</td>\n",
       "      <td>...</td>\n",
       "      <td>...</td>\n",
       "      <td>...</td>\n",
       "      <td>...</td>\n",
       "      <td>...</td>\n",
       "      <td>...</td>\n",
       "    </tr>\n",
       "    <tr>\n",
       "      <th>231899</th>\n",
       "      <td>74000</td>\n",
       "      <td>11260</td>\n",
       "      <td>1998</td>\n",
       "      <td>2024</td>\n",
       "      <td>11</td>\n",
       "      <td>21</td>\n",
       "      <td>11</td>\n",
       "    </tr>\n",
       "    <tr>\n",
       "      <th>231900</th>\n",
       "      <td>50500</td>\n",
       "      <td>11260</td>\n",
       "      <td>1995</td>\n",
       "      <td>2024</td>\n",
       "      <td>11</td>\n",
       "      <td>13</td>\n",
       "      <td>10</td>\n",
       "    </tr>\n",
       "    <tr>\n",
       "      <th>231901</th>\n",
       "      <td>60000</td>\n",
       "      <td>11260</td>\n",
       "      <td>1997</td>\n",
       "      <td>2024</td>\n",
       "      <td>11</td>\n",
       "      <td>18</td>\n",
       "      <td>4</td>\n",
       "    </tr>\n",
       "    <tr>\n",
       "      <th>231902</th>\n",
       "      <td>67000</td>\n",
       "      <td>11260</td>\n",
       "      <td>1998</td>\n",
       "      <td>2024</td>\n",
       "      <td>11</td>\n",
       "      <td>2</td>\n",
       "      <td>9</td>\n",
       "    </tr>\n",
       "    <tr>\n",
       "      <th>231903</th>\n",
       "      <td>11000</td>\n",
       "      <td>11260</td>\n",
       "      <td>2012</td>\n",
       "      <td>2024</td>\n",
       "      <td>12</td>\n",
       "      <td>7</td>\n",
       "      <td>15</td>\n",
       "    </tr>\n",
       "  </tbody>\n",
       "</table>\n",
       "<p>231904 rows × 7 columns</p>\n",
       "</div>"
      ],
      "text/plain": [
       "          거래금액   지역코드  건축년도     년   월   일   층\n",
       "0       100500  11680  1992  2020   1  31  13\n",
       "1       203000  11680  2004  2020   1   6  17\n",
       "2       180000  11680  1983  2020   1  14  14\n",
       "3       285000  11680  2019  2020   1   4  12\n",
       "4       171000  11680  1983  2020   1  12   2\n",
       "...        ...    ...   ...   ...  ..  ..  ..\n",
       "231899   74000  11260  1998  2024  11  21  11\n",
       "231900   50500  11260  1995  2024  11  13  10\n",
       "231901   60000  11260  1997  2024  11  18   4\n",
       "231902   67000  11260  1998  2024  11   2   9\n",
       "231903   11000  11260  2012  2024  12   7  15\n",
       "\n",
       "[231904 rows x 7 columns]"
      ]
     },
     "execution_count": 50,
     "metadata": {},
     "output_type": "execute_result"
    }
   ],
   "source": [
    "apt.loc[:, apt.dtypes == 'int64']"
   ]
  },
  {
   "cell_type": "code",
   "execution_count": 52,
   "id": "78752e31-1c29-4178-9d38-f55b4c2cad69",
   "metadata": {
    "collapsed": true,
    "jupyter": {
     "outputs_hidden": true
    }
   },
   "outputs": [
    {
     "data": {
      "text/html": [
       "<div>\n",
       "<style scoped>\n",
       "    .dataframe tbody tr th:only-of-type {\n",
       "        vertical-align: middle;\n",
       "    }\n",
       "\n",
       "    .dataframe tbody tr th {\n",
       "        vertical-align: top;\n",
       "    }\n",
       "\n",
       "    .dataframe thead th {\n",
       "        text-align: right;\n",
       "    }\n",
       "</style>\n",
       "<table border=\"1\" class=\"dataframe\">\n",
       "  <thead>\n",
       "    <tr style=\"text-align: right;\">\n",
       "      <th></th>\n",
       "      <th>거래금액</th>\n",
       "      <th>지역코드</th>\n",
       "      <th>건축년도</th>\n",
       "      <th>년</th>\n",
       "      <th>월</th>\n",
       "      <th>일</th>\n",
       "      <th>전용면적</th>\n",
       "      <th>층</th>\n",
       "    </tr>\n",
       "  </thead>\n",
       "  <tbody>\n",
       "    <tr>\n",
       "      <th>0</th>\n",
       "      <td>100500</td>\n",
       "      <td>11680</td>\n",
       "      <td>1992</td>\n",
       "      <td>2020</td>\n",
       "      <td>1</td>\n",
       "      <td>31</td>\n",
       "      <td>39.53</td>\n",
       "      <td>13</td>\n",
       "    </tr>\n",
       "    <tr>\n",
       "      <th>1</th>\n",
       "      <td>203000</td>\n",
       "      <td>11680</td>\n",
       "      <td>2004</td>\n",
       "      <td>2020</td>\n",
       "      <td>1</td>\n",
       "      <td>6</td>\n",
       "      <td>134.30</td>\n",
       "      <td>17</td>\n",
       "    </tr>\n",
       "    <tr>\n",
       "      <th>2</th>\n",
       "      <td>180000</td>\n",
       "      <td>11680</td>\n",
       "      <td>1983</td>\n",
       "      <td>2020</td>\n",
       "      <td>1</td>\n",
       "      <td>14</td>\n",
       "      <td>60.13</td>\n",
       "      <td>14</td>\n",
       "    </tr>\n",
       "    <tr>\n",
       "      <th>3</th>\n",
       "      <td>285000</td>\n",
       "      <td>11680</td>\n",
       "      <td>2019</td>\n",
       "      <td>2020</td>\n",
       "      <td>1</td>\n",
       "      <td>4</td>\n",
       "      <td>94.29</td>\n",
       "      <td>12</td>\n",
       "    </tr>\n",
       "    <tr>\n",
       "      <th>4</th>\n",
       "      <td>171000</td>\n",
       "      <td>11680</td>\n",
       "      <td>1983</td>\n",
       "      <td>2020</td>\n",
       "      <td>1</td>\n",
       "      <td>12</td>\n",
       "      <td>60.76</td>\n",
       "      <td>2</td>\n",
       "    </tr>\n",
       "    <tr>\n",
       "      <th>...</th>\n",
       "      <td>...</td>\n",
       "      <td>...</td>\n",
       "      <td>...</td>\n",
       "      <td>...</td>\n",
       "      <td>...</td>\n",
       "      <td>...</td>\n",
       "      <td>...</td>\n",
       "      <td>...</td>\n",
       "    </tr>\n",
       "    <tr>\n",
       "      <th>231899</th>\n",
       "      <td>74000</td>\n",
       "      <td>11260</td>\n",
       "      <td>1998</td>\n",
       "      <td>2024</td>\n",
       "      <td>11</td>\n",
       "      <td>21</td>\n",
       "      <td>84.03</td>\n",
       "      <td>11</td>\n",
       "    </tr>\n",
       "    <tr>\n",
       "      <th>231900</th>\n",
       "      <td>50500</td>\n",
       "      <td>11260</td>\n",
       "      <td>1995</td>\n",
       "      <td>2024</td>\n",
       "      <td>11</td>\n",
       "      <td>13</td>\n",
       "      <td>59.34</td>\n",
       "      <td>10</td>\n",
       "    </tr>\n",
       "    <tr>\n",
       "      <th>231901</th>\n",
       "      <td>60000</td>\n",
       "      <td>11260</td>\n",
       "      <td>1997</td>\n",
       "      <td>2024</td>\n",
       "      <td>11</td>\n",
       "      <td>18</td>\n",
       "      <td>59.76</td>\n",
       "      <td>4</td>\n",
       "    </tr>\n",
       "    <tr>\n",
       "      <th>231902</th>\n",
       "      <td>67000</td>\n",
       "      <td>11260</td>\n",
       "      <td>1998</td>\n",
       "      <td>2024</td>\n",
       "      <td>11</td>\n",
       "      <td>2</td>\n",
       "      <td>59.76</td>\n",
       "      <td>9</td>\n",
       "    </tr>\n",
       "    <tr>\n",
       "      <th>231903</th>\n",
       "      <td>11000</td>\n",
       "      <td>11260</td>\n",
       "      <td>2012</td>\n",
       "      <td>2024</td>\n",
       "      <td>12</td>\n",
       "      <td>7</td>\n",
       "      <td>17.94</td>\n",
       "      <td>15</td>\n",
       "    </tr>\n",
       "  </tbody>\n",
       "</table>\n",
       "<p>231904 rows × 8 columns</p>\n",
       "</div>"
      ],
      "text/plain": [
       "          거래금액   지역코드  건축년도     년   월   일    전용면적   층\n",
       "0       100500  11680  1992  2020   1  31   39.53  13\n",
       "1       203000  11680  2004  2020   1   6  134.30  17\n",
       "2       180000  11680  1983  2020   1  14   60.13  14\n",
       "3       285000  11680  2019  2020   1   4   94.29  12\n",
       "4       171000  11680  1983  2020   1  12   60.76   2\n",
       "...        ...    ...   ...   ...  ..  ..     ...  ..\n",
       "231899   74000  11260  1998  2024  11  21   84.03  11\n",
       "231900   50500  11260  1995  2024  11  13   59.34  10\n",
       "231901   60000  11260  1997  2024  11  18   59.76   4\n",
       "231902   67000  11260  1998  2024  11   2   59.76   9\n",
       "231903   11000  11260  2012  2024  12   7   17.94  15\n",
       "\n",
       "[231904 rows x 8 columns]"
      ]
     },
     "execution_count": 52,
     "metadata": {},
     "output_type": "execute_result"
    }
   ],
   "source": [
    "apt.loc[:, (apt.dtypes == 'int64') | (apt.dtypes == 'float64')]"
   ]
  },
  {
   "cell_type": "code",
   "execution_count": 53,
   "id": "2fbe0d11-81c8-4003-b616-4a372cec581a",
   "metadata": {
    "collapsed": true,
    "jupyter": {
     "outputs_hidden": true
    }
   },
   "outputs": [
    {
     "data": {
      "text/html": [
       "<div>\n",
       "<style scoped>\n",
       "    .dataframe tbody tr th:only-of-type {\n",
       "        vertical-align: middle;\n",
       "    }\n",
       "\n",
       "    .dataframe tbody tr th {\n",
       "        vertical-align: top;\n",
       "    }\n",
       "\n",
       "    .dataframe thead th {\n",
       "        text-align: right;\n",
       "    }\n",
       "</style>\n",
       "<table border=\"1\" class=\"dataframe\">\n",
       "  <thead>\n",
       "    <tr style=\"text-align: right;\">\n",
       "      <th></th>\n",
       "      <th>거래금액</th>\n",
       "      <th>지역코드</th>\n",
       "      <th>건축년도</th>\n",
       "      <th>년</th>\n",
       "      <th>월</th>\n",
       "      <th>일</th>\n",
       "      <th>전용면적</th>\n",
       "      <th>층</th>\n",
       "    </tr>\n",
       "  </thead>\n",
       "  <tbody>\n",
       "    <tr>\n",
       "      <th>0</th>\n",
       "      <td>100500</td>\n",
       "      <td>11680</td>\n",
       "      <td>1992</td>\n",
       "      <td>2020</td>\n",
       "      <td>1</td>\n",
       "      <td>31</td>\n",
       "      <td>39.53</td>\n",
       "      <td>13</td>\n",
       "    </tr>\n",
       "    <tr>\n",
       "      <th>1</th>\n",
       "      <td>203000</td>\n",
       "      <td>11680</td>\n",
       "      <td>2004</td>\n",
       "      <td>2020</td>\n",
       "      <td>1</td>\n",
       "      <td>6</td>\n",
       "      <td>134.30</td>\n",
       "      <td>17</td>\n",
       "    </tr>\n",
       "    <tr>\n",
       "      <th>2</th>\n",
       "      <td>180000</td>\n",
       "      <td>11680</td>\n",
       "      <td>1983</td>\n",
       "      <td>2020</td>\n",
       "      <td>1</td>\n",
       "      <td>14</td>\n",
       "      <td>60.13</td>\n",
       "      <td>14</td>\n",
       "    </tr>\n",
       "    <tr>\n",
       "      <th>3</th>\n",
       "      <td>285000</td>\n",
       "      <td>11680</td>\n",
       "      <td>2019</td>\n",
       "      <td>2020</td>\n",
       "      <td>1</td>\n",
       "      <td>4</td>\n",
       "      <td>94.29</td>\n",
       "      <td>12</td>\n",
       "    </tr>\n",
       "    <tr>\n",
       "      <th>4</th>\n",
       "      <td>171000</td>\n",
       "      <td>11680</td>\n",
       "      <td>1983</td>\n",
       "      <td>2020</td>\n",
       "      <td>1</td>\n",
       "      <td>12</td>\n",
       "      <td>60.76</td>\n",
       "      <td>2</td>\n",
       "    </tr>\n",
       "    <tr>\n",
       "      <th>...</th>\n",
       "      <td>...</td>\n",
       "      <td>...</td>\n",
       "      <td>...</td>\n",
       "      <td>...</td>\n",
       "      <td>...</td>\n",
       "      <td>...</td>\n",
       "      <td>...</td>\n",
       "      <td>...</td>\n",
       "    </tr>\n",
       "    <tr>\n",
       "      <th>231899</th>\n",
       "      <td>74000</td>\n",
       "      <td>11260</td>\n",
       "      <td>1998</td>\n",
       "      <td>2024</td>\n",
       "      <td>11</td>\n",
       "      <td>21</td>\n",
       "      <td>84.03</td>\n",
       "      <td>11</td>\n",
       "    </tr>\n",
       "    <tr>\n",
       "      <th>231900</th>\n",
       "      <td>50500</td>\n",
       "      <td>11260</td>\n",
       "      <td>1995</td>\n",
       "      <td>2024</td>\n",
       "      <td>11</td>\n",
       "      <td>13</td>\n",
       "      <td>59.34</td>\n",
       "      <td>10</td>\n",
       "    </tr>\n",
       "    <tr>\n",
       "      <th>231901</th>\n",
       "      <td>60000</td>\n",
       "      <td>11260</td>\n",
       "      <td>1997</td>\n",
       "      <td>2024</td>\n",
       "      <td>11</td>\n",
       "      <td>18</td>\n",
       "      <td>59.76</td>\n",
       "      <td>4</td>\n",
       "    </tr>\n",
       "    <tr>\n",
       "      <th>231902</th>\n",
       "      <td>67000</td>\n",
       "      <td>11260</td>\n",
       "      <td>1998</td>\n",
       "      <td>2024</td>\n",
       "      <td>11</td>\n",
       "      <td>2</td>\n",
       "      <td>59.76</td>\n",
       "      <td>9</td>\n",
       "    </tr>\n",
       "    <tr>\n",
       "      <th>231903</th>\n",
       "      <td>11000</td>\n",
       "      <td>11260</td>\n",
       "      <td>2012</td>\n",
       "      <td>2024</td>\n",
       "      <td>12</td>\n",
       "      <td>7</td>\n",
       "      <td>17.94</td>\n",
       "      <td>15</td>\n",
       "    </tr>\n",
       "  </tbody>\n",
       "</table>\n",
       "<p>231904 rows × 8 columns</p>\n",
       "</div>"
      ],
      "text/plain": [
       "          거래금액   지역코드  건축년도     년   월   일    전용면적   층\n",
       "0       100500  11680  1992  2020   1  31   39.53  13\n",
       "1       203000  11680  2004  2020   1   6  134.30  17\n",
       "2       180000  11680  1983  2020   1  14   60.13  14\n",
       "3       285000  11680  2019  2020   1   4   94.29  12\n",
       "4       171000  11680  1983  2020   1  12   60.76   2\n",
       "...        ...    ...   ...   ...  ..  ..     ...  ..\n",
       "231899   74000  11260  1998  2024  11  21   84.03  11\n",
       "231900   50500  11260  1995  2024  11  13   59.34  10\n",
       "231901   60000  11260  1997  2024  11  18   59.76   4\n",
       "231902   67000  11260  1998  2024  11   2   59.76   9\n",
       "231903   11000  11260  2012  2024  12   7   17.94  15\n",
       "\n",
       "[231904 rows x 8 columns]"
      ]
     },
     "execution_count": 53,
     "metadata": {},
     "output_type": "execute_result"
    }
   ],
   "source": [
    "apt.select_dtypes(include = [int, float])"
   ]
  },
  {
   "cell_type": "code",
   "execution_count": 54,
   "id": "a6aaa97d-e552-425e-895a-ff3ee352dcf0",
   "metadata": {},
   "outputs": [
    {
     "data": {
      "text/plain": [
       "Index(['거래금액', '지역코드', '아파트', '시도명', '시군구', '법정동', '지번', '건축년도', '년', '월', '일',\n",
       "       '전용면적', '층'],\n",
       "      dtype='object')"
      ]
     },
     "execution_count": 54,
     "metadata": {},
     "output_type": "execute_result"
    }
   ],
   "source": [
    "apt.columns"
   ]
  },
  {
   "cell_type": "code",
   "execution_count": 57,
   "id": "3db2ffe8-c1c9-40e9-bd94-a206111afc65",
   "metadata": {},
   "outputs": [
    {
     "data": {
      "text/html": [
       "<div>\n",
       "<style scoped>\n",
       "    .dataframe tbody tr th:only-of-type {\n",
       "        vertical-align: middle;\n",
       "    }\n",
       "\n",
       "    .dataframe tbody tr th {\n",
       "        vertical-align: top;\n",
       "    }\n",
       "\n",
       "    .dataframe thead th {\n",
       "        text-align: right;\n",
       "    }\n",
       "</style>\n",
       "<table border=\"1\" class=\"dataframe\">\n",
       "  <thead>\n",
       "    <tr style=\"text-align: right;\">\n",
       "      <th></th>\n",
       "      <th>건축년도</th>\n",
       "      <th>년</th>\n",
       "      <th>월</th>\n",
       "      <th>일</th>\n",
       "    </tr>\n",
       "  </thead>\n",
       "  <tbody>\n",
       "    <tr>\n",
       "      <th>0</th>\n",
       "      <td>1992</td>\n",
       "      <td>2020</td>\n",
       "      <td>1</td>\n",
       "      <td>31</td>\n",
       "    </tr>\n",
       "    <tr>\n",
       "      <th>1</th>\n",
       "      <td>2004</td>\n",
       "      <td>2020</td>\n",
       "      <td>1</td>\n",
       "      <td>6</td>\n",
       "    </tr>\n",
       "    <tr>\n",
       "      <th>2</th>\n",
       "      <td>1983</td>\n",
       "      <td>2020</td>\n",
       "      <td>1</td>\n",
       "      <td>14</td>\n",
       "    </tr>\n",
       "    <tr>\n",
       "      <th>3</th>\n",
       "      <td>2019</td>\n",
       "      <td>2020</td>\n",
       "      <td>1</td>\n",
       "      <td>4</td>\n",
       "    </tr>\n",
       "    <tr>\n",
       "      <th>4</th>\n",
       "      <td>1983</td>\n",
       "      <td>2020</td>\n",
       "      <td>1</td>\n",
       "      <td>12</td>\n",
       "    </tr>\n",
       "    <tr>\n",
       "      <th>...</th>\n",
       "      <td>...</td>\n",
       "      <td>...</td>\n",
       "      <td>...</td>\n",
       "      <td>...</td>\n",
       "    </tr>\n",
       "    <tr>\n",
       "      <th>231899</th>\n",
       "      <td>1998</td>\n",
       "      <td>2024</td>\n",
       "      <td>11</td>\n",
       "      <td>21</td>\n",
       "    </tr>\n",
       "    <tr>\n",
       "      <th>231900</th>\n",
       "      <td>1995</td>\n",
       "      <td>2024</td>\n",
       "      <td>11</td>\n",
       "      <td>13</td>\n",
       "    </tr>\n",
       "    <tr>\n",
       "      <th>231901</th>\n",
       "      <td>1997</td>\n",
       "      <td>2024</td>\n",
       "      <td>11</td>\n",
       "      <td>18</td>\n",
       "    </tr>\n",
       "    <tr>\n",
       "      <th>231902</th>\n",
       "      <td>1998</td>\n",
       "      <td>2024</td>\n",
       "      <td>11</td>\n",
       "      <td>2</td>\n",
       "    </tr>\n",
       "    <tr>\n",
       "      <th>231903</th>\n",
       "      <td>2012</td>\n",
       "      <td>2024</td>\n",
       "      <td>12</td>\n",
       "      <td>7</td>\n",
       "    </tr>\n",
       "  </tbody>\n",
       "</table>\n",
       "<p>231904 rows × 4 columns</p>\n",
       "</div>"
      ],
      "text/plain": [
       "        건축년도     년   월   일\n",
       "0       1992  2020   1  31\n",
       "1       2004  2020   1   6\n",
       "2       1983  2020   1  14\n",
       "3       2019  2020   1   4\n",
       "4       1983  2020   1  12\n",
       "...      ...   ...  ..  ..\n",
       "231899  1998  2024  11  21\n",
       "231900  1995  2024  11  13\n",
       "231901  1997  2024  11  18\n",
       "231902  1998  2024  11   2\n",
       "231903  2012  2024  12   7\n",
       "\n",
       "[231904 rows x 4 columns]"
      ]
     },
     "execution_count": 57,
     "metadata": {},
     "output_type": "execute_result"
    }
   ],
   "source": [
    "# str accessor(접근자): 시리즈 또는 인덱스 원소별로 문자열을 처리하는 함수를 갖는 객체(모듈)\n",
    "apt.loc[:, apt.columns.str.contains(pat = '년|월|일')]"
   ]
  },
  {
   "cell_type": "code",
   "execution_count": 58,
   "id": "c07d89c2-fa87-4fb1-96ac-7bd70a978792",
   "metadata": {},
   "outputs": [
    {
     "data": {
      "text/plain": [
       "0      ABCD\n",
       "1      abcd\n",
       "2      1234\n",
       "3      가나다라\n",
       "4      ㅋㅋㅎㅎ\n",
       "5      ㅜㅜㅠㅠ\n",
       "6     \\n\\t\\\n",
       "dtype: object"
      ]
     },
     "execution_count": 58,
     "metadata": {},
     "output_type": "execute_result"
    }
   ],
   "source": [
    "# '\\n'은 줄바꿈(new line), '\\t'은 탭(tab)\n",
    "strs = pd.Series(data = ['ABCD', 'abcd', '1234', '가나다라', 'ㅋㅋㅎㅎ', 'ㅜㅜㅠㅠ', ' \\n\\t\\\\'])\n",
    "strs"
   ]
  },
  {
   "cell_type": "code",
   "execution_count": 59,
   "id": "e11f3a4f-0760-4109-8638-e7db9d4941b4",
   "metadata": {},
   "outputs": [
    {
     "data": {
      "text/plain": [
       "0    4\n",
       "1    4\n",
       "2    4\n",
       "3    4\n",
       "4    4\n",
       "5    4\n",
       "6    4\n",
       "dtype: int64"
      ]
     },
     "execution_count": 59,
     "metadata": {},
     "output_type": "execute_result"
    }
   ],
   "source": [
    "strs.str.len()"
   ]
  },
  {
   "cell_type": "code",
   "execution_count": 60,
   "id": "d6a09a80-9e76-4e58-8e71-44e30e9aa82d",
   "metadata": {
    "collapsed": true,
    "jupyter": {
     "outputs_hidden": true
    }
   },
   "outputs": [
    {
     "data": {
      "text/html": [
       "<div>\n",
       "<style scoped>\n",
       "    .dataframe tbody tr th:only-of-type {\n",
       "        vertical-align: middle;\n",
       "    }\n",
       "\n",
       "    .dataframe tbody tr th {\n",
       "        vertical-align: top;\n",
       "    }\n",
       "\n",
       "    .dataframe thead th {\n",
       "        text-align: right;\n",
       "    }\n",
       "</style>\n",
       "<table border=\"1\" class=\"dataframe\">\n",
       "  <thead>\n",
       "    <tr style=\"text-align: right;\">\n",
       "      <th></th>\n",
       "      <th>0</th>\n",
       "    </tr>\n",
       "  </thead>\n",
       "  <tbody>\n",
       "    <tr>\n",
       "      <th>0</th>\n",
       "      <td>ABCD</td>\n",
       "    </tr>\n",
       "    <tr>\n",
       "      <th>1</th>\n",
       "      <td>NaN</td>\n",
       "    </tr>\n",
       "    <tr>\n",
       "      <th>2</th>\n",
       "      <td>NaN</td>\n",
       "    </tr>\n",
       "    <tr>\n",
       "      <th>3</th>\n",
       "      <td>NaN</td>\n",
       "    </tr>\n",
       "    <tr>\n",
       "      <th>4</th>\n",
       "      <td>NaN</td>\n",
       "    </tr>\n",
       "    <tr>\n",
       "      <th>5</th>\n",
       "      <td>NaN</td>\n",
       "    </tr>\n",
       "    <tr>\n",
       "      <th>6</th>\n",
       "      <td>NaN</td>\n",
       "    </tr>\n",
       "  </tbody>\n",
       "</table>\n",
       "</div>"
      ],
      "text/plain": [
       "      0\n",
       "0  ABCD\n",
       "1   NaN\n",
       "2   NaN\n",
       "3   NaN\n",
       "4   NaN\n",
       "5   NaN\n",
       "6   NaN"
      ]
     },
     "execution_count": 60,
     "metadata": {},
     "output_type": "execute_result"
    }
   ],
   "source": [
    "strs.str.extract(pat = r'([A-Z]+)')"
   ]
  },
  {
   "cell_type": "code",
   "execution_count": 61,
   "id": "6381c67b-6ad5-42fa-883d-712bb7695b36",
   "metadata": {
    "collapsed": true,
    "jupyter": {
     "outputs_hidden": true
    }
   },
   "outputs": [
    {
     "data": {
      "text/html": [
       "<div>\n",
       "<style scoped>\n",
       "    .dataframe tbody tr th:only-of-type {\n",
       "        vertical-align: middle;\n",
       "    }\n",
       "\n",
       "    .dataframe tbody tr th {\n",
       "        vertical-align: top;\n",
       "    }\n",
       "\n",
       "    .dataframe thead th {\n",
       "        text-align: right;\n",
       "    }\n",
       "</style>\n",
       "<table border=\"1\" class=\"dataframe\">\n",
       "  <thead>\n",
       "    <tr style=\"text-align: right;\">\n",
       "      <th></th>\n",
       "      <th>0</th>\n",
       "    </tr>\n",
       "  </thead>\n",
       "  <tbody>\n",
       "    <tr>\n",
       "      <th>0</th>\n",
       "      <td>NaN</td>\n",
       "    </tr>\n",
       "    <tr>\n",
       "      <th>1</th>\n",
       "      <td>abcd</td>\n",
       "    </tr>\n",
       "    <tr>\n",
       "      <th>2</th>\n",
       "      <td>NaN</td>\n",
       "    </tr>\n",
       "    <tr>\n",
       "      <th>3</th>\n",
       "      <td>NaN</td>\n",
       "    </tr>\n",
       "    <tr>\n",
       "      <th>4</th>\n",
       "      <td>NaN</td>\n",
       "    </tr>\n",
       "    <tr>\n",
       "      <th>5</th>\n",
       "      <td>NaN</td>\n",
       "    </tr>\n",
       "    <tr>\n",
       "      <th>6</th>\n",
       "      <td>NaN</td>\n",
       "    </tr>\n",
       "  </tbody>\n",
       "</table>\n",
       "</div>"
      ],
      "text/plain": [
       "      0\n",
       "0   NaN\n",
       "1  abcd\n",
       "2   NaN\n",
       "3   NaN\n",
       "4   NaN\n",
       "5   NaN\n",
       "6   NaN"
      ]
     },
     "execution_count": 61,
     "metadata": {},
     "output_type": "execute_result"
    }
   ],
   "source": [
    "strs.str.extract(pat = r'([a-z]+)')"
   ]
  },
  {
   "cell_type": "code",
   "execution_count": 62,
   "id": "db68a5e3-0899-48fa-87c1-fe981a207b91",
   "metadata": {
    "collapsed": true,
    "jupyter": {
     "outputs_hidden": true
    }
   },
   "outputs": [
    {
     "data": {
      "text/html": [
       "<div>\n",
       "<style scoped>\n",
       "    .dataframe tbody tr th:only-of-type {\n",
       "        vertical-align: middle;\n",
       "    }\n",
       "\n",
       "    .dataframe tbody tr th {\n",
       "        vertical-align: top;\n",
       "    }\n",
       "\n",
       "    .dataframe thead th {\n",
       "        text-align: right;\n",
       "    }\n",
       "</style>\n",
       "<table border=\"1\" class=\"dataframe\">\n",
       "  <thead>\n",
       "    <tr style=\"text-align: right;\">\n",
       "      <th></th>\n",
       "      <th>0</th>\n",
       "    </tr>\n",
       "  </thead>\n",
       "  <tbody>\n",
       "    <tr>\n",
       "      <th>0</th>\n",
       "      <td>NaN</td>\n",
       "    </tr>\n",
       "    <tr>\n",
       "      <th>1</th>\n",
       "      <td>NaN</td>\n",
       "    </tr>\n",
       "    <tr>\n",
       "      <th>2</th>\n",
       "      <td>1234</td>\n",
       "    </tr>\n",
       "    <tr>\n",
       "      <th>3</th>\n",
       "      <td>NaN</td>\n",
       "    </tr>\n",
       "    <tr>\n",
       "      <th>4</th>\n",
       "      <td>NaN</td>\n",
       "    </tr>\n",
       "    <tr>\n",
       "      <th>5</th>\n",
       "      <td>NaN</td>\n",
       "    </tr>\n",
       "    <tr>\n",
       "      <th>6</th>\n",
       "      <td>NaN</td>\n",
       "    </tr>\n",
       "  </tbody>\n",
       "</table>\n",
       "</div>"
      ],
      "text/plain": [
       "      0\n",
       "0   NaN\n",
       "1   NaN\n",
       "2  1234\n",
       "3   NaN\n",
       "4   NaN\n",
       "5   NaN\n",
       "6   NaN"
      ]
     },
     "execution_count": 62,
     "metadata": {},
     "output_type": "execute_result"
    }
   ],
   "source": [
    "strs.str.extract(pat = r'([0-9]+)')"
   ]
  },
  {
   "cell_type": "code",
   "execution_count": 63,
   "id": "e6e0e4fa-13db-43ff-8376-078605309724",
   "metadata": {
    "collapsed": true,
    "jupyter": {
     "outputs_hidden": true
    }
   },
   "outputs": [
    {
     "data": {
      "text/html": [
       "<div>\n",
       "<style scoped>\n",
       "    .dataframe tbody tr th:only-of-type {\n",
       "        vertical-align: middle;\n",
       "    }\n",
       "\n",
       "    .dataframe tbody tr th {\n",
       "        vertical-align: top;\n",
       "    }\n",
       "\n",
       "    .dataframe thead th {\n",
       "        text-align: right;\n",
       "    }\n",
       "</style>\n",
       "<table border=\"1\" class=\"dataframe\">\n",
       "  <thead>\n",
       "    <tr style=\"text-align: right;\">\n",
       "      <th></th>\n",
       "      <th>0</th>\n",
       "    </tr>\n",
       "  </thead>\n",
       "  <tbody>\n",
       "    <tr>\n",
       "      <th>0</th>\n",
       "      <td>NaN</td>\n",
       "    </tr>\n",
       "    <tr>\n",
       "      <th>1</th>\n",
       "      <td>NaN</td>\n",
       "    </tr>\n",
       "    <tr>\n",
       "      <th>2</th>\n",
       "      <td>NaN</td>\n",
       "    </tr>\n",
       "    <tr>\n",
       "      <th>3</th>\n",
       "      <td>가나다라</td>\n",
       "    </tr>\n",
       "    <tr>\n",
       "      <th>4</th>\n",
       "      <td>NaN</td>\n",
       "    </tr>\n",
       "    <tr>\n",
       "      <th>5</th>\n",
       "      <td>NaN</td>\n",
       "    </tr>\n",
       "    <tr>\n",
       "      <th>6</th>\n",
       "      <td>NaN</td>\n",
       "    </tr>\n",
       "  </tbody>\n",
       "</table>\n",
       "</div>"
      ],
      "text/plain": [
       "      0\n",
       "0   NaN\n",
       "1   NaN\n",
       "2   NaN\n",
       "3  가나다라\n",
       "4   NaN\n",
       "5   NaN\n",
       "6   NaN"
      ]
     },
     "execution_count": 63,
     "metadata": {},
     "output_type": "execute_result"
    }
   ],
   "source": [
    "strs.str.extract(pat = r'([가-힣]+)')"
   ]
  },
  {
   "cell_type": "code",
   "execution_count": 64,
   "id": "e16611f2-8694-4d62-950a-ca0dc14446db",
   "metadata": {
    "collapsed": true,
    "jupyter": {
     "outputs_hidden": true
    }
   },
   "outputs": [
    {
     "data": {
      "text/html": [
       "<div>\n",
       "<style scoped>\n",
       "    .dataframe tbody tr th:only-of-type {\n",
       "        vertical-align: middle;\n",
       "    }\n",
       "\n",
       "    .dataframe tbody tr th {\n",
       "        vertical-align: top;\n",
       "    }\n",
       "\n",
       "    .dataframe thead th {\n",
       "        text-align: right;\n",
       "    }\n",
       "</style>\n",
       "<table border=\"1\" class=\"dataframe\">\n",
       "  <thead>\n",
       "    <tr style=\"text-align: right;\">\n",
       "      <th></th>\n",
       "      <th>0</th>\n",
       "    </tr>\n",
       "  </thead>\n",
       "  <tbody>\n",
       "    <tr>\n",
       "      <th>0</th>\n",
       "      <td>NaN</td>\n",
       "    </tr>\n",
       "    <tr>\n",
       "      <th>1</th>\n",
       "      <td>NaN</td>\n",
       "    </tr>\n",
       "    <tr>\n",
       "      <th>2</th>\n",
       "      <td>NaN</td>\n",
       "    </tr>\n",
       "    <tr>\n",
       "      <th>3</th>\n",
       "      <td>NaN</td>\n",
       "    </tr>\n",
       "    <tr>\n",
       "      <th>4</th>\n",
       "      <td>ㅋㅋㅎㅎ</td>\n",
       "    </tr>\n",
       "    <tr>\n",
       "      <th>5</th>\n",
       "      <td>NaN</td>\n",
       "    </tr>\n",
       "    <tr>\n",
       "      <th>6</th>\n",
       "      <td>NaN</td>\n",
       "    </tr>\n",
       "  </tbody>\n",
       "</table>\n",
       "</div>"
      ],
      "text/plain": [
       "      0\n",
       "0   NaN\n",
       "1   NaN\n",
       "2   NaN\n",
       "3   NaN\n",
       "4  ㅋㅋㅎㅎ\n",
       "5   NaN\n",
       "6   NaN"
      ]
     },
     "execution_count": 64,
     "metadata": {},
     "output_type": "execute_result"
    }
   ],
   "source": [
    "strs.str.extract(pat = r'([ㄱ-ㅎ]+)')"
   ]
  },
  {
   "cell_type": "code",
   "execution_count": 65,
   "id": "782f32cf-e134-45e1-81b7-60c12f1125fc",
   "metadata": {
    "collapsed": true,
    "jupyter": {
     "outputs_hidden": true
    }
   },
   "outputs": [
    {
     "data": {
      "text/html": [
       "<div>\n",
       "<style scoped>\n",
       "    .dataframe tbody tr th:only-of-type {\n",
       "        vertical-align: middle;\n",
       "    }\n",
       "\n",
       "    .dataframe tbody tr th {\n",
       "        vertical-align: top;\n",
       "    }\n",
       "\n",
       "    .dataframe thead th {\n",
       "        text-align: right;\n",
       "    }\n",
       "</style>\n",
       "<table border=\"1\" class=\"dataframe\">\n",
       "  <thead>\n",
       "    <tr style=\"text-align: right;\">\n",
       "      <th></th>\n",
       "      <th>0</th>\n",
       "    </tr>\n",
       "  </thead>\n",
       "  <tbody>\n",
       "    <tr>\n",
       "      <th>0</th>\n",
       "      <td>NaN</td>\n",
       "    </tr>\n",
       "    <tr>\n",
       "      <th>1</th>\n",
       "      <td>NaN</td>\n",
       "    </tr>\n",
       "    <tr>\n",
       "      <th>2</th>\n",
       "      <td>NaN</td>\n",
       "    </tr>\n",
       "    <tr>\n",
       "      <th>3</th>\n",
       "      <td>NaN</td>\n",
       "    </tr>\n",
       "    <tr>\n",
       "      <th>4</th>\n",
       "      <td>NaN</td>\n",
       "    </tr>\n",
       "    <tr>\n",
       "      <th>5</th>\n",
       "      <td>ㅜㅜㅠㅠ</td>\n",
       "    </tr>\n",
       "    <tr>\n",
       "      <th>6</th>\n",
       "      <td>NaN</td>\n",
       "    </tr>\n",
       "  </tbody>\n",
       "</table>\n",
       "</div>"
      ],
      "text/plain": [
       "      0\n",
       "0   NaN\n",
       "1   NaN\n",
       "2   NaN\n",
       "3   NaN\n",
       "4   NaN\n",
       "5  ㅜㅜㅠㅠ\n",
       "6   NaN"
      ]
     },
     "execution_count": 65,
     "metadata": {},
     "output_type": "execute_result"
    }
   ],
   "source": [
    "strs.str.extract(pat = r'([ㅏ-ㅣ]+)')"
   ]
  },
  {
   "cell_type": "code",
   "execution_count": 70,
   "id": "10e8cb07-f22e-4db4-b62f-8a30c3158e1d",
   "metadata": {},
   "outputs": [],
   "source": [
    "tels = pd.Series(data = ['010-2345-6789', '010-3456-7890', '02-345-6789', '123456-7890123'])"
   ]
  },
  {
   "cell_type": "code",
   "execution_count": 71,
   "id": "1a029d67-a803-4be6-b208-363eb7fabcb8",
   "metadata": {
    "collapsed": true,
    "jupyter": {
     "outputs_hidden": true
    }
   },
   "outputs": [
    {
     "data": {
      "text/html": [
       "<div>\n",
       "<style scoped>\n",
       "    .dataframe tbody tr th:only-of-type {\n",
       "        vertical-align: middle;\n",
       "    }\n",
       "\n",
       "    .dataframe tbody tr th {\n",
       "        vertical-align: top;\n",
       "    }\n",
       "\n",
       "    .dataframe thead th {\n",
       "        text-align: right;\n",
       "    }\n",
       "</style>\n",
       "<table border=\"1\" class=\"dataframe\">\n",
       "  <thead>\n",
       "    <tr style=\"text-align: right;\">\n",
       "      <th></th>\n",
       "      <th>0</th>\n",
       "    </tr>\n",
       "  </thead>\n",
       "  <tbody>\n",
       "    <tr>\n",
       "      <th>0</th>\n",
       "      <td>010-2345-6789</td>\n",
       "    </tr>\n",
       "    <tr>\n",
       "      <th>1</th>\n",
       "      <td>010-3456-7890</td>\n",
       "    </tr>\n",
       "    <tr>\n",
       "      <th>2</th>\n",
       "      <td>NaN</td>\n",
       "    </tr>\n",
       "    <tr>\n",
       "      <th>3</th>\n",
       "      <td>NaN</td>\n",
       "    </tr>\n",
       "  </tbody>\n",
       "</table>\n",
       "</div>"
      ],
      "text/plain": [
       "               0\n",
       "0  010-2345-6789\n",
       "1  010-3456-7890\n",
       "2            NaN\n",
       "3            NaN"
      ]
     },
     "execution_count": 71,
     "metadata": {},
     "output_type": "execute_result"
    }
   ],
   "source": [
    "tels.str.extract(pat = r'(010-[0-9]{4}-[0-9]{4})')"
   ]
  },
  {
   "cell_type": "code",
   "execution_count": 72,
   "id": "bc5d8893-7ad9-4956-8f1d-e70a20844fd9",
   "metadata": {
    "collapsed": true,
    "jupyter": {
     "outputs_hidden": true
    }
   },
   "outputs": [
    {
     "data": {
      "text/html": [
       "<div>\n",
       "<style scoped>\n",
       "    .dataframe tbody tr th:only-of-type {\n",
       "        vertical-align: middle;\n",
       "    }\n",
       "\n",
       "    .dataframe tbody tr th {\n",
       "        vertical-align: top;\n",
       "    }\n",
       "\n",
       "    .dataframe thead th {\n",
       "        text-align: right;\n",
       "    }\n",
       "</style>\n",
       "<table border=\"1\" class=\"dataframe\">\n",
       "  <thead>\n",
       "    <tr style=\"text-align: right;\">\n",
       "      <th></th>\n",
       "      <th>0</th>\n",
       "    </tr>\n",
       "  </thead>\n",
       "  <tbody>\n",
       "    <tr>\n",
       "      <th>0</th>\n",
       "      <td>010-2345-6789</td>\n",
       "    </tr>\n",
       "    <tr>\n",
       "      <th>1</th>\n",
       "      <td>010-3456-7890</td>\n",
       "    </tr>\n",
       "    <tr>\n",
       "      <th>2</th>\n",
       "      <td>02-345-6789</td>\n",
       "    </tr>\n",
       "    <tr>\n",
       "      <th>3</th>\n",
       "      <td>NaN</td>\n",
       "    </tr>\n",
       "  </tbody>\n",
       "</table>\n",
       "</div>"
      ],
      "text/plain": [
       "               0\n",
       "0  010-2345-6789\n",
       "1  010-3456-7890\n",
       "2    02-345-6789\n",
       "3            NaN"
      ]
     },
     "execution_count": 72,
     "metadata": {},
     "output_type": "execute_result"
    }
   ],
   "source": [
    "tels.str.extract(pat = r'(0[0-9]{1,2}-[0-9]{3,4}-[0-9]{4})')"
   ]
  },
  {
   "cell_type": "code",
   "execution_count": 73,
   "id": "ca5dfe3c-eff6-4fc5-b3d5-7e18e85d761e",
   "metadata": {
    "collapsed": true,
    "jupyter": {
     "outputs_hidden": true
    }
   },
   "outputs": [
    {
     "data": {
      "text/plain": [
       "0                  \n",
       "1                  \n",
       "2                  \n",
       "3    123456-7890123\n",
       "dtype: object"
      ]
     },
     "execution_count": 73,
     "metadata": {},
     "output_type": "execute_result"
    }
   ],
   "source": [
    "tels.str.replace(pat = r'(0[0-9]{1,2}-[0-9]{3,4}-[0-9]{4})', repl = '', regex = True)"
   ]
  },
  {
   "cell_type": "code",
   "execution_count": 78,
   "id": "2ac5be4f-898e-4776-a2f5-bf35d5317f7b",
   "metadata": {},
   "outputs": [],
   "source": [
    "addr = pd.Series(data = ['서울특별시 강남구 역삼동 1', '인천광역시 계양구 서운동 2', '경기도 성남시 분당구 이매동 3'])"
   ]
  },
  {
   "cell_type": "code",
   "execution_count": 77,
   "id": "d00c353b-7150-406a-a9dd-7df91297374f",
   "metadata": {},
   "outputs": [
    {
     "data": {
      "text/html": [
       "<div>\n",
       "<style scoped>\n",
       "    .dataframe tbody tr th:only-of-type {\n",
       "        vertical-align: middle;\n",
       "    }\n",
       "\n",
       "    .dataframe tbody tr th {\n",
       "        vertical-align: top;\n",
       "    }\n",
       "\n",
       "    .dataframe thead th {\n",
       "        text-align: right;\n",
       "    }\n",
       "</style>\n",
       "<table border=\"1\" class=\"dataframe\">\n",
       "  <thead>\n",
       "    <tr style=\"text-align: right;\">\n",
       "      <th></th>\n",
       "      <th>0</th>\n",
       "    </tr>\n",
       "  </thead>\n",
       "  <tbody>\n",
       "    <tr>\n",
       "      <th>0</th>\n",
       "      <td>서울특별시</td>\n",
       "    </tr>\n",
       "    <tr>\n",
       "      <th>1</th>\n",
       "      <td>인천광역시</td>\n",
       "    </tr>\n",
       "    <tr>\n",
       "      <th>2</th>\n",
       "      <td>경기도</td>\n",
       "    </tr>\n",
       "  </tbody>\n",
       "</table>\n",
       "</div>"
      ],
      "text/plain": [
       "       0\n",
       "0  서울특별시\n",
       "1  인천광역시\n",
       "2    경기도"
      ]
     },
     "execution_count": 77,
     "metadata": {},
     "output_type": "execute_result"
    }
   ],
   "source": [
    "addr.str.extract(pat = r'([가-힣]+)')"
   ]
  },
  {
   "cell_type": "code",
   "execution_count": 79,
   "id": "e47ac7d4-6453-491a-ab0c-f5b98593adf2",
   "metadata": {},
   "outputs": [],
   "source": [
    "prod = pd.Series(data = ['45ABC-DFG', '55AEF-JKE', 'OLED85AED-JKI'])"
   ]
  },
  {
   "cell_type": "code",
   "execution_count": 80,
   "id": "391b9df7-9b9e-42aa-8adc-ac5106902105",
   "metadata": {
    "collapsed": true,
    "jupyter": {
     "outputs_hidden": true
    }
   },
   "outputs": [
    {
     "data": {
      "text/html": [
       "<div>\n",
       "<style scoped>\n",
       "    .dataframe tbody tr th:only-of-type {\n",
       "        vertical-align: middle;\n",
       "    }\n",
       "\n",
       "    .dataframe tbody tr th {\n",
       "        vertical-align: top;\n",
       "    }\n",
       "\n",
       "    .dataframe thead th {\n",
       "        text-align: right;\n",
       "    }\n",
       "</style>\n",
       "<table border=\"1\" class=\"dataframe\">\n",
       "  <thead>\n",
       "    <tr style=\"text-align: right;\">\n",
       "      <th></th>\n",
       "      <th>0</th>\n",
       "    </tr>\n",
       "  </thead>\n",
       "  <tbody>\n",
       "    <tr>\n",
       "      <th>0</th>\n",
       "      <td>45</td>\n",
       "    </tr>\n",
       "    <tr>\n",
       "      <th>1</th>\n",
       "      <td>55</td>\n",
       "    </tr>\n",
       "    <tr>\n",
       "      <th>2</th>\n",
       "      <td>85</td>\n",
       "    </tr>\n",
       "  </tbody>\n",
       "</table>\n",
       "</div>"
      ],
      "text/plain": [
       "    0\n",
       "0  45\n",
       "1  55\n",
       "2  85"
      ]
     },
     "execution_count": 80,
     "metadata": {},
     "output_type": "execute_result"
    }
   ],
   "source": [
    "prod.str.extract(pat = r'([0-9]+)')"
   ]
  },
  {
   "cell_type": "code",
   "execution_count": 83,
   "id": "9a0ad811-e39f-4a8d-bbe3-7b44f5c219b0",
   "metadata": {
    "collapsed": true,
    "jupyter": {
     "outputs_hidden": true
    }
   },
   "outputs": [
    {
     "data": {
      "text/html": [
       "<div>\n",
       "<style scoped>\n",
       "    .dataframe tbody tr th:only-of-type {\n",
       "        vertical-align: middle;\n",
       "    }\n",
       "\n",
       "    .dataframe tbody tr th {\n",
       "        vertical-align: top;\n",
       "    }\n",
       "\n",
       "    .dataframe thead th {\n",
       "        text-align: right;\n",
       "    }\n",
       "</style>\n",
       "<table border=\"1\" class=\"dataframe\">\n",
       "  <thead>\n",
       "    <tr style=\"text-align: right;\">\n",
       "      <th></th>\n",
       "      <th>0</th>\n",
       "    </tr>\n",
       "  </thead>\n",
       "  <tbody>\n",
       "    <tr>\n",
       "      <th>0</th>\n",
       "      <td>ABC</td>\n",
       "    </tr>\n",
       "    <tr>\n",
       "      <th>1</th>\n",
       "      <td>AEF</td>\n",
       "    </tr>\n",
       "    <tr>\n",
       "      <th>2</th>\n",
       "      <td>OLED</td>\n",
       "    </tr>\n",
       "  </tbody>\n",
       "</table>\n",
       "</div>"
      ],
      "text/plain": [
       "      0\n",
       "0   ABC\n",
       "1   AEF\n",
       "2  OLED"
      ]
     },
     "execution_count": 83,
     "metadata": {},
     "output_type": "execute_result"
    }
   ],
   "source": [
    "prod.str.extract(pat = r'([A-Z]+)')"
   ]
  },
  {
   "cell_type": "code",
   "execution_count": 82,
   "id": "c68eba85-4acd-4413-8cab-45817d5f6b0d",
   "metadata": {
    "collapsed": true,
    "jupyter": {
     "outputs_hidden": true
    }
   },
   "outputs": [
    {
     "data": {
      "text/html": [
       "<div>\n",
       "<style scoped>\n",
       "    .dataframe tbody tr th:only-of-type {\n",
       "        vertical-align: middle;\n",
       "    }\n",
       "\n",
       "    .dataframe tbody tr th {\n",
       "        vertical-align: top;\n",
       "    }\n",
       "\n",
       "    .dataframe thead th {\n",
       "        text-align: right;\n",
       "    }\n",
       "</style>\n",
       "<table border=\"1\" class=\"dataframe\">\n",
       "  <thead>\n",
       "    <tr style=\"text-align: right;\">\n",
       "      <th></th>\n",
       "      <th>0</th>\n",
       "    </tr>\n",
       "  </thead>\n",
       "  <tbody>\n",
       "    <tr>\n",
       "      <th>0</th>\n",
       "      <td>ABC</td>\n",
       "    </tr>\n",
       "    <tr>\n",
       "      <th>1</th>\n",
       "      <td>AEF</td>\n",
       "    </tr>\n",
       "    <tr>\n",
       "      <th>2</th>\n",
       "      <td>AED</td>\n",
       "    </tr>\n",
       "  </tbody>\n",
       "</table>\n",
       "</div>"
      ],
      "text/plain": [
       "     0\n",
       "0  ABC\n",
       "1  AEF\n",
       "2  AED"
      ]
     },
     "execution_count": 82,
     "metadata": {},
     "output_type": "execute_result"
    }
   ],
   "source": [
    "prod.str.extract(pat = r'((?<=\\d)[A-Z]+)')"
   ]
  },
  {
   "cell_type": "code",
   "execution_count": 84,
   "id": "2344cf24-984b-4d64-bb75-4f17642f1b2e",
   "metadata": {
    "collapsed": true,
    "jupyter": {
     "outputs_hidden": true
    }
   },
   "outputs": [
    {
     "data": {
      "text/html": [
       "<div>\n",
       "<style scoped>\n",
       "    .dataframe tbody tr th:only-of-type {\n",
       "        vertical-align: middle;\n",
       "    }\n",
       "\n",
       "    .dataframe tbody tr th {\n",
       "        vertical-align: top;\n",
       "    }\n",
       "\n",
       "    .dataframe thead th {\n",
       "        text-align: right;\n",
       "    }\n",
       "</style>\n",
       "<table border=\"1\" class=\"dataframe\">\n",
       "  <thead>\n",
       "    <tr style=\"text-align: right;\">\n",
       "      <th></th>\n",
       "      <th>0</th>\n",
       "    </tr>\n",
       "  </thead>\n",
       "  <tbody>\n",
       "    <tr>\n",
       "      <th>0</th>\n",
       "      <td>DFG</td>\n",
       "    </tr>\n",
       "    <tr>\n",
       "      <th>1</th>\n",
       "      <td>JKE</td>\n",
       "    </tr>\n",
       "    <tr>\n",
       "      <th>2</th>\n",
       "      <td>JKI</td>\n",
       "    </tr>\n",
       "  </tbody>\n",
       "</table>\n",
       "</div>"
      ],
      "text/plain": [
       "     0\n",
       "0  DFG\n",
       "1  JKE\n",
       "2  JKI"
      ]
     },
     "execution_count": 84,
     "metadata": {},
     "output_type": "execute_result"
    }
   ],
   "source": [
    "prod.str.extract(pat = r'([A-Z]+$)')"
   ]
  },
  {
   "cell_type": "code",
   "execution_count": 85,
   "id": "4b417cd6-02d8-4015-81de-e62e34c0b729",
   "metadata": {},
   "outputs": [
    {
     "data": {
      "text/plain": [
       "0     010-2345-6789\n",
       "1     010-3456-7890\n",
       "2       02-345-6789\n",
       "3    123456-7890123\n",
       "dtype: object"
      ]
     },
     "execution_count": 85,
     "metadata": {},
     "output_type": "execute_result"
    }
   ],
   "source": [
    "tels"
   ]
  },
  {
   "cell_type": "code",
   "execution_count": 86,
   "id": "1bf1bf3a-5363-49fb-877c-ed2cc1b49a1d",
   "metadata": {
    "collapsed": true,
    "jupyter": {
     "outputs_hidden": true
    }
   },
   "outputs": [
    {
     "data": {
      "text/plain": [
       "0    0\n",
       "1    0\n",
       "2    0\n",
       "3    1\n",
       "dtype: object"
      ]
     },
     "execution_count": 86,
     "metadata": {},
     "output_type": "execute_result"
    }
   ],
   "source": [
    "tels.str[0]"
   ]
  },
  {
   "cell_type": "code",
   "execution_count": 87,
   "id": "48f70831-4561-412c-a1f1-ecf2f5a2c9ad",
   "metadata": {
    "collapsed": true,
    "jupyter": {
     "outputs_hidden": true
    }
   },
   "outputs": [
    {
     "data": {
      "text/plain": [
       "0    01\n",
       "1    01\n",
       "2    02\n",
       "3    12\n",
       "dtype: object"
      ]
     },
     "execution_count": 87,
     "metadata": {},
     "output_type": "execute_result"
    }
   ],
   "source": [
    "tels.str[0:2]"
   ]
  },
  {
   "cell_type": "code",
   "execution_count": 89,
   "id": "7c262257-d12f-4d45-89f7-faab18ca62af",
   "metadata": {},
   "outputs": [
    {
     "data": {
      "text/plain": [
       "0    [010, 2345, 6789]\n",
       "1    [010, 3456, 7890]\n",
       "2      [02, 345, 6789]\n",
       "3    [123456, 7890123]\n",
       "dtype: object"
      ]
     },
     "execution_count": 89,
     "metadata": {},
     "output_type": "execute_result"
    }
   ],
   "source": [
    "tels.str.split(pat = '-')"
   ]
  },
  {
   "cell_type": "code",
   "execution_count": 90,
   "id": "c4ed5080-da58-49b4-b5b5-4e4bea26d526",
   "metadata": {},
   "outputs": [
    {
     "data": {
      "text/plain": [
       "0       010\n",
       "1       010\n",
       "2        02\n",
       "3    123456\n",
       "dtype: object"
      ]
     },
     "execution_count": 90,
     "metadata": {},
     "output_type": "execute_result"
    }
   ],
   "source": [
    "tels.str.split(pat = '-').str[0]"
   ]
  },
  {
   "cell_type": "code",
   "execution_count": 92,
   "id": "5bc53f5b-144f-49fc-9972-1d601e181e0c",
   "metadata": {},
   "outputs": [
    {
     "data": {
      "text/plain": [
       "0     010=2345=6789\n",
       "1     010=3456=7890\n",
       "2       02=345=6789\n",
       "3    123456=7890123\n",
       "dtype: object"
      ]
     },
     "execution_count": 92,
     "metadata": {},
     "output_type": "execute_result"
    }
   ],
   "source": [
    "tels.str.replace(pat = '-', repl = '=')"
   ]
  },
  {
   "cell_type": "code",
   "execution_count": 93,
   "id": "cfa3d3bd-aec3-4bca-8a7d-36a6ad3a3454",
   "metadata": {},
   "outputs": [
    {
     "data": {
      "text/html": [
       "<div>\n",
       "<style scoped>\n",
       "    .dataframe tbody tr th:only-of-type {\n",
       "        vertical-align: middle;\n",
       "    }\n",
       "\n",
       "    .dataframe tbody tr th {\n",
       "        vertical-align: top;\n",
       "    }\n",
       "\n",
       "    .dataframe thead th {\n",
       "        text-align: right;\n",
       "    }\n",
       "</style>\n",
       "<table border=\"1\" class=\"dataframe\">\n",
       "  <thead>\n",
       "    <tr style=\"text-align: right;\">\n",
       "      <th></th>\n",
       "      <th>0</th>\n",
       "    </tr>\n",
       "  </thead>\n",
       "  <tbody>\n",
       "    <tr>\n",
       "      <th>0</th>\n",
       "      <td>010</td>\n",
       "    </tr>\n",
       "    <tr>\n",
       "      <th>1</th>\n",
       "      <td>010</td>\n",
       "    </tr>\n",
       "    <tr>\n",
       "      <th>2</th>\n",
       "      <td>02</td>\n",
       "    </tr>\n",
       "    <tr>\n",
       "      <th>3</th>\n",
       "      <td>123456</td>\n",
       "    </tr>\n",
       "  </tbody>\n",
       "</table>\n",
       "</div>"
      ],
      "text/plain": [
       "        0\n",
       "0     010\n",
       "1     010\n",
       "2      02\n",
       "3  123456"
      ]
     },
     "execution_count": 93,
     "metadata": {},
     "output_type": "execute_result"
    }
   ],
   "source": [
    "tels.str.extract(pat = r'([0-9]+)')"
   ]
  },
  {
   "cell_type": "code",
   "execution_count": 94,
   "id": "ff795b40-33b3-4bf8-a7b7-ac6ed0d8d9c7",
   "metadata": {},
   "outputs": [
    {
     "data": {
      "text/html": [
       "<div>\n",
       "<style scoped>\n",
       "    .dataframe tbody tr th:only-of-type {\n",
       "        vertical-align: middle;\n",
       "    }\n",
       "\n",
       "    .dataframe tbody tr th {\n",
       "        vertical-align: top;\n",
       "    }\n",
       "\n",
       "    .dataframe thead th {\n",
       "        text-align: right;\n",
       "    }\n",
       "</style>\n",
       "<table border=\"1\" class=\"dataframe\">\n",
       "  <thead>\n",
       "    <tr style=\"text-align: right;\">\n",
       "      <th></th>\n",
       "      <th>0</th>\n",
       "    </tr>\n",
       "  </thead>\n",
       "  <tbody>\n",
       "    <tr>\n",
       "      <th>0</th>\n",
       "      <td>6789</td>\n",
       "    </tr>\n",
       "    <tr>\n",
       "      <th>1</th>\n",
       "      <td>7890</td>\n",
       "    </tr>\n",
       "    <tr>\n",
       "      <th>2</th>\n",
       "      <td>6789</td>\n",
       "    </tr>\n",
       "    <tr>\n",
       "      <th>3</th>\n",
       "      <td>7890123</td>\n",
       "    </tr>\n",
       "  </tbody>\n",
       "</table>\n",
       "</div>"
      ],
      "text/plain": [
       "         0\n",
       "0     6789\n",
       "1     7890\n",
       "2     6789\n",
       "3  7890123"
      ]
     },
     "execution_count": 94,
     "metadata": {},
     "output_type": "execute_result"
    }
   ],
   "source": [
    "tels.str.extract(pat = r'([0-9]+$)')"
   ]
  },
  {
   "cell_type": "code",
   "execution_count": 95,
   "id": "47225f00-0617-45c9-a6f8-6172cdc19117",
   "metadata": {},
   "outputs": [
    {
     "name": "stdout",
     "output_type": "stream",
     "text": [
      "Variable   Type         Data/Info\n",
      "---------------------------------\n",
      "addr       Series       0      서울특별시 강남구 역삼동 1\\n1<...> 분당구 이매동 3\\ndtype: object\n",
      "apt        DataFrame              거래금액   지역코드    <...>231904 rows x 13 columns]\n",
      "cond       Series       0          True\\n1       <...>ngth: 231904, dtype: bool\n",
      "na         DataFrame        구분 항목     값\\n0    A  <...> b  2.60\\n5  NaN  c  3.60\n",
      "np         module       <module 'numpy' from 'C:\\<...>ges\\\\numpy\\\\__init__.py'>\n",
      "os         module       <module 'os' (frozen)>\n",
      "pd         module       <module 'pandas' from 'C:<...>es\\\\pandas\\\\__init__.py'>\n",
      "prod       Series       0        45ABC-DFG\\n1    <...>D85AED-JKI\\ndtype: object\n",
      "strs       Series       0      ABCD\\n1      abcd\\<...>     \\n\\t\\\\ndtype: object\n",
      "tels       Series       0     010-2345-6789\\n1   <...>56-7890123\\ndtype: object\n"
     ]
    }
   ],
   "source": [
    "# 글로벌 변수 목록을 보여주는 매직 커맨드\n",
    "%whos"
   ]
  },
  {
   "cell_type": "code",
   "execution_count": 96,
   "id": "3bf83ef1-671d-4040-ae99-3dfbf4c67f17",
   "metadata": {},
   "outputs": [
    {
     "name": "stdout",
     "output_type": "stream",
     "text": [
      "Variable   Type         Data/Info\n",
      "---------------------------------\n",
      "apt        DataFrame              거래금액   지역코드    <...>231904 rows x 13 columns]\n",
      "na         DataFrame        구분 항목     값\\n0    A  <...> b  2.60\\n5  NaN  c  3.60\n"
     ]
    }
   ],
   "source": [
    "%whos -v DataFrame"
   ]
  },
  {
   "cell_type": "code",
   "execution_count": 103,
   "id": "eff1dbcf-f843-485e-8096-ff589b3b5408",
   "metadata": {},
   "outputs": [],
   "source": [
    "na.to_csv('test.csv', encoding = 'CP949', sep = '\\t', index = False)"
   ]
  },
  {
   "cell_type": "code",
   "execution_count": 105,
   "id": "7449c6f4-240c-45da-b594-5ad39c4ac26f",
   "metadata": {},
   "outputs": [
    {
     "data": {
      "text/html": [
       "<div>\n",
       "<style scoped>\n",
       "    .dataframe tbody tr th:only-of-type {\n",
       "        vertical-align: middle;\n",
       "    }\n",
       "\n",
       "    .dataframe tbody tr th {\n",
       "        vertical-align: top;\n",
       "    }\n",
       "\n",
       "    .dataframe thead th {\n",
       "        text-align: right;\n",
       "    }\n",
       "</style>\n",
       "<table border=\"1\" class=\"dataframe\">\n",
       "  <thead>\n",
       "    <tr style=\"text-align: right;\">\n",
       "      <th></th>\n",
       "      <th>구분</th>\n",
       "      <th>항목</th>\n",
       "      <th>값</th>\n",
       "    </tr>\n",
       "  </thead>\n",
       "  <tbody>\n",
       "    <tr>\n",
       "      <th>0</th>\n",
       "      <td>A</td>\n",
       "      <td>a</td>\n",
       "      <td>1.20</td>\n",
       "    </tr>\n",
       "    <tr>\n",
       "      <th>1</th>\n",
       "      <td>NaN</td>\n",
       "      <td>b</td>\n",
       "      <td>2.30</td>\n",
       "    </tr>\n",
       "    <tr>\n",
       "      <th>2</th>\n",
       "      <td>NaN</td>\n",
       "      <td>c</td>\n",
       "      <td>2.28</td>\n",
       "    </tr>\n",
       "    <tr>\n",
       "      <th>3</th>\n",
       "      <td>B</td>\n",
       "      <td>a</td>\n",
       "      <td>1.70</td>\n",
       "    </tr>\n",
       "    <tr>\n",
       "      <th>4</th>\n",
       "      <td>NaN</td>\n",
       "      <td>b</td>\n",
       "      <td>2.60</td>\n",
       "    </tr>\n",
       "    <tr>\n",
       "      <th>5</th>\n",
       "      <td>NaN</td>\n",
       "      <td>c</td>\n",
       "      <td>3.60</td>\n",
       "    </tr>\n",
       "  </tbody>\n",
       "</table>\n",
       "</div>"
      ],
      "text/plain": [
       "    구분 항목     값\n",
       "0    A  a  1.20\n",
       "1  NaN  b  2.30\n",
       "2  NaN  c  2.28\n",
       "3    B  a  1.70\n",
       "4  NaN  b  2.60\n",
       "5  NaN  c  3.60"
      ]
     },
     "execution_count": 105,
     "metadata": {},
     "output_type": "execute_result"
    }
   ],
   "source": [
    "na1 = pd.read_csv('test.csv', encoding = 'CP949', sep = '\\t')\n",
    "na1"
   ]
  },
  {
   "cell_type": "code",
   "execution_count": null,
   "id": "189d0631-c04e-46dd-9ca2-723e72173569",
   "metadata": {},
   "outputs": [],
   "source": []
  }
 ],
 "metadata": {
  "kernelspec": {
   "display_name": "Python 3 (ipykernel)",
   "language": "python",
   "name": "python3"
  },
  "language_info": {
   "codemirror_mode": {
    "name": "ipython",
    "version": 3
   },
   "file_extension": ".py",
   "mimetype": "text/x-python",
   "name": "python",
   "nbconvert_exporter": "python",
   "pygments_lexer": "ipython3",
   "version": "3.13.3"
  }
 },
 "nbformat": 4,
 "nbformat_minor": 5
}
