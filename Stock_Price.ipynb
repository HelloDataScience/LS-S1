{
 "cells": [
  {
   "cell_type": "raw",
   "id": "5b7d90c9-6faf-4b08-8d94-0d85ac0490b3",
   "metadata": {},
   "source": [
    "!pip install requests bs4"
   ]
  },
  {
   "cell_type": "code",
   "execution_count": 1,
   "id": "255be064-a344-4e1b-9c20-2a116e2aecf9",
   "metadata": {},
   "outputs": [],
   "source": [
    "import requests\n",
    "from bs4 import BeautifulSoup as BTS\n",
    "import os\n",
    "import numpy as np\n",
    "import pandas as pd"
   ]
  },
  {
   "cell_type": "code",
   "execution_count": 2,
   "id": "0c578e9a-72d4-4688-ba4b-ba62c07afbf8",
   "metadata": {},
   "outputs": [],
   "source": [
    "res = requests.get('https://finance.naver.com/item/main.naver?code=005930')"
   ]
  },
  {
   "cell_type": "code",
   "execution_count": 4,
   "id": "2691a5ff-b4c8-4da2-8217-4e1d8563196f",
   "metadata": {},
   "outputs": [],
   "source": [
    "soup = BTS(markup = res.text, features = 'html.parser')"
   ]
  },
  {
   "cell_type": "code",
   "execution_count": 7,
   "id": "b2f2fd83-262c-4bb9-be22-b22c7fe4bab5",
   "metadata": {
    "collapsed": true,
    "jupyter": {
     "outputs_hidden": true
    }
   },
   "outputs": [
    {
     "data": {
      "text/plain": [
       "[<span class=\"blind\">57,000</span>,\n",
       " <span class=\"no5\">5</span>,\n",
       " <span class=\"no7\">7</span>,\n",
       " <span class=\"shim\">,</span>,\n",
       " <span class=\"no0\">0</span>,\n",
       " <span class=\"no0\">0</span>,\n",
       " <span class=\"no0\">0</span>]"
      ]
     },
     "execution_count": 7,
     "metadata": {},
     "output_type": "execute_result"
    }
   ],
   "source": [
    "items = soup.select('div#rate_info_krx > div > p.no_today > em > span')\n",
    "items"
   ]
  },
  {
   "cell_type": "code",
   "execution_count": 8,
   "id": "338986f5-5b3b-4b95-85e3-15ca1b13e047",
   "metadata": {},
   "outputs": [
    {
     "data": {
      "text/plain": [
       "<span class=\"blind\">57,000</span>"
      ]
     },
     "execution_count": 8,
     "metadata": {},
     "output_type": "execute_result"
    }
   ],
   "source": [
    "items[0]"
   ]
  },
  {
   "cell_type": "code",
   "execution_count": 9,
   "id": "ae355291-f6f6-49a1-8294-98cac37f8042",
   "metadata": {},
   "outputs": [
    {
     "data": {
      "text/plain": [
       "'57,000'"
      ]
     },
     "execution_count": 9,
     "metadata": {},
     "output_type": "execute_result"
    }
   ],
   "source": [
    "items[0].text"
   ]
  },
  {
   "cell_type": "code",
   "execution_count": 10,
   "id": "f55e6670-a9ce-44c6-b8f1-e507622898d2",
   "metadata": {},
   "outputs": [],
   "source": [
    "import bs4"
   ]
  },
  {
   "cell_type": "code",
   "execution_count": null,
   "id": "c6f27610-412e-4988-8ba6-d506a107fcfd",
   "metadata": {},
   "outputs": [],
   "source": [
    "bs4.BeautifulSoup"
   ]
  }
 ],
 "metadata": {
  "kernelspec": {
   "display_name": "Python 3 (ipykernel)",
   "language": "python",
   "name": "python3"
  },
  "language_info": {
   "codemirror_mode": {
    "name": "ipython",
    "version": 3
   },
   "file_extension": ".py",
   "mimetype": "text/x-python",
   "name": "python",
   "nbconvert_exporter": "python",
   "pygments_lexer": "ipython3",
   "version": "3.13.3"
  }
 },
 "nbformat": 4,
 "nbformat_minor": 5
}
