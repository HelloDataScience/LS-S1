{
 "cells": [
  {
   "cell_type": "code",
   "execution_count": 1,
   "id": "5bbdfc89-00f0-4bfd-96c6-d0d7700a6497",
   "metadata": {},
   "outputs": [],
   "source": [
    "import requests\n",
    "import xmltodict\n",
    "import json\n",
    "import numpy as np\n",
    "import pandas as pd\n",
    "from tqdm.notebook import tqdm"
   ]
  },
  {
   "cell_type": "code",
   "execution_count": 2,
   "id": "24171d12-af3b-4df1-ab19-f02079393667",
   "metadata": {},
   "outputs": [],
   "source": [
    "def mprcTotalCount(month):\n",
    "    url = 'http://apis.data.go.kr/1192000/select0090List/getselect0090List'\n",
    "    query = {\n",
    "        'serviceKey': '4zNXftfpIAhhRRJLlpBmH8qMqYRZBgNxXWDoHow+WR1Di3VuLplaDdiTX/X3pooreCQBuT4dtCX1ENw8EX4x/Q==', \n",
    "        'numOfRows': 100, \n",
    "        'pageNo': 1, \n",
    "        'baseDt': month, \n",
    "        'type': 'xml'\n",
    "    }\n",
    "    res = requests.get(url = url, params = query)\n",
    "    dat = xmltodict.parse(xml_input = res.text)\n",
    "    totalCount = int(dat['responseXml']['header']['totalCount'])\n",
    "    return totalCount"
   ]
  },
  {
   "cell_type": "code",
   "execution_count": 3,
   "id": "4e8f02ce-78f6-4b78-a50c-d921ea8a4cba",
   "metadata": {},
   "outputs": [
    {
     "data": {
      "text/plain": [
       "2714"
      ]
     },
     "execution_count": 3,
     "metadata": {},
     "output_type": "execute_result"
    }
   ],
   "source": [
    "mprcTotalCount(month = '202503')"
   ]
  },
  {
   "cell_type": "raw",
   "id": "1c886e7d-da66-4748-96bb-954e69d975ee",
   "metadata": {},
   "source": [
    "# JSON 문자열을 딕셔너리로 변환\n",
    "dat = json.loads(s = res.text)\n",
    "\n",
    "# XML 문자열을 딕셔너리로 변환\n",
    "dat = xmltodict.parse(xml_input = res.text)"
   ]
  },
  {
   "cell_type": "code",
   "execution_count": 7,
   "id": "c9fde4cd-59c8-4974-acef-4e6ace05acd4",
   "metadata": {},
   "outputs": [],
   "source": [
    "def mprcDataFrame(month, page = 1, rows = 100):\n",
    "    url = 'http://apis.data.go.kr/1192000/select0090List/getselect0090List'\n",
    "    query = {\n",
    "        'serviceKey': '4zNXftfpIAhhRRJLlpBmH8qMqYRZBgNxXWDoHow+WR1Di3VuLplaDdiTX/X3pooreCQBuT4dtCX1ENw8EX4x/Q==', \n",
    "        'numOfRows': rows, \n",
    "        'pageNo': page, \n",
    "        'baseDt': month, \n",
    "        'type': 'xml'\n",
    "    }\n",
    "    res = requests.get(url = url, params = query)\n",
    "    dat = xmltodict.parse(xml_input = res.text)\n",
    "    df = pd.DataFrame(data = dat['responseXml']['body']['item'])\n",
    "    return df"
   ]
  },
  {
   "cell_type": "code",
   "execution_count": 9,
   "id": "735a13a9-f471-4981-b5ed-1959a41ced39",
   "metadata": {
    "collapsed": true,
    "jupyter": {
     "outputs_hidden": true
    }
   },
   "outputs": [
    {
     "data": {
      "text/html": [
       "<div>\n",
       "<style scoped>\n",
       "    .dataframe tbody tr th:only-of-type {\n",
       "        vertical-align: middle;\n",
       "    }\n",
       "\n",
       "    .dataframe tbody tr th {\n",
       "        vertical-align: top;\n",
       "    }\n",
       "\n",
       "    .dataframe thead th {\n",
       "        text-align: right;\n",
       "    }\n",
       "</style>\n",
       "<table border=\"1\" class=\"dataframe\">\n",
       "  <thead>\n",
       "    <tr style=\"text-align: right;\">\n",
       "      <th></th>\n",
       "      <th>stdYymm</th>\n",
       "      <th>nationCode</th>\n",
       "      <th>mprcExipitmCode</th>\n",
       "      <th>imxprtSeCode</th>\n",
       "      <th>nationNm</th>\n",
       "      <th>ecoblNm</th>\n",
       "      <th>mprcExipitmNm</th>\n",
       "      <th>imxprtSeNm</th>\n",
       "      <th>imxprtWt</th>\n",
       "      <th>imxprtDollarAmount</th>\n",
       "    </tr>\n",
       "  </thead>\n",
       "  <tbody>\n",
       "    <tr>\n",
       "      <th>0</th>\n",
       "      <td>202503</td>\n",
       "      <td>AE</td>\n",
       "      <td>0301998000</td>\n",
       "      <td>E</td>\n",
       "      <td>아랍에미리트연합</td>\n",
       "      <td>걸프협력회의</td>\n",
       "      <td>넙치(활어)</td>\n",
       "      <td>수출</td>\n",
       "      <td>725.4</td>\n",
       "      <td>18256</td>\n",
       "    </tr>\n",
       "    <tr>\n",
       "      <th>1</th>\n",
       "      <td>202503</td>\n",
       "      <td>AE</td>\n",
       "      <td>0305531000</td>\n",
       "      <td>E</td>\n",
       "      <td>아랍에미리트연합</td>\n",
       "      <td>걸프협력회의</td>\n",
       "      <td>기타 어류(건조)</td>\n",
       "      <td>수출</td>\n",
       "      <td>9</td>\n",
       "      <td>2877</td>\n",
       "    </tr>\n",
       "    <tr>\n",
       "      <th>2</th>\n",
       "      <td>202503</td>\n",
       "      <td>AE</td>\n",
       "      <td>0306142000</td>\n",
       "      <td>E</td>\n",
       "      <td>아랍에미리트연합</td>\n",
       "      <td>걸프협력회의</td>\n",
       "      <td>왕게(냉동)</td>\n",
       "      <td>수출</td>\n",
       "      <td>3014</td>\n",
       "      <td>135008</td>\n",
       "    </tr>\n",
       "    <tr>\n",
       "      <th>3</th>\n",
       "      <td>202503</td>\n",
       "      <td>AE</td>\n",
       "      <td>0306143090</td>\n",
       "      <td>E</td>\n",
       "      <td>아랍에미리트연합</td>\n",
       "      <td>걸프협력회의</td>\n",
       "      <td>꽃게(냉동한 것) 기타</td>\n",
       "      <td>수출</td>\n",
       "      <td>42</td>\n",
       "      <td>232</td>\n",
       "    </tr>\n",
       "    <tr>\n",
       "      <th>4</th>\n",
       "      <td>202503</td>\n",
       "      <td>AE</td>\n",
       "      <td>0306339000</td>\n",
       "      <td>E</td>\n",
       "      <td>아랍에미리트연합</td>\n",
       "      <td>걸프협력회의</td>\n",
       "      <td>게(기타)</td>\n",
       "      <td>수출</td>\n",
       "      <td>499.5</td>\n",
       "      <td>26598</td>\n",
       "    </tr>\n",
       "    <tr>\n",
       "      <th>5</th>\n",
       "      <td>202503</td>\n",
       "      <td>AE</td>\n",
       "      <td>0307119000</td>\n",
       "      <td>E</td>\n",
       "      <td>아랍에미리트연합</td>\n",
       "      <td>걸프협력회의</td>\n",
       "      <td>굴치패 기타(산 것 신선 또는 냉장한 것)</td>\n",
       "      <td>수출</td>\n",
       "      <td>88</td>\n",
       "      <td>550</td>\n",
       "    </tr>\n",
       "    <tr>\n",
       "      <th>6</th>\n",
       "      <td>202503</td>\n",
       "      <td>AE</td>\n",
       "      <td>0307120000</td>\n",
       "      <td>E</td>\n",
       "      <td>아랍에미리트연합</td>\n",
       "      <td>걸프협력회의</td>\n",
       "      <td>냉동한 것</td>\n",
       "      <td>수출</td>\n",
       "      <td>122</td>\n",
       "      <td>787</td>\n",
       "    </tr>\n",
       "    <tr>\n",
       "      <th>7</th>\n",
       "      <td>202503</td>\n",
       "      <td>AE</td>\n",
       "      <td>0307432090</td>\n",
       "      <td>E</td>\n",
       "      <td>아랍에미리트연합</td>\n",
       "      <td>걸프협력회의</td>\n",
       "      <td>기타</td>\n",
       "      <td>수출</td>\n",
       "      <td>248</td>\n",
       "      <td>1362</td>\n",
       "    </tr>\n",
       "    <tr>\n",
       "      <th>8</th>\n",
       "      <td>202503</td>\n",
       "      <td>AE</td>\n",
       "      <td>0307522000</td>\n",
       "      <td>E</td>\n",
       "      <td>아랍에미리트연합</td>\n",
       "      <td>걸프협력회의</td>\n",
       "      <td>낙지</td>\n",
       "      <td>수출</td>\n",
       "      <td>339</td>\n",
       "      <td>1857</td>\n",
       "    </tr>\n",
       "    <tr>\n",
       "      <th>9</th>\n",
       "      <td>202503</td>\n",
       "      <td>AE</td>\n",
       "      <td>0307729000</td>\n",
       "      <td>E</td>\n",
       "      <td>아랍에미리트연합</td>\n",
       "      <td>걸프협력회의</td>\n",
       "      <td>기타</td>\n",
       "      <td>수출</td>\n",
       "      <td>164</td>\n",
       "      <td>898</td>\n",
       "    </tr>\n",
       "  </tbody>\n",
       "</table>\n",
       "</div>"
      ],
      "text/plain": [
       "  stdYymm nationCode mprcExipitmCode imxprtSeCode  nationNm ecoblNm  \\\n",
       "0  202503         AE      0301998000            E  아랍에미리트연합  걸프협력회의   \n",
       "1  202503         AE      0305531000            E  아랍에미리트연합  걸프협력회의   \n",
       "2  202503         AE      0306142000            E  아랍에미리트연합  걸프협력회의   \n",
       "3  202503         AE      0306143090            E  아랍에미리트연합  걸프협력회의   \n",
       "4  202503         AE      0306339000            E  아랍에미리트연합  걸프협력회의   \n",
       "5  202503         AE      0307119000            E  아랍에미리트연합  걸프협력회의   \n",
       "6  202503         AE      0307120000            E  아랍에미리트연합  걸프협력회의   \n",
       "7  202503         AE      0307432090            E  아랍에미리트연합  걸프협력회의   \n",
       "8  202503         AE      0307522000            E  아랍에미리트연합  걸프협력회의   \n",
       "9  202503         AE      0307729000            E  아랍에미리트연합  걸프협력회의   \n",
       "\n",
       "             mprcExipitmNm imxprtSeNm imxprtWt imxprtDollarAmount  \n",
       "0                   넙치(활어)         수출    725.4              18256  \n",
       "1                기타 어류(건조)         수출        9               2877  \n",
       "2                   왕게(냉동)         수출     3014             135008  \n",
       "3             꽃게(냉동한 것) 기타         수출       42                232  \n",
       "4                    게(기타)         수출    499.5              26598  \n",
       "5  굴치패 기타(산 것 신선 또는 냉장한 것)         수출       88                550  \n",
       "6                    냉동한 것         수출      122                787  \n",
       "7                       기타         수출      248               1362  \n",
       "8                       낙지         수출      339               1857  \n",
       "9                       기타         수출      164                898  "
      ]
     },
     "execution_count": 9,
     "metadata": {},
     "output_type": "execute_result"
    }
   ],
   "source": [
    "mprcDataFrame(month = '202503')"
   ]
  },
  {
   "cell_type": "code",
   "execution_count": 15,
   "id": "ce41fda5-d0bf-4692-a1c8-166734b3b1cc",
   "metadata": {},
   "outputs": [],
   "source": [
    "def mprcDataset(month, rows = 100):\n",
    "    totalCount = mprcTotalCount(month = month)\n",
    "    pages = np.ceil(totalCount / rows).astype(int).item()\n",
    "    dfs = pd.DataFrame()\n",
    "    for page in tqdm(range(pages), desc = month):\n",
    "        page += 1\n",
    "        df = mprcDataFrame(month = month, page = page, rows = rows)\n",
    "        dfs = pd.concat(objs = [dfs, df], ignore_index = True)\n",
    "    return dfs"
   ]
  },
  {
   "cell_type": "code",
   "execution_count": 18,
   "id": "e4c4399a-607c-4d2a-825b-5eebd8e52dfc",
   "metadata": {},
   "outputs": [],
   "source": [
    "import time"
   ]
  },
  {
   "cell_type": "code",
   "execution_count": 20,
   "id": "7c9d1356-a571-4b78-9c01-a235058505f1",
   "metadata": {},
   "outputs": [
    {
     "data": {
      "application/vnd.jupyter.widget-view+json": {
       "model_id": "ce42bd2ed40a49b19952e3c43375c27b",
       "version_major": 2,
       "version_minor": 0
      },
      "text/plain": [
       "  0%|          | 0/12 [00:00<?, ?it/s]"
      ]
     },
     "metadata": {},
     "output_type": "display_data"
    },
    {
     "data": {
      "application/vnd.jupyter.widget-view+json": {
       "model_id": "f114662b562e4514aa495d83c2e3423c",
       "version_major": 2,
       "version_minor": 0
      },
      "text/plain": [
       "202401:   0%|          | 0/27 [00:00<?, ?it/s]"
      ]
     },
     "metadata": {},
     "output_type": "display_data"
    },
    {
     "data": {
      "application/vnd.jupyter.widget-view+json": {
       "model_id": "2da4202a4a26472f99bab80713ff8b0a",
       "version_major": 2,
       "version_minor": 0
      },
      "text/plain": [
       "202402:   0%|          | 0/26 [00:00<?, ?it/s]"
      ]
     },
     "metadata": {},
     "output_type": "display_data"
    },
    {
     "data": {
      "application/vnd.jupyter.widget-view+json": {
       "model_id": "3d185094438340c8ac1599b8062443ad",
       "version_major": 2,
       "version_minor": 0
      },
      "text/plain": [
       "202403:   0%|          | 0/28 [00:00<?, ?it/s]"
      ]
     },
     "metadata": {},
     "output_type": "display_data"
    },
    {
     "data": {
      "application/vnd.jupyter.widget-view+json": {
       "model_id": "feabee190d3b40609d4d724dd98b2558",
       "version_major": 2,
       "version_minor": 0
      },
      "text/plain": [
       "202404:   0%|          | 0/28 [00:00<?, ?it/s]"
      ]
     },
     "metadata": {},
     "output_type": "display_data"
    },
    {
     "data": {
      "application/vnd.jupyter.widget-view+json": {
       "model_id": "17eb92888a424811b62f42d2b7a42b44",
       "version_major": 2,
       "version_minor": 0
      },
      "text/plain": [
       "202405:   0%|          | 0/27 [00:00<?, ?it/s]"
      ]
     },
     "metadata": {},
     "output_type": "display_data"
    },
    {
     "data": {
      "application/vnd.jupyter.widget-view+json": {
       "model_id": "702ddb6fd13e404999b27010a9668bf3",
       "version_major": 2,
       "version_minor": 0
      },
      "text/plain": [
       "202406:   0%|          | 0/26 [00:00<?, ?it/s]"
      ]
     },
     "metadata": {},
     "output_type": "display_data"
    },
    {
     "data": {
      "application/vnd.jupyter.widget-view+json": {
       "model_id": "44fc942317264c6ab0bec1f90ace96f6",
       "version_major": 2,
       "version_minor": 0
      },
      "text/plain": [
       "202407:   0%|          | 0/28 [00:00<?, ?it/s]"
      ]
     },
     "metadata": {},
     "output_type": "display_data"
    },
    {
     "data": {
      "application/vnd.jupyter.widget-view+json": {
       "model_id": "45c5e3a1d33c4e28bd460c0a28f2920d",
       "version_major": 2,
       "version_minor": 0
      },
      "text/plain": [
       "202408:   0%|          | 0/28 [00:00<?, ?it/s]"
      ]
     },
     "metadata": {},
     "output_type": "display_data"
    },
    {
     "data": {
      "application/vnd.jupyter.widget-view+json": {
       "model_id": "63e2656ebfff41e0978aba04a506a871",
       "version_major": 2,
       "version_minor": 0
      },
      "text/plain": [
       "202409:   0%|          | 0/26 [00:00<?, ?it/s]"
      ]
     },
     "metadata": {},
     "output_type": "display_data"
    },
    {
     "data": {
      "application/vnd.jupyter.widget-view+json": {
       "model_id": "66f2e8dc5db2493cb3ec148049bba272",
       "version_major": 2,
       "version_minor": 0
      },
      "text/plain": [
       "202410:   0%|          | 0/29 [00:00<?, ?it/s]"
      ]
     },
     "metadata": {},
     "output_type": "display_data"
    },
    {
     "data": {
      "application/vnd.jupyter.widget-view+json": {
       "model_id": "ae8d3f36e5804fd8bef971946dc1cbba",
       "version_major": 2,
       "version_minor": 0
      },
      "text/plain": [
       "202411:   0%|          | 0/28 [00:00<?, ?it/s]"
      ]
     },
     "metadata": {},
     "output_type": "display_data"
    },
    {
     "data": {
      "application/vnd.jupyter.widget-view+json": {
       "model_id": "de2b135868654d53b20d2dc5cd54f27a",
       "version_major": 2,
       "version_minor": 0
      },
      "text/plain": [
       "202412:   0%|          | 0/28 [00:00<?, ?it/s]"
      ]
     },
     "metadata": {},
     "output_type": "display_data"
    }
   ],
   "source": [
    "dfs = pd.DataFrame()\n",
    "for month in tqdm(range(202401, 202413)):\n",
    "    df = mprcDataset(month = str(month))\n",
    "    dfs = pd.concat(objs = [dfs, df], ignore_index = True)\n",
    "    time.sleep(1)"
   ]
  },
  {
   "cell_type": "code",
   "execution_count": null,
   "id": "81399fc5-67dd-4e22-890a-5f0312c91b3c",
   "metadata": {},
   "outputs": [],
   "source": []
  }
 ],
 "metadata": {
  "kernelspec": {
   "display_name": "Python 3 (ipykernel)",
   "language": "python",
   "name": "python3"
  },
  "language_info": {
   "codemirror_mode": {
    "name": "ipython",
    "version": 3
   },
   "file_extension": ".py",
   "mimetype": "text/x-python",
   "name": "python",
   "nbconvert_exporter": "python",
   "pygments_lexer": "ipython3",
   "version": "3.13.3"
  }
 },
 "nbformat": 4,
 "nbformat_minor": 5
}
