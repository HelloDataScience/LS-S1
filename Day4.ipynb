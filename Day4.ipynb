{
 "cells": [
  {
   "cell_type": "code",
   "execution_count": 1,
   "id": "dc765322-5a54-4607-b6f2-370ed00ed19f",
   "metadata": {},
   "outputs": [],
   "source": [
    "import os\n",
    "import numpy as np\n",
    "import pandas as pd\n",
    "from plt_rcs import *"
   ]
  },
  {
   "cell_type": "code",
   "execution_count": 2,
   "id": "32b10cd6-6aee-4c37-8fe0-068403a9da4b",
   "metadata": {},
   "outputs": [
    {
     "data": {
      "text/plain": [
       "'C:\\\\Users\\\\USER\\\\Documents\\\\project\\\\code'"
      ]
     },
     "execution_count": 2,
     "metadata": {},
     "output_type": "execute_result"
    }
   ],
   "source": [
    "os.getcwd()"
   ]
  },
  {
   "cell_type": "code",
   "execution_count": 3,
   "id": "cc27c478-5f42-4c8e-b09d-5e49280f9349",
   "metadata": {},
   "outputs": [],
   "source": [
    "os.chdir(path = '../data')"
   ]
  },
  {
   "cell_type": "code",
   "execution_count": 4,
   "id": "9fa9fc17-bbdc-4079-afb0-03f9435b9405",
   "metadata": {},
   "outputs": [
    {
     "data": {
      "text/plain": [
       "['APT_Detail_Seoul_2024.csv',\n",
       " 'APT_Detail_Seoul_2024.xlsx',\n",
       " 'APT_List.pkl',\n",
       " 'APT_Prep.pkl',\n",
       " 'APT_Prep_New.pkl',\n",
       " 'APT_Price_Gangnam_2024.xlsx',\n",
       " 'APT_Price_Seoul(2020~2024).xlsx',\n",
       " 'APT_Price_Seoul_2020.csv',\n",
       " 'APT_Price_Seoul_2021.csv',\n",
       " 'APT_Price_Seoul_2022.csv',\n",
       " 'APT_Price_Seoul_2023.csv',\n",
       " 'APT_Price_Seoul_2024.csv',\n",
       " 'MPRC_Data_2024.xlsx',\n",
       " 'MPRC_item.xlsx',\n",
       " 'NA_Sample.xlsx',\n",
       " 'pivot.xlsx',\n",
       " 'test.csv']"
      ]
     },
     "execution_count": 4,
     "metadata": {},
     "output_type": "execute_result"
    }
   ],
   "source": [
    "os.listdir()"
   ]
  },
  {
   "cell_type": "code",
   "execution_count": 5,
   "id": "2e385238-0364-4c4e-9616-f57882bdde8e",
   "metadata": {},
   "outputs": [],
   "source": [
    "apt = pd.read_pickle('APT_Prep_New.pkl')"
   ]
  },
  {
   "cell_type": "code",
   "execution_count": 6,
   "id": "20f4ed10-097e-47f4-b2ef-750025b3aaab",
   "metadata": {},
   "outputs": [
    {
     "data": {
      "text/html": [
       "<div>\n",
       "<style scoped>\n",
       "    .dataframe tbody tr th:only-of-type {\n",
       "        vertical-align: middle;\n",
       "    }\n",
       "\n",
       "    .dataframe tbody tr th {\n",
       "        vertical-align: top;\n",
       "    }\n",
       "\n",
       "    .dataframe thead th {\n",
       "        text-align: right;\n",
       "    }\n",
       "</style>\n",
       "<table border=\"1\" class=\"dataframe\">\n",
       "  <thead>\n",
       "    <tr style=\"text-align: right;\">\n",
       "      <th></th>\n",
       "      <th>거래금액</th>\n",
       "      <th>단지명</th>\n",
       "      <th>시군구</th>\n",
       "      <th>법정동</th>\n",
       "      <th>계약년도</th>\n",
       "      <th>계약월</th>\n",
       "      <th>전용면적</th>\n",
       "      <th>층</th>\n",
       "      <th>평당금액</th>\n",
       "      <th>경과년수</th>\n",
       "      <th>재건축</th>\n",
       "      <th>세대수</th>\n",
       "      <th>용적률</th>\n",
       "      <th>주차대수</th>\n",
       "    </tr>\n",
       "  </thead>\n",
       "  <tbody>\n",
       "    <tr>\n",
       "      <th>0</th>\n",
       "      <td>10.05</td>\n",
       "      <td>삼익대청아파트</td>\n",
       "      <td>강남구</td>\n",
       "      <td>개포동</td>\n",
       "      <td>2020</td>\n",
       "      <td>1</td>\n",
       "      <td>39.53</td>\n",
       "      <td>13</td>\n",
       "      <td>8389.830508</td>\n",
       "      <td>28</td>\n",
       "      <td>부족</td>\n",
       "      <td>822</td>\n",
       "      <td>201</td>\n",
       "      <td>700</td>\n",
       "    </tr>\n",
       "    <tr>\n",
       "      <th>1</th>\n",
       "      <td>20.30</td>\n",
       "      <td>개포자이</td>\n",
       "      <td>강남구</td>\n",
       "      <td>개포동</td>\n",
       "      <td>2020</td>\n",
       "      <td>1</td>\n",
       "      <td>134.30</td>\n",
       "      <td>17</td>\n",
       "      <td>4988.086374</td>\n",
       "      <td>16</td>\n",
       "      <td>부족</td>\n",
       "      <td>212</td>\n",
       "      <td>250</td>\n",
       "      <td>502</td>\n",
       "    </tr>\n",
       "    <tr>\n",
       "      <th>2</th>\n",
       "      <td>18.00</td>\n",
       "      <td>개포주공6단지</td>\n",
       "      <td>강남구</td>\n",
       "      <td>개포동</td>\n",
       "      <td>2020</td>\n",
       "      <td>1</td>\n",
       "      <td>60.13</td>\n",
       "      <td>14</td>\n",
       "      <td>9878.596375</td>\n",
       "      <td>37</td>\n",
       "      <td>충족</td>\n",
       "      <td>1060</td>\n",
       "      <td>0</td>\n",
       "      <td>300</td>\n",
       "    </tr>\n",
       "    <tr>\n",
       "      <th>3</th>\n",
       "      <td>28.50</td>\n",
       "      <td>디에이치아너힐즈</td>\n",
       "      <td>강남구</td>\n",
       "      <td>개포동</td>\n",
       "      <td>2020</td>\n",
       "      <td>1</td>\n",
       "      <td>94.29</td>\n",
       "      <td>12</td>\n",
       "      <td>9974.546612</td>\n",
       "      <td>1</td>\n",
       "      <td>부족</td>\n",
       "      <td>1320</td>\n",
       "      <td>249</td>\n",
       "      <td>2120</td>\n",
       "    </tr>\n",
       "    <tr>\n",
       "      <th>4</th>\n",
       "      <td>17.10</td>\n",
       "      <td>개포주공7단지</td>\n",
       "      <td>강남구</td>\n",
       "      <td>개포동</td>\n",
       "      <td>2020</td>\n",
       "      <td>1</td>\n",
       "      <td>60.76</td>\n",
       "      <td>2</td>\n",
       "      <td>9287.360105</td>\n",
       "      <td>37</td>\n",
       "      <td>충족</td>\n",
       "      <td>1060</td>\n",
       "      <td>0</td>\n",
       "      <td>300</td>\n",
       "    </tr>\n",
       "  </tbody>\n",
       "</table>\n",
       "</div>"
      ],
      "text/plain": [
       "    거래금액       단지명  시군구  법정동  계약년도 계약월    전용면적   층         평당금액  경과년수 재건축  \\\n",
       "0  10.05   삼익대청아파트  강남구  개포동  2020   1   39.53  13  8389.830508    28  부족   \n",
       "1  20.30      개포자이  강남구  개포동  2020   1  134.30  17  4988.086374    16  부족   \n",
       "2  18.00   개포주공6단지  강남구  개포동  2020   1   60.13  14  9878.596375    37  충족   \n",
       "3  28.50  디에이치아너힐즈  강남구  개포동  2020   1   94.29  12  9974.546612     1  부족   \n",
       "4  17.10   개포주공7단지  강남구  개포동  2020   1   60.76   2  9287.360105    37  충족   \n",
       "\n",
       "    세대수  용적률  주차대수  \n",
       "0   822  201   700  \n",
       "1   212  250   502  \n",
       "2  1060    0   300  \n",
       "3  1320  249  2120  \n",
       "4  1060    0   300  "
      ]
     },
     "execution_count": 6,
     "metadata": {},
     "output_type": "execute_result"
    }
   ],
   "source": [
    "apt.head()"
   ]
  },
  {
   "cell_type": "code",
   "execution_count": 7,
   "id": "617f41f6-48ed-4e9c-9e85-632e1ce0dac1",
   "metadata": {},
   "outputs": [
    {
     "name": "stdout",
     "output_type": "stream",
     "text": [
      "<class 'pandas.core.frame.DataFrame'>\n",
      "RangeIndex: 220890 entries, 0 to 220889\n",
      "Data columns (total 14 columns):\n",
      " #   Column  Non-Null Count   Dtype  \n",
      "---  ------  --------------   -----  \n",
      " 0   거래금액    220890 non-null  float64\n",
      " 1   단지명     220890 non-null  object \n",
      " 2   시군구     220890 non-null  object \n",
      " 3   법정동     220890 non-null  object \n",
      " 4   계약년도    220890 non-null  object \n",
      " 5   계약월     220890 non-null  object \n",
      " 6   전용면적    220890 non-null  float64\n",
      " 7   층       220890 non-null  int64  \n",
      " 8   평당금액    220890 non-null  float64\n",
      " 9   경과년수    220890 non-null  int64  \n",
      " 10  재건축     220890 non-null  object \n",
      " 11  세대수     220890 non-null  int64  \n",
      " 12  용적률     220890 non-null  int64  \n",
      " 13  주차대수    220890 non-null  int64  \n",
      "dtypes: float64(3), int64(5), object(6)\n",
      "memory usage: 23.6+ MB\n"
     ]
    }
   ],
   "source": [
    "apt.info()"
   ]
  },
  {
   "cell_type": "raw",
   "id": "c201a4e9-e965-46fc-92e7-8245b1ec546d",
   "metadata": {},
   "source": [
    "import matplotlib.pyplot as plt\n",
    "import seaborn as sns"
   ]
  },
  {
   "cell_type": "raw",
   "id": "2d41f65e-19e0-483c-a88e-a4a8d9ebe2b5",
   "metadata": {},
   "source": [
    "sns.histplot(data = apt, x = '거래금액')"
   ]
  },
  {
   "cell_type": "raw",
   "id": "fdbaf16c-8fe9-4bc8-9e62-b5414d5ec3a0",
   "metadata": {},
   "source": [
    "sns.histplot(data = apt, x = '거래금액');"
   ]
  },
  {
   "cell_type": "raw",
   "id": "a18d154b-bcdb-4fcd-b95a-4d042f6a3111",
   "metadata": {},
   "source": [
    "import matplotlib.font_manager as fm"
   ]
  },
  {
   "cell_type": "raw",
   "id": "a6960fbe-7327-41be-9587-5a67ef045b60",
   "metadata": {},
   "source": [
    "fontList = fm.findSystemFonts(fontext = 'ttf')"
   ]
  },
  {
   "cell_type": "raw",
   "id": "bb32e635-31aa-4170-aa98-abc69aadf422",
   "metadata": {},
   "source": [
    "len(fontList)"
   ]
  },
  {
   "cell_type": "raw",
   "id": "aadc1a59-3069-4f7f-aff2-a9951ffab2c2",
   "metadata": {},
   "source": [
    "fontPath = [font for font in fontList if 'Gowun' in font]\n",
    "fontPath"
   ]
  },
  {
   "cell_type": "raw",
   "id": "66490da8-07d4-48e3-b78c-51fff7ea54e4",
   "metadata": {},
   "source": [
    "for font in fontPath:\n",
    "    print(fm.FontProperties(fname = font).get_name())"
   ]
  },
  {
   "cell_type": "raw",
   "id": "b1045a13-f57b-4426-b074-72b19611b4cf",
   "metadata": {},
   "source": [
    "plt.rc(group = 'font', family = 'Gowun Batang', size = 10)\n",
    "plt.rc(group = 'figure', figsize = (8, 4), dpi = 100)\n",
    "plt.rc(group = 'axes', unicode_minus = False)\n",
    "plt.rc(group = 'legend', frameon = True, fc = '1', ec = '0')"
   ]
  },
  {
   "cell_type": "code",
   "execution_count": 8,
   "id": "bb702b43-2765-4027-b481-f62b8d49ccfc",
   "metadata": {},
   "outputs": [
    {
     "data": {
      "image/png": "[encoded data removed]",
      "text/plain": [
       "<Figure size 800x400 with 1 Axes>"
      ]
     },
     "metadata": {},
     "output_type": "display_data"
    }
   ],
   "source": [
    "sns.histplot(data = apt, x = '거래금액');"
   ]
  },
  {
   "cell_type": "code",
   "execution_count": 9,
   "id": "81ada9d6-d0e4-4e61-af8d-a581e1d0a930",
   "metadata": {},
   "outputs": [
    {
     "data": {
      "text/plain": [
       "np.float64(0.62)"
      ]
     },
     "execution_count": 9,
     "metadata": {},
     "output_type": "execute_result"
    }
   ],
   "source": [
    "apt['거래금액'].min()"
   ]
  },
  {
   "cell_type": "code",
   "execution_count": 10,
   "id": "9727b069-e3e2-4a39-9f0c-02fd29d98b50",
   "metadata": {},
   "outputs": [
    {
     "data": {
      "text/plain": [
       "np.float64(220.0)"
      ]
     },
     "execution_count": 10,
     "metadata": {},
     "output_type": "execute_result"
    }
   ],
   "source": [
    "apt['거래금액'].max()"
   ]
  },
  {
   "cell_type": "code",
   "execution_count": 11,
   "id": "9f587641-5bb3-460e-bfd0-b9b97b8697c6",
   "metadata": {},
   "outputs": [
    {
     "data": {
      "text/plain": [
       "min      0.62\n",
       "max    220.00\n",
       "Name: 거래금액, dtype: float64"
      ]
     },
     "execution_count": 11,
     "metadata": {},
     "output_type": "execute_result"
    }
   ],
   "source": [
    "apt['거래금액'].agg(func = ['min', 'max'])"
   ]
  },
  {
   "cell_type": "code",
   "execution_count": 12,
   "id": "fbda4e17-9e90-489d-9283-6136bc55bda9",
   "metadata": {
    "collapsed": true,
    "jupyter": {
     "outputs_hidden": true
    }
   },
   "outputs": [
    {
     "data": {
      "image/png": "[encoded data removed]",
      "text/plain": [
       "<Figure size 800x400 with 1 Axes>"
      ]
     },
     "metadata": {},
     "output_type": "display_data"
    }
   ],
   "source": [
    "sns.histplot(data = apt, x = '거래금액', bins = 110, binrange = (0, 220), fc = 'pink', ec = 'red');"
   ]
  },
  {
   "cell_type": "code",
   "execution_count": 18,
   "id": "81fcfb0f-9f9f-41bf-8220-0678c526aedc",
   "metadata": {
    "collapsed": true,
    "jupyter": {
     "outputs_hidden": true
    }
   },
   "outputs": [
    {
     "data": {
      "image/png": "[encoded data removed]",
      "text/plain": [
       "<Figure size 800x400 with 1 Axes>"
      ]
     },
     "metadata": {},
     "output_type": "display_data"
    }
   ],
   "source": [
    "sns.histplot(data = apt, x = '거래금액', bins = 35, binrange = (0, 70), fc = '1', ec = '0');"
   ]
  },
  {
   "cell_type": "code",
   "execution_count": 21,
   "id": "886d6afb-4791-4f66-b0af-89af86f96e9b",
   "metadata": {},
   "outputs": [
    {
     "data": {
      "image/png": "[encoded data removed]",
      "text/plain": [
       "<Figure size 800x400 with 1 Axes>"
      ]
     },
     "metadata": {},
     "output_type": "display_data"
    }
   ],
   "source": [
    "sns.histplot(data = apt, x = '거래금액', binwidth = 2, binrange = (0, 70), fc = '1', ec = '0')\n",
    "plt.savefig(fname = 'test.png', bbox_inches = 'tight', pad_inches = 0.1);"
   ]
  },
  {
   "cell_type": "code",
   "execution_count": 25,
   "id": "44c024dd-d05b-40d0-9a7c-364964806a7a",
   "metadata": {
    "collapsed": true,
    "jupyter": {
     "outputs_hidden": true
    }
   },
   "outputs": [
    {
     "data": {
      "text/html": [
       "<div>\n",
       "<style scoped>\n",
       "    .dataframe tbody tr th:only-of-type {\n",
       "        vertical-align: middle;\n",
       "    }\n",
       "\n",
       "    .dataframe tbody tr th {\n",
       "        vertical-align: top;\n",
       "    }\n",
       "\n",
       "    .dataframe thead th {\n",
       "        text-align: right;\n",
       "    }\n",
       "</style>\n",
       "<table border=\"1\" class=\"dataframe\">\n",
       "  <thead>\n",
       "    <tr style=\"text-align: right;\">\n",
       "      <th></th>\n",
       "      <th>거래금액</th>\n",
       "      <th>단지명</th>\n",
       "      <th>시군구</th>\n",
       "      <th>법정동</th>\n",
       "      <th>계약년도</th>\n",
       "      <th>계약월</th>\n",
       "      <th>전용면적</th>\n",
       "      <th>층</th>\n",
       "      <th>평당금액</th>\n",
       "      <th>경과년수</th>\n",
       "      <th>재건축</th>\n",
       "      <th>세대수</th>\n",
       "      <th>용적률</th>\n",
       "      <th>주차대수</th>\n",
       "    </tr>\n",
       "  </thead>\n",
       "  <tbody>\n",
       "    <tr>\n",
       "      <th>0</th>\n",
       "      <td>10.05</td>\n",
       "      <td>삼익대청아파트</td>\n",
       "      <td>강남구</td>\n",
       "      <td>개포동</td>\n",
       "      <td>2020</td>\n",
       "      <td>1</td>\n",
       "      <td>39.53</td>\n",
       "      <td>13</td>\n",
       "      <td>8389.830508</td>\n",
       "      <td>28</td>\n",
       "      <td>부족</td>\n",
       "      <td>822</td>\n",
       "      <td>201</td>\n",
       "      <td>700</td>\n",
       "    </tr>\n",
       "    <tr>\n",
       "      <th>1</th>\n",
       "      <td>20.30</td>\n",
       "      <td>개포자이</td>\n",
       "      <td>강남구</td>\n",
       "      <td>개포동</td>\n",
       "      <td>2020</td>\n",
       "      <td>1</td>\n",
       "      <td>134.30</td>\n",
       "      <td>17</td>\n",
       "      <td>4988.086374</td>\n",
       "      <td>16</td>\n",
       "      <td>부족</td>\n",
       "      <td>212</td>\n",
       "      <td>250</td>\n",
       "      <td>502</td>\n",
       "    </tr>\n",
       "    <tr>\n",
       "      <th>2</th>\n",
       "      <td>18.00</td>\n",
       "      <td>개포주공6단지</td>\n",
       "      <td>강남구</td>\n",
       "      <td>개포동</td>\n",
       "      <td>2020</td>\n",
       "      <td>1</td>\n",
       "      <td>60.13</td>\n",
       "      <td>14</td>\n",
       "      <td>9878.596375</td>\n",
       "      <td>37</td>\n",
       "      <td>충족</td>\n",
       "      <td>1060</td>\n",
       "      <td>0</td>\n",
       "      <td>300</td>\n",
       "    </tr>\n",
       "    <tr>\n",
       "      <th>3</th>\n",
       "      <td>28.50</td>\n",
       "      <td>디에이치아너힐즈</td>\n",
       "      <td>강남구</td>\n",
       "      <td>개포동</td>\n",
       "      <td>2020</td>\n",
       "      <td>1</td>\n",
       "      <td>94.29</td>\n",
       "      <td>12</td>\n",
       "      <td>9974.546612</td>\n",
       "      <td>1</td>\n",
       "      <td>부족</td>\n",
       "      <td>1320</td>\n",
       "      <td>249</td>\n",
       "      <td>2120</td>\n",
       "    </tr>\n",
       "    <tr>\n",
       "      <th>4</th>\n",
       "      <td>17.10</td>\n",
       "      <td>개포주공7단지</td>\n",
       "      <td>강남구</td>\n",
       "      <td>개포동</td>\n",
       "      <td>2020</td>\n",
       "      <td>1</td>\n",
       "      <td>60.76</td>\n",
       "      <td>2</td>\n",
       "      <td>9287.360105</td>\n",
       "      <td>37</td>\n",
       "      <td>충족</td>\n",
       "      <td>1060</td>\n",
       "      <td>0</td>\n",
       "      <td>300</td>\n",
       "    </tr>\n",
       "  </tbody>\n",
       "</table>\n",
       "</div>"
      ],
      "text/plain": [
       "    거래금액       단지명  시군구  법정동  계약년도 계약월    전용면적   층         평당금액  경과년수 재건축  \\\n",
       "0  10.05   삼익대청아파트  강남구  개포동  2020   1   39.53  13  8389.830508    28  부족   \n",
       "1  20.30      개포자이  강남구  개포동  2020   1  134.30  17  4988.086374    16  부족   \n",
       "2  18.00   개포주공6단지  강남구  개포동  2020   1   60.13  14  9878.596375    37  충족   \n",
       "3  28.50  디에이치아너힐즈  강남구  개포동  2020   1   94.29  12  9974.546612     1  부족   \n",
       "4  17.10   개포주공7단지  강남구  개포동  2020   1   60.76   2  9287.360105    37  충족   \n",
       "\n",
       "    세대수  용적률  주차대수  \n",
       "0   822  201   700  \n",
       "1   212  250   502  \n",
       "2  1060    0   300  \n",
       "3  1320  249  2120  \n",
       "4  1060    0   300  "
      ]
     },
     "execution_count": 25,
     "metadata": {},
     "output_type": "execute_result"
    }
   ],
   "source": [
    "apt.head()"
   ]
  },
  {
   "cell_type": "code",
   "execution_count": 24,
   "id": "0fac7662-2b9a-4628-8840-b09a8db584c6",
   "metadata": {},
   "outputs": [
    {
     "data": {
      "image/png": "[encoded data removed]",
      "text/plain": [
       "<Figure size 800x400 with 1 Axes>"
      ]
     },
     "metadata": {},
     "output_type": "display_data"
    }
   ],
   "source": [
    "sns.histplot(data = apt, x = '거래금액', binwidth = 2, binrange = (0, 70), \n",
    "             hue = '재건축', ec = '0', hue_order = ['충족', '부족']);"
   ]
  },
  {
   "cell_type": "code",
   "execution_count": 26,
   "id": "3162aa0f-816a-4a35-ba42-3670547d3a94",
   "metadata": {},
   "outputs": [
    {
     "data": {
      "image/png": "[encoded data removed]",
      "text/plain": [
       "<Figure size 800x400 with 1 Axes>"
      ]
     },
     "metadata": {},
     "output_type": "display_data"
    }
   ],
   "source": [
    "sns.histplot(data = apt, x = '거래금액', binwidth = 2, binrange = (0, 70), \n",
    "             hue = '재건축', ec = '0', hue_order = ['충족', '부족'], palette = 'Set1');"
   ]
  },
  {
   "cell_type": "code",
   "execution_count": 27,
   "id": "47240f9a-a324-4d66-b808-2379174d4613",
   "metadata": {
    "scrolled": true
   },
   "outputs": [
    {
     "data": {
      "text/plain": [
       "['Accent',\n",
       " 'Accent_r',\n",
       " 'Blues',\n",
       " 'Blues_r',\n",
       " 'BrBG',\n",
       " 'BrBG_r',\n",
       " 'BuGn',\n",
       " 'BuGn_r',\n",
       " 'BuPu',\n",
       " 'BuPu_r',\n",
       " 'CMRmap',\n",
       " 'CMRmap_r',\n",
       " 'ColormapRegistry',\n",
       " 'Dark2',\n",
       " 'Dark2_r',\n",
       " 'GnBu',\n",
       " 'GnBu_r',\n",
       " 'Grays',\n",
       " 'Grays_r',\n",
       " 'Greens',\n",
       " 'Greens_r',\n",
       " 'Greys',\n",
       " 'Greys_r',\n",
       " 'Mapping',\n",
       " 'OrRd',\n",
       " 'OrRd_r',\n",
       " 'Oranges',\n",
       " 'Oranges_r',\n",
       " 'PRGn',\n",
       " 'PRGn_r',\n",
       " 'Paired',\n",
       " 'Paired_r',\n",
       " 'Pastel1',\n",
       " 'Pastel1_r',\n",
       " 'Pastel2',\n",
       " 'Pastel2_r',\n",
       " 'PiYG',\n",
       " 'PiYG_r',\n",
       " 'PuBu',\n",
       " 'PuBuGn',\n",
       " 'PuBuGn_r',\n",
       " 'PuBu_r',\n",
       " 'PuOr',\n",
       " 'PuOr_r',\n",
       " 'PuRd',\n",
       " 'PuRd_r',\n",
       " 'Purples',\n",
       " 'Purples_r',\n",
       " 'RdBu',\n",
       " 'RdBu_r',\n",
       " 'RdGy',\n",
       " 'RdGy_r',\n",
       " 'RdPu',\n",
       " 'RdPu_r',\n",
       " 'RdYlBu',\n",
       " 'RdYlBu_r',\n",
       " 'RdYlGn',\n",
       " 'RdYlGn_r',\n",
       " 'Reds',\n",
       " 'Reds_r',\n",
       " 'ScalarMappable',\n",
       " 'Set1',\n",
       " 'Set1_r',\n",
       " 'Set2',\n",
       " 'Set2_r',\n",
       " 'Set3',\n",
       " 'Set3_r',\n",
       " 'Spectral',\n",
       " 'Spectral_r',\n",
       " 'Wistia',\n",
       " 'Wistia_r',\n",
       " 'YlGn',\n",
       " 'YlGnBu',\n",
       " 'YlGnBu_r',\n",
       " 'YlGn_r',\n",
       " 'YlOrBr',\n",
       " 'YlOrBr_r',\n",
       " 'YlOrRd',\n",
       " 'YlOrRd_r',\n",
       " '_LUTSIZE',\n",
       " '__builtins__',\n",
       " '__cached__',\n",
       " '__doc__',\n",
       " '__file__',\n",
       " '__loader__',\n",
       " '__name__',\n",
       " '__package__',\n",
       " '__spec__',\n",
       " '_api',\n",
       " '_bivar_colormaps',\n",
       " '_colormaps',\n",
       " '_ensure_cmap',\n",
       " '_gen_cmap_registry',\n",
       " '_multivar_colormaps',\n",
       " 'afmhot',\n",
       " 'afmhot_r',\n",
       " 'autumn',\n",
       " 'autumn_r',\n",
       " 'berlin',\n",
       " 'berlin_r',\n",
       " 'binary',\n",
       " 'binary_r',\n",
       " 'bivar_cmaps',\n",
       " 'bone',\n",
       " 'bone_r',\n",
       " 'brg',\n",
       " 'brg_r',\n",
       " 'bwr',\n",
       " 'bwr_r',\n",
       " 'cividis',\n",
       " 'cividis_r',\n",
       " 'cmaps_listed',\n",
       " 'colors',\n",
       " 'cool',\n",
       " 'cool_r',\n",
       " 'coolwarm',\n",
       " 'coolwarm_r',\n",
       " 'copper',\n",
       " 'copper_r',\n",
       " 'cubehelix',\n",
       " 'cubehelix_r',\n",
       " 'datad',\n",
       " 'flag',\n",
       " 'flag_r',\n",
       " 'get_cmap',\n",
       " 'gist_earth',\n",
       " 'gist_earth_r',\n",
       " 'gist_gray',\n",
       " 'gist_gray_r',\n",
       " 'gist_grey',\n",
       " 'gist_grey_r',\n",
       " 'gist_heat',\n",
       " 'gist_heat_r',\n",
       " 'gist_ncar',\n",
       " 'gist_ncar_r',\n",
       " 'gist_rainbow',\n",
       " 'gist_rainbow_r',\n",
       " 'gist_stern',\n",
       " 'gist_stern_r',\n",
       " 'gist_yarg',\n",
       " 'gist_yarg_r',\n",
       " 'gist_yerg',\n",
       " 'gist_yerg_r',\n",
       " 'gnuplot',\n",
       " 'gnuplot2',\n",
       " 'gnuplot2_r',\n",
       " 'gnuplot_r',\n",
       " 'gray',\n",
       " 'gray_r',\n",
       " 'grey',\n",
       " 'grey_r',\n",
       " 'hot',\n",
       " 'hot_r',\n",
       " 'hsv',\n",
       " 'hsv_r',\n",
       " 'inferno',\n",
       " 'inferno_r',\n",
       " 'jet',\n",
       " 'jet_r',\n",
       " 'magma',\n",
       " 'magma_r',\n",
       " 'managua',\n",
       " 'managua_r',\n",
       " 'mpl',\n",
       " 'multivar_cmaps',\n",
       " 'nipy_spectral',\n",
       " 'nipy_spectral_r',\n",
       " 'ocean',\n",
       " 'ocean_r',\n",
       " 'pink',\n",
       " 'pink_r',\n",
       " 'plasma',\n",
       " 'plasma_r',\n",
       " 'prism',\n",
       " 'prism_r',\n",
       " 'rainbow',\n",
       " 'rainbow_r',\n",
       " 'seismic',\n",
       " 'seismic_r',\n",
       " 'spring',\n",
       " 'spring_r',\n",
       " 'summer',\n",
       " 'summer_r',\n",
       " 'tab10',\n",
       " 'tab10_r',\n",
       " 'tab20',\n",
       " 'tab20_r',\n",
       " 'tab20b',\n",
       " 'tab20b_r',\n",
       " 'tab20c',\n",
       " 'tab20c_r',\n",
       " 'terrain',\n",
       " 'terrain_r',\n",
       " 'turbo',\n",
       " 'turbo_r',\n",
       " 'twilight',\n",
       " 'twilight_r',\n",
       " 'twilight_shifted',\n",
       " 'twilight_shifted_r',\n",
       " 'vanimo',\n",
       " 'vanimo_r',\n",
       " 'viridis',\n",
       " 'viridis_r',\n",
       " 'winter',\n",
       " 'winter_r']"
      ]
     },
     "execution_count": 27,
     "metadata": {},
     "output_type": "execute_result"
    }
   ],
   "source": [
    "dir(plt.cm)"
   ]
  },
  {
   "cell_type": "code",
   "execution_count": 28,
   "id": "4c5fb8a2-6c5e-48b1-a83c-eb9067667b8d",
   "metadata": {},
   "outputs": [
    {
     "data": {
      "image/png": "[encoded data removed]",
      "text/html": [
       "<div style=\"vertical-align: middle;\"><strong>tab10</strong> </div><div class=\"cmap\"><img alt=\"tab10 colormap\" title=\"tab10\" style=\"border: 1px solid #555;\" src=\"data:image/png;base64,iVBORw0KGgoAAAANSUhEUgAAAgAAAABACAYAAABsv8+/AAAAFHRFWHRUaXRsZQB0YWIxMCBjb2xvcm1hcFeJcQsAAAAadEVYdERlc2NyaXB0aW9uAHRhYjEwIGNvbG9ybWFwqdbY7QAAADF0RVh0QXV0aG9yAE1hdHBsb3RsaWIgdjMuMTAuMywgaHR0cHM6Ly9tYXRwbG90bGliLm9yZ4Z6eFUAAAAzdEVYdFNvZnR3YXJlAE1hdHBsb3RsaWIgdjMuMTAuMywgaHR0cHM6Ly9tYXRwbG90bGliLm9yZyNea6EAAAFtSURBVHic7dahTQNgGADRv6hOAekAjNCGLUhgkI6Aw+HqcCR1WJiFDbAIEtgCku/em+Dkba6Orz9rkI/t3Zriene5pnh5+F5TvN88rSm+Ph/XFLe745ritH1bU+wPz2uK+815TXLx3wEAwN8zAAAQZAAAIMgAAECQAQCAIAMAAEEGAACCDAAABBkAAAgyAAAQZAAAIMgAAECQAQCAIAMAAEEGAACCDAAABBkAAAgyAAAQZAAAIMgAAECQAQCAIAMAAEEGAACCDAAABBkAAAgyAAAQZAAAIMgAAECQAQCAIAMAAEEGAACCDAAABBkAAAgyAAAQZAAAIMgAAECQAQCAIAMAAEEGAACCDAAABBkAAAgyAAAQZAAAIMgAAECQAQCAIAMAAEEGAACCDAAABBkAAAgyAAAQZAAAIMgAAECQAQCAIAMAAEEGAACCDAAABBkAAAgyAAAQZAAAIMgAAECQAQCAIAMAAEEGAACCfgHBIA8jiXEkTAAAAABJRU5ErkJggg==\"></div><div style=\"vertical-align: middle; max-width: 514px; display: flex; justify-content: space-between;\"><div style=\"float: left;\"><div title=\"#1f77b4ff\" style=\"display: inline-block; width: 1em; height: 1em; margin: 0; vertical-align: middle; border: 1px solid #555; background-color: #1f77b4ff;\"></div> under</div><div style=\"margin: 0 auto; display: inline-block;\">bad <div title=\"#00000000\" style=\"display: inline-block; width: 1em; height: 1em; margin: 0; vertical-align: middle; border: 1px solid #555; background-color: #00000000;\"></div></div><div style=\"float: right;\">over <div title=\"#17becfff\" style=\"display: inline-block; width: 1em; height: 1em; margin: 0; vertical-align: middle; border: 1px solid #555; background-color: #17becfff;\"></div></div></div>"
      ],
      "text/plain": [
       "<matplotlib.colors.ListedColormap at 0x20141146510>"
      ]
     },
     "execution_count": 28,
     "metadata": {},
     "output_type": "execute_result"
    }
   ],
   "source": [
    "plt.cm.tab10"
   ]
  },
  {
   "cell_type": "code",
   "execution_count": 29,
   "id": "cd0a8db7-280c-459f-a38c-b41be6523121",
   "metadata": {},
   "outputs": [
    {
     "data": {
      "image/png": "[encoded data removed]",
      "text/html": [
       "<div style=\"vertical-align: middle;\"><strong>Set1</strong> </div><div class=\"cmap\"><img alt=\"Set1 colormap\" title=\"Set1\" style=\"border: 1px solid #555;\" src=\"data:image/png;base64,iVBORw0KGgoAAAANSUhEUgAAAgAAAABACAYAAABsv8+/AAAAE3RFWHRUaXRsZQBTZXQxIGNvbG9ybWFwG6zH/AAAABl0RVh0RGVzY3JpcHRpb24AU2V0MSBjb2xvcm1hcJAeV2QAAAAxdEVYdEF1dGhvcgBNYXRwbG90bGliIHYzLjEwLjMsIGh0dHBzOi8vbWF0cGxvdGxpYi5vcmeGenhVAAAAM3RFWHRTb2Z0d2FyZQBNYXRwbG90bGliIHYzLjEwLjMsIGh0dHBzOi8vbWF0cGxvdGxpYi5vcmcjXmuhAAABZElEQVR4nO3WsS0FABRA0ccQImID1Y8xVKIQhU5iDTNoNBKJxk5qK6jZguTdcya45T36Ojv/meVuHl5nu5PD82x39XY32z0e7me1p8vZ7uP2e7a7vniZ7d5PP2e74/8OAAD+ngEAgCADAABBBgAAggwAAAQZAAAIMgAAEGQAACDIAABAkAEAgCADAABBBgAAggwAAAQZAAAIMgAAEGQAACDIAABAkAEAgCADAABBBgAAggwAAAQZAAAIMgAAEGQAACDIAABAkAEAgCADAABBBgAAggwAAAQZAAAIMgAAEGQAACDIAABAkAEAgCADAABBBgAAggwAAAQZAAAIMgAAEGQAACDIAABAkAEAgCADAABBBgAAggwAAAQZAAAIMgAAEGQAACDIAABAkAEAgCADAABBBgAAggwAAAQZAAAIMgAAEGQAACDIAABAkAEAgCADAABBBgAAggwAAAQZAAAIMgAAEPQLc6EMSq2UmrQAAAAASUVORK5CYII=\"></div><div style=\"vertical-align: middle; max-width: 514px; display: flex; justify-content: space-between;\"><div style=\"float: left;\"><div title=\"#e41a1cff\" style=\"display: inline-block; width: 1em; height: 1em; margin: 0; vertical-align: middle; border: 1px solid #555; background-color: #e41a1cff;\"></div> under</div><div style=\"margin: 0 auto; display: inline-block;\">bad <div title=\"#00000000\" style=\"display: inline-block; width: 1em; height: 1em; margin: 0; vertical-align: middle; border: 1px solid #555; background-color: #00000000;\"></div></div><div style=\"float: right;\">over <div title=\"#999999ff\" style=\"display: inline-block; width: 1em; height: 1em; margin: 0; vertical-align: middle; border: 1px solid #555; background-color: #999999ff;\"></div></div></div>"
      ],
      "text/plain": [
       "<matplotlib.colors.ListedColormap at 0x201411462d0>"
      ]
     },
     "execution_count": 29,
     "metadata": {},
     "output_type": "execute_result"
    }
   ],
   "source": [
    "plt.cm.Set1"
   ]
  },
  {
   "cell_type": "code",
   "execution_count": 30,
   "id": "cad8e23d-0576-439a-aa26-f08164f28684",
   "metadata": {},
   "outputs": [
    {
     "data": {
      "image/png": "[encoded data removed]",
      "text/html": [
       "<div style=\"vertical-align: middle;\"><strong>Set1_r</strong> </div><div class=\"cmap\"><img alt=\"Set1_r colormap\" title=\"Set1_r\" style=\"border: 1px solid #555;\" src=\"data:image/png;base64,iVBORw0KGgoAAAANSUhEUgAAAgAAAABACAYAAABsv8+/AAAAFXRFWHRUaXRsZQBTZXQxX3IgY29sb3JtYXC4wLFrAAAAG3RFWHREZXNjcmlwdGlvbgBTZXQxX3IgY29sb3JtYXDxV6mPAAAAMXRFWHRBdXRob3IATWF0cGxvdGxpYiB2My4xMC4zLCBodHRwczovL21hdHBsb3RsaWIub3Jnhnp4VQAAADN0RVh0U29mdHdhcmUATWF0cGxvdGxpYiB2My4xMC4zLCBodHRwczovL21hdHBsb3RsaWIub3JnI15roQAAAWJJREFUeJzt1rEthgEUQNFHaw87aSQSjcYM1vgSnUIUojKG/JUdxBJsQfLuORPc8p4dx/Ezy11/Xc52b593s93Vy8Ws9/Axmx2np9nu/eZ5tvs+3c92r4+3s935fwcAAH/PAABAkAEAgCADAABBBgAAggwAAAQZAAAIMgAAEGQAACDIAABAkAEAgCADAABBBgAAggwAAAQZAAAIMgAAEGQAACDIAABAkAEAgCADAABBBgAAggwAAAQZAAAIMgAAEGQAACDIAABAkAEAgCADAABBBgAAggwAAAQZAAAIMgAAEGQAACDIAABAkAEAgCADAABBBgAAggwAAAQZAAAIMgAAEGQAACDIAABAkAEAgCADAABBBgAAggwAAAQZAAAIMgAAEGQAACDIAABAkAEAgCADAABBBgAAggwAAAQZAAAIMgAAEGQAACDIAABAkAEAgCADAABBBgAAggwAAAQZAAAI+gUZChCZbHlfLgAAAABJRU5ErkJggg==\"></div><div style=\"vertical-align: middle; max-width: 514px; display: flex; justify-content: space-between;\"><div style=\"float: left;\"><div title=\"#999999ff\" style=\"display: inline-block; width: 1em; height: 1em; margin: 0; vertical-align: middle; border: 1px solid #555; background-color: #999999ff;\"></div> under</div><div style=\"margin: 0 auto; display: inline-block;\">bad <div title=\"#00000000\" style=\"display: inline-block; width: 1em; height: 1em; margin: 0; vertical-align: middle; border: 1px solid #555; background-color: #00000000;\"></div></div><div style=\"float: right;\">over <div title=\"#e41a1cff\" style=\"display: inline-block; width: 1em; height: 1em; margin: 0; vertical-align: middle; border: 1px solid #555; background-color: #e41a1cff;\"></div></div></div>"
      ],
      "text/plain": [
       "<matplotlib.colors.ListedColormap at 0x2014114e690>"
      ]
     },
     "execution_count": 30,
     "metadata": {},
     "output_type": "execute_result"
    }
   ],
   "source": [
    "plt.cm.Set1_r"
   ]
  },
  {
   "cell_type": "code",
   "execution_count": 31,
   "id": "54d701eb-575e-44b3-9b85-17ce871d40e5",
   "metadata": {},
   "outputs": [
    {
     "data": {
      "image/png": "[encoded data removed]",
      "text/html": [
       "<div style=\"vertical-align: middle;\"><strong>Greys</strong> </div><div class=\"cmap\"><img alt=\"Greys colormap\" title=\"Greys\" style=\"border: 1px solid #555;\" src=\"data:image/png;base64,iVBORw0KGgoAAAANSUhEUgAAAgAAAABACAYAAABsv8+/AAAAFHRFWHRUaXRsZQBHcmV5cyBjb2xvcm1hcORtd/YAAAAadEVYdERlc2NyaXB0aW9uAEdyZXlzIGNvbG9ybWFwGjLeEAAAADF0RVh0QXV0aG9yAE1hdHBsb3RsaWIgdjMuMTAuMywgaHR0cHM6Ly9tYXRwbG90bGliLm9yZ4Z6eFUAAAAzdEVYdFNvZnR3YXJlAE1hdHBsb3RsaWIgdjMuMTAuMywgaHR0cHM6Ly9tYXRwbG90bGliLm9yZyNea6EAAAFtSURBVHic7dZLCsIwAEDB6v3P3AiiLgRR7E95M4uGNk0a6OadxhhjmqbpNjzsfX/Ud1/dv3u+dH7vdWvNfzou3efo9fM8L5r/133WXrfXflvv+6/n+Pacz8+3fu9XzjE2+r+/9v59PF+vAECKAACAIAEAAEECAACCBAAABAkAAAgSAAAQJAAAIEgAAECQAACAIAEAAEECAACCBAAABAkAAAgSAAAQJAAAIEgAAECQAACAIAEAAEECAACCBAAABAkAAAgSAAAQJAAAIEgAAECQAACAIAEAAEECAACCBAAABAkAAAgSAAAQJAAAIEgAAECQAACAIAEAAEECAACCBAAABAkAAAgSAAAQJAAAIEgAAECQAACAIAEAAEECAACCBAAABAkAAAgSAAAQJAAAIEgAAECQAACAIAEAAEECAACCBAAABAkAAAgSAAAQJAAAIEgAAECQAACAIAEAAEECAACCBAAABAkAAAgSAAAQdAEd+aedhJ+V6AAAAABJRU5ErkJggg==\"></div><div style=\"vertical-align: middle; max-width: 514px; display: flex; justify-content: space-between;\"><div style=\"float: left;\"><div title=\"#ffffffff\" style=\"display: inline-block; width: 1em; height: 1em; margin: 0; vertical-align: middle; border: 1px solid #555; background-color: #ffffffff;\"></div> under</div><div style=\"margin: 0 auto; display: inline-block;\">bad <div title=\"#00000000\" style=\"display: inline-block; width: 1em; height: 1em; margin: 0; vertical-align: middle; border: 1px solid #555; background-color: #00000000;\"></div></div><div style=\"float: right;\">over <div title=\"#000000ff\" style=\"display: inline-block; width: 1em; height: 1em; margin: 0; vertical-align: middle; border: 1px solid #555; background-color: #000000ff;\"></div></div></div>"
      ],
      "text/plain": [
       "<matplotlib.colors.LinearSegmentedColormap at 0x201411334d0>"
      ]
     },
     "execution_count": 31,
     "metadata": {},
     "output_type": "execute_result"
    }
   ],
   "source": [
    "plt.cm.Greys"
   ]
  },
  {
   "cell_type": "code",
   "execution_count": 32,
   "id": "17e8c15c-3182-4439-85f2-af3156688378",
   "metadata": {},
   "outputs": [
    {
     "data": {
      "image/png": "[encoded data removed]",
      "text/html": [
       "<div style=\"vertical-align: middle;\"><strong>YlOrRd</strong> </div><div class=\"cmap\"><img alt=\"YlOrRd colormap\" title=\"YlOrRd\" style=\"border: 1px solid #555;\" src=\"data:image/png;base64,iVBORw0KGgoAAAANSUhEUgAAAgAAAABACAYAAABsv8+/AAAAFXRFWHRUaXRsZQBZbE9yUmQgY29sb3JtYXA38LgZAAAAG3RFWHREZXNjcmlwdGlvbgBZbE9yUmQgY29sb3JtYXB+Z6D9AAAAMXRFWHRBdXRob3IATWF0cGxvdGxpYiB2My4xMC4zLCBodHRwczovL21hdHBsb3RsaWIub3Jnhnp4VQAAADN0RVh0U29mdHdhcmUATWF0cGxvdGxpYiB2My4xMC4zLCBodHRwczovL21hdHBsb3RsaWIub3JnI15roQAAAdtJREFUeJzt1lFy2jAUQFGT/S+ta7IyTQ1JlWgwE9J+3HN+PDIvkmEIcy9j/Brbb2N/u2zjz3Lb5vVxvc7N67tzi33Pzn37/K/PGaef88H7836rc37q/LOf4zw/P9e+uH9d7/f2e9Y+17nnnjNuc9ePZ1rvd17/1/O39/Gc+TG/vq/WZ+f+9989ts841u9fl+nz2Vc/j/P9r9fv5yzm7p437XN2bvG+Vj8Ln/5txuXjY32YO+7P89tlsd9q/u/Xv33+NH/2/P147tvX48Hr9HE+/Tp+eN+X4woAhAgAAAgSAAAQJAAAIEgAAECQAACAIAEAAEECAACCBAAABAkAAAgSAAAQJAAAIEgAAECQAACAIAEAAEECAACCBAAABAkAAAgSAAAQJAAAIEgAAECQAACAIAEAAEECAACCBAAABAkAAAgSAAAQJAAAIEgAAECQAACAIAEAAEECAACCBAAABAkAAAgSAAAQJAAAIEgAAECQAACAIAEAAEECAACCBAAABAkAAAgSAAAQJAAAIEgAAECQAACAIAEAAEECAACCBAAABAkAAAgSAAAQJAAAIEgAAECQAACAIAEAAEECAACCBAAABAkAAAgSAAAQJAAAIEgAAECQAACAIAEAAEGvr6StNFF2mq8AAAAASUVORK5CYII=\"></div><div style=\"vertical-align: middle; max-width: 514px; display: flex; justify-content: space-between;\"><div style=\"float: left;\"><div title=\"#ffffccff\" style=\"display: inline-block; width: 1em; height: 1em; margin: 0; vertical-align: middle; border: 1px solid #555; background-color: #ffffccff;\"></div> under</div><div style=\"margin: 0 auto; display: inline-block;\">bad <div title=\"#00000000\" style=\"display: inline-block; width: 1em; height: 1em; margin: 0; vertical-align: middle; border: 1px solid #555; background-color: #00000000;\"></div></div><div style=\"float: right;\">over <div title=\"#800026ff\" style=\"display: inline-block; width: 1em; height: 1em; margin: 0; vertical-align: middle; border: 1px solid #555; background-color: #800026ff;\"></div></div></div>"
      ],
      "text/plain": [
       "<matplotlib.colors.LinearSegmentedColormap at 0x201411444d0>"
      ]
     },
     "execution_count": 32,
     "metadata": {},
     "output_type": "execute_result"
    }
   ],
   "source": [
    "plt.cm.YlOrRd"
   ]
  },
  {
   "cell_type": "code",
   "execution_count": 33,
   "id": "46d9ca7b-9bc0-4456-8dee-ab67bae7d24d",
   "metadata": {},
   "outputs": [
    {
     "data": {
      "image/png": "[encoded data removed]",
      "text/html": [
       "<div style=\"vertical-align: middle;\"><strong>Spectral</strong> </div><div class=\"cmap\"><img alt=\"Spectral colormap\" title=\"Spectral\" style=\"border: 1px solid #555;\" src=\"data:image/png;base64,iVBORw0KGgoAAAANSUhEUgAAAgAAAABACAYAAABsv8+/AAAAF3RFWHRUaXRsZQBTcGVjdHJhbCBjb2xvcm1hcI/oV9sAAAAddEVYdERlc2NyaXB0aW9uAFNwZWN0cmFsIGNvbG9ybWFwppaw8gAAADF0RVh0QXV0aG9yAE1hdHBsb3RsaWIgdjMuMTAuMywgaHR0cHM6Ly9tYXRwbG90bGliLm9yZ4Z6eFUAAAAzdEVYdFNvZnR3YXJlAE1hdHBsb3RsaWIgdjMuMTAuMywgaHR0cHM6Ly9tYXRwbG90bGliLm9yZyNea6EAAAILSURBVHic7dZBbqMwAIZRG242B52bEo8iDFLcWqAks/rfW9S1MRA3XXz1b/3TSillWZ4/n2Pdx3WYH9fXfb4O86v714vnzebr7PPMntfHes7by7yO89p+ve/HvmXYVy+uT95z93Mdzyn9fKX/XeowP67X8wu52H+uL5PnzObLZ8899o9f1O31T+//zvp5vnoxfmvf/35f2c/XyqOP+/9haxfzY38b53f3ta++9/nb07YP5XGOdVivL9e3Yf7x/jJe/+w943mO+e31x5v3vfu+H+v9HFufP+rruA3zu9ffva//Pd59buvnWPqBx7Fuk/Vxf/9i5tev7p+s371+jPtxAIAkAgAAAgkAAAgkAAAgkAAAgEACAAACCQAACCQAACCQAACAQAIAAAIJAAAIJAAAIJAAAIBAAgAAAgkAAAgkAAAgkAAAgEACAAACCQAACCQAACCQAACAQAIAAAIJAAAIJAAAIJAAAIBAAgAAAgkAAAgkAAAgkAAAgEACAAACCQAACCQAACCQAACAQAIAAAIJAAAIJAAAIJAAAIBAAgAAAgkAAAgkAAAgkAAAgEACAAACCQAACCQAACCQAACAQAIAAAIJAAAIJAAAIJAAAIBAAgAAAgkAAAgkAAAgkAAAgEACAAACCQAACCQAACCQAACAQAIAAAIJAAAIJAAAIJAAAIBAAgAAAgkAAAj0D32cEt0CFYghAAAAAElFTkSuQmCC\"></div><div style=\"vertical-align: middle; max-width: 514px; display: flex; justify-content: space-between;\"><div style=\"float: left;\"><div title=\"#9e0142ff\" style=\"display: inline-block; width: 1em; height: 1em; margin: 0; vertical-align: middle; border: 1px solid #555; background-color: #9e0142ff;\"></div> under</div><div style=\"margin: 0 auto; display: inline-block;\">bad <div title=\"#00000000\" style=\"display: inline-block; width: 1em; height: 1em; margin: 0; vertical-align: middle; border: 1px solid #555; background-color: #00000000;\"></div></div><div style=\"float: right;\">over <div title=\"#5e4fa2ff\" style=\"display: inline-block; width: 1em; height: 1em; margin: 0; vertical-align: middle; border: 1px solid #555; background-color: #5e4fa2ff;\"></div></div></div>"
      ],
      "text/plain": [
       "<matplotlib.colors.LinearSegmentedColormap at 0x20141144110>"
      ]
     },
     "execution_count": 33,
     "metadata": {},
     "output_type": "execute_result"
    }
   ],
   "source": [
    "plt.cm.Spectral"
   ]
  },
  {
   "cell_type": "code",
   "execution_count": 34,
   "id": "e2da813c-5b70-4db9-8f7f-8715be8fb24a",
   "metadata": {},
   "outputs": [
    {
     "data": {
      "image/png": "[encoded data removed]",
      "text/html": [
       "<div style=\"vertical-align: middle;\"><strong>coolwarm</strong> </div><div class=\"cmap\"><img alt=\"coolwarm colormap\" title=\"coolwarm\" style=\"border: 1px solid #555;\" src=\"data:image/png;base64,iVBORw0KGgoAAAANSUhEUgAAAgAAAABACAYAAABsv8+/AAAAF3RFWHRUaXRsZQBjb29sd2FybSBjb2xvcm1hcPHW9i4AAAAddEVYdERlc2NyaXB0aW9uAGNvb2x3YXJtIGNvbG9ybWFw2KgRBwAAADF0RVh0QXV0aG9yAE1hdHBsb3RsaWIgdjMuMTAuMywgaHR0cHM6Ly9tYXRwbG90bGliLm9yZ4Z6eFUAAAAzdEVYdFNvZnR3YXJlAE1hdHBsb3RsaWIgdjMuMTAuMywgaHR0cHM6Ly9tYXRwbG90bGliLm9yZyNea6EAAAIiSURBVHic7dZLcpxAEEXRgmV5DV609yULFLKhHCRdQA88eudMOuqXaKS404+fv9bWWpum6funTfP853eej+t6PpXzeXT+eO7f33mw389vvtPn376vf397a955v72ev88Zzm+D7x3v9/ej723ndd7tfv/O63nje+363s3++N568359tt9G98v8Njgv+/uc09x+79n56Xuj84f7/X3/XZ69r/fXsr8ub66P+63eW6/ntPq+/z3L5b19bhush3P7+vpen7vUua/vtXKvzzu9v363Ls/u3b7b1mtZ7+f9/mnO9fvTertfv7+vR/Pq9+v9/rve3Ru8+0/7y+f1/X/n5d62v9T5n8vxXXlf95d93se2/r2+t/44/r8CAIIIAAAIJAAAIJAAAIBAAgAAAgkAAAgkAAAgkAAAgEACAAACCQAACCQAACCQAACAQAIAAAIJAAAIJAAAIJAAAIBAAgAAAgkAAAgkAAAgkAAAgEACAAACCQAACCQAACCQAACAQAIAAAIJAAAIJAAAIJAAAIBAAgAAAgkAAAgkAAAgkAAAgEACAAACCQAACCQAACCQAACAQAIAAAIJAAAIJAAAIJAAAIBAAgAAAgkAAAgkAAAgkAAAgEACAAACCQAACCQAACCQAACAQAIAAAIJAAAIJAAAIJAAAIBAAgAAAgkAAAgkAAAgkAAAgEACAAACCQAACCQAACCQAACAQAIAAAIJAAAIJAAAINAX6GZUana7mJkAAAAASUVORK5CYII=\"></div><div style=\"vertical-align: middle; max-width: 514px; display: flex; justify-content: space-between;\"><div style=\"float: left;\"><div title=\"#3b4cc0ff\" style=\"display: inline-block; width: 1em; height: 1em; margin: 0; vertical-align: middle; border: 1px solid #555; background-color: #3b4cc0ff;\"></div> under</div><div style=\"margin: 0 auto; display: inline-block;\">bad <div title=\"#00000000\" style=\"display: inline-block; width: 1em; height: 1em; margin: 0; vertical-align: middle; border: 1px solid #555; background-color: #00000000;\"></div></div><div style=\"float: right;\">over <div title=\"#b40426ff\" style=\"display: inline-block; width: 1em; height: 1em; margin: 0; vertical-align: middle; border: 1px solid #555; background-color: #b40426ff;\"></div></div></div>"
      ],
      "text/plain": [
       "<matplotlib.colors.LinearSegmentedColormap at 0x20141144ad0>"
      ]
     },
     "execution_count": 34,
     "metadata": {},
     "output_type": "execute_result"
    }
   ],
   "source": [
    "plt.cm.coolwarm"
   ]
  },
  {
   "cell_type": "code",
   "execution_count": 35,
   "id": "f9b294b8-f9fa-4e9a-999b-c6b483ca04e1",
   "metadata": {},
   "outputs": [
    {
     "data": {
      "image/png": "[encoded data removed]",
      "text/html": [
       "<div style=\"vertical-align: middle;\"><strong>coolwarm_r</strong> </div><div class=\"cmap\"><img alt=\"coolwarm_r colormap\" title=\"coolwarm_r\" style=\"border: 1px solid #555;\" src=\"data:image/png;base64,iVBORw0KGgoAAAANSUhEUgAAAgAAAABACAYAAABsv8+/AAAAGXRFWHRUaXRsZQBjb29sd2FybV9yIGNvbG9ybWFwWhD8tgAAAB90RVh0RGVzY3JpcHRpb24AY29vbHdhcm1fciBjb2xvcm1hcCA4PfgAAAAxdEVYdEF1dGhvcgBNYXRwbG90bGliIHYzLjEwLjMsIGh0dHBzOi8vbWF0cGxvdGxpYi5vcmeGenhVAAAAM3RFWHRTb2Z0d2FyZQBNYXRwbG90bGliIHYzLjEwLjMsIGh0dHBzOi8vbWF0cGxvdGxpYi5vcmcjXmuhAAACI0lEQVR4nO3WwY6bMBSGUZu0r9L3l+b9oKoCibjEQBZd/edsGBv7ktXo6z+PP0trrU2/+79H6+tz+vXlepqe68e6Xp996p/3H9Pu/VTO9am8r/Om/bnj+/39/7//XLdt3c/vtTqnP9dtNLd//m4b3R/Ma/3z99vF/fr9Ome4vntv+155v/Qv763PZXDuPW//frl97vN6dH9p53Pf58q6nh+9r/u319v9sl+fS93fn5+H5+7tv++383uv8+2792XuPNjf1of3h7llf7m7P5q/7Z+vb+/PV+eWi3PPP+b53n6d9zr3+j3L/vxrXedtc8r9w/7ge9vcw/zlfP48D+Z/N2+bc31//733nPV+mXf9nTLvcO987vbfBQAIIgAAIJAAAIBAAgAAAgkAAAgkAAAgkAAAgEACAAACCQAACCQAACCQAACAQAIAAAIJAAAIJAAAIJAAAIBAAgAAAgkAAAgkAAAgkAAAgEACAAACCQAACCQAACCQAACAQAIAAAIJAAAIJAAAIJAAAIBAAgAAAgkAAAgkAAAgkAAAgEACAAACCQAACCQAACCQAACAQAIAAAIJAAAIJAAAIJAAAIBAAgAAAgkAAAgkAAAgkAAAgEACAAACCQAACCQAACCQAACAQAIAAAIJAAAIJAAAIJAAAIBAAgAAAgkAAAgkAAAgkAAAgEACAAACCQAACCQAACCQAACAQAIAAAIJAAAIJAAAIJAAAIBAfwHrgzvUsW4JNQAAAABJRU5ErkJggg==\"></div><div style=\"vertical-align: middle; max-width: 514px; display: flex; justify-content: space-between;\"><div style=\"float: left;\"><div title=\"#b40426ff\" style=\"display: inline-block; width: 1em; height: 1em; margin: 0; vertical-align: middle; border: 1px solid #555; background-color: #b40426ff;\"></div> under</div><div style=\"margin: 0 auto; display: inline-block;\">bad <div title=\"#00000000\" style=\"display: inline-block; width: 1em; height: 1em; margin: 0; vertical-align: middle; border: 1px solid #555; background-color: #00000000;\"></div></div><div style=\"float: right;\">over <div title=\"#3b4cc0ff\" style=\"display: inline-block; width: 1em; height: 1em; margin: 0; vertical-align: middle; border: 1px solid #555; background-color: #3b4cc0ff;\"></div></div></div>"
      ],
      "text/plain": [
       "<matplotlib.colors.LinearSegmentedColormap at 0x2014114ce90>"
      ]
     },
     "execution_count": 35,
     "metadata": {},
     "output_type": "execute_result"
    }
   ],
   "source": [
    "plt.cm.coolwarm_r"
   ]
  },
  {
   "cell_type": "code",
   "execution_count": 36,
   "id": "e8c17715-ade3-424f-b55e-4674ef0f60f5",
   "metadata": {},
   "outputs": [
    {
     "data": {
      "image/png": "[encoded data removed]",
      "text/html": [
       "<div style=\"vertical-align: middle;\"><strong>twilight</strong> </div><div class=\"cmap\"><img alt=\"twilight colormap\" title=\"twilight\" style=\"border: 1px solid #555;\" src=\"data:image/png;base64,iVBORw0KGgoAAAANSUhEUgAAAgAAAABACAYAAABsv8+/AAAAF3RFWHRUaXRsZQB0d2lsaWdodCBjb2xvcm1hcEflX9wAAAAddEVYdERlc2NyaXB0aW9uAHR3aWxpZ2h0IGNvbG9ybWFwbpu49QAAADF0RVh0QXV0aG9yAE1hdHBsb3RsaWIgdjMuMTAuMywgaHR0cHM6Ly9tYXRwbG90bGliLm9yZ4Z6eFUAAAAzdEVYdFNvZnR3YXJlAE1hdHBsb3RsaWIgdjMuMTAuMywgaHR0cHM6Ly9tYXRwbG90bGliLm9yZyNea6EAAALESURBVHic7dZBcpwwEAVQ4P4HzDY5CKTQSKLBOM7+v1dlj9RqaTCGqr/+/vXnWLpjbb+XUTjq+PiMZ+24xre1Xt/H+rl2LMv+XGt7rvHez7nmfd9j/9d52TfPK32P+vUddd99z3Vuv85RW77Wrp+32jf1fs7ystbua68vz3q/2Hvvdc41v9fGmXM8/5B7/613/6Y++uuNq2fsta/e3Mf8h9rx9aZfvdc/p/Q9buRe1mpv62sXWdb3OT72/VFrT9qcH3PvPtee4zY/n9D2jH/mnzdkjMva54b18ei/5v1Jv9aPWhtv3egd1WNZ1rpe3uhRb59L+2zTPjxH17jX2+8xLj199P5ZxutnVGvb+bne923/mNf+bZ750vfTeF36/s81buOcOe/XPr7r/Ky12ve21n/md7Sf477+0n8Wn7X/7fnU12Xd3vvm+hj3vrO2vPVs97U57jfntm879zzqt75x5hjXnlo7b1oZt7/n0XM7Y+zZyny77bnm4w/uvb22lvrnu2vfVs7/Wm+fWxmPs+f4fe29t1zb47ra0znP6U/8bXx/OObbN9bb63q9ufUtPp3PKQAQRgAAgEACAAAEEgAAIJAAAACBBAAACCQAAEAgAQAAAgkAABBIAACAQAIAAAQSAAAgkAAAAIEEAAAIJAAAQCABAAACCQAAEEgAAIBAAgAABBIAACCQAAAAgQQAAAgkAABAIAEAAAIJAAAQSAAAgEACAAAEEgAAIJAAAACBBAAACCQAAEAgAQAAAgkAABBIAACAQAIAAAQSAAAgkAAAAIEEAAAIJAAAQCABAAACCQAAEEgAAIBAAgAABBIAACCQAAAAgQQAAAgkAABAIAEAAAIJAAAQSAAAgEACAAAEEgAAIJAAAACBBAAACCQAAEAgAQAAAgkAABBIAACAQAIAAAQSAAAgkAAAAIEEAAAIJAAAQKC/UKvvKBcgFecAAAAASUVORK5CYII=\"></div><div style=\"vertical-align: middle; max-width: 514px; display: flex; justify-content: space-between;\"><div style=\"float: left;\"><div title=\"#e2d9e2ff\" style=\"display: inline-block; width: 1em; height: 1em; margin: 0; vertical-align: middle; border: 1px solid #555; background-color: #e2d9e2ff;\"></div> under</div><div style=\"margin: 0 auto; display: inline-block;\">bad <div title=\"#00000000\" style=\"display: inline-block; width: 1em; height: 1em; margin: 0; vertical-align: middle; border: 1px solid #555; background-color: #00000000;\"></div></div><div style=\"float: right;\">over <div title=\"#e2d9e2ff\" style=\"display: inline-block; width: 1em; height: 1em; margin: 0; vertical-align: middle; border: 1px solid #555; background-color: #e2d9e2ff;\"></div></div></div>"
      ],
      "text/plain": [
       "<matplotlib.colors.ListedColormap at 0x20141132b10>"
      ]
     },
     "execution_count": 36,
     "metadata": {},
     "output_type": "execute_result"
    }
   ],
   "source": [
    "plt.cm.twilight"
   ]
  },
  {
   "cell_type": "code",
   "execution_count": 37,
   "id": "624c785c-38e3-4e9f-af8f-f5ba6f078097",
   "metadata": {},
   "outputs": [
    {
     "data": {
      "image/png": "[encoded data removed]",
      "text/html": [
       "<div style=\"vertical-align: middle;\"><strong>winter</strong> </div><div class=\"cmap\"><img alt=\"winter colormap\" title=\"winter\" style=\"border: 1px solid #555;\" src=\"data:image/png;base64,iVBORw0KGgoAAAANSUhEUgAAAgAAAABACAYAAABsv8+/AAAAFXRFWHRUaXRsZQB3aW50ZXIgY29sb3JtYXB80Wg/AAAAG3RFWHREZXNjcmlwdGlvbgB3aW50ZXIgY29sb3JtYXA1RnDbAAAAMXRFWHRBdXRob3IATWF0cGxvdGxpYiB2My4xMC4zLCBodHRwczovL21hdHBsb3RsaWIub3Jnhnp4VQAAADN0RVh0U29mdHdhcmUATWF0cGxvdGxpYiB2My4xMC4zLCBodHRwczovL21hdHBsb3RsaWIub3JnI15roQAAAVpJREFUeJzt1kEOgjAUQMGW+98ZY7AbNyaaJuqb2ZBCoHw2vDnGeY67eR3GvA659Xisj+j1tV6ON7/n9vufz//a+3/5/Luf9/H+L+bfvr/5zT/+Zv71OwAAQgQAAAQJAAAIEgAAECQAACBIAABAkAAAgCABAABBAgAAggQAAAQJAAAIEgAAECQAACBIAABAkAAAgCABAABBAgAAggQAAAQJAAAIEgAAECQAACBIAABAkAAAgCABAABBAgAAggQAAAQJAAAIEgAAECQAACBIAABAkAAAgCABAABBAgAAggQAAAQJAAAIEgAAECQAACBIAABAkAAAgCABAABBAgAAggQAAAQJAAAIEgAAECQAACBIAABAkAAAgCABAABBAgAAggQAAAQJAAAIEgAAECQAACBIAABAkAAAgCABAABBAgAAggQAAAQJAAAIEgAAECQAACBIAABAkAAAgKAbkfGC/XwR8Y4AAAAASUVORK5CYII=\"></div><div style=\"vertical-align: middle; max-width: 514px; display: flex; justify-content: space-between;\"><div style=\"float: left;\"><div title=\"#0000ffff\" style=\"display: inline-block; width: 1em; height: 1em; margin: 0; vertical-align: middle; border: 1px solid #555; background-color: #0000ffff;\"></div> under</div><div style=\"margin: 0 auto; display: inline-block;\">bad <div title=\"#00000000\" style=\"display: inline-block; width: 1em; height: 1em; margin: 0; vertical-align: middle; border: 1px solid #555; background-color: #00000000;\"></div></div><div style=\"float: right;\">over <div title=\"#00ff80ff\" style=\"display: inline-block; width: 1em; height: 1em; margin: 0; vertical-align: middle; border: 1px solid #555; background-color: #00ff80ff;\"></div></div></div>"
      ],
      "text/plain": [
       "<matplotlib.colors.LinearSegmentedColormap at 0x20141145e50>"
      ]
     },
     "execution_count": 37,
     "metadata": {},
     "output_type": "execute_result"
    }
   ],
   "source": [
    "plt.cm.winter"
   ]
  },
  {
   "cell_type": "code",
   "execution_count": 39,
   "id": "b880ce09-1c87-499b-a7b4-9a8d83ef1d90",
   "metadata": {},
   "outputs": [
    {
     "data": {
      "text/html": [
       "<svg  width=\"550\" height=\"55\"><rect x=\"0\" y=\"0\" width=\"55\" height=\"55\" style=\"fill:#1f77b4;stroke-width:2;stroke:rgb(255,255,255)\"/><rect x=\"55\" y=\"0\" width=\"55\" height=\"55\" style=\"fill:#ff7f0e;stroke-width:2;stroke:rgb(255,255,255)\"/><rect x=\"110\" y=\"0\" width=\"55\" height=\"55\" style=\"fill:#2ca02c;stroke-width:2;stroke:rgb(255,255,255)\"/><rect x=\"165\" y=\"0\" width=\"55\" height=\"55\" style=\"fill:#d62728;stroke-width:2;stroke:rgb(255,255,255)\"/><rect x=\"220\" y=\"0\" width=\"55\" height=\"55\" style=\"fill:#9467bd;stroke-width:2;stroke:rgb(255,255,255)\"/><rect x=\"275\" y=\"0\" width=\"55\" height=\"55\" style=\"fill:#8c564b;stroke-width:2;stroke:rgb(255,255,255)\"/><rect x=\"330\" y=\"0\" width=\"55\" height=\"55\" style=\"fill:#e377c2;stroke-width:2;stroke:rgb(255,255,255)\"/><rect x=\"385\" y=\"0\" width=\"55\" height=\"55\" style=\"fill:#7f7f7f;stroke-width:2;stroke:rgb(255,255,255)\"/><rect x=\"440\" y=\"0\" width=\"55\" height=\"55\" style=\"fill:#bcbd22;stroke-width:2;stroke:rgb(255,255,255)\"/><rect x=\"495\" y=\"0\" width=\"55\" height=\"55\" style=\"fill:#17becf;stroke-width:2;stroke:rgb(255,255,255)\"/></svg>"
      ],
      "text/plain": [
       "[(0.12156862745098039, 0.4666666666666667, 0.7058823529411765),\n",
       " (1.0, 0.4980392156862745, 0.054901960784313725),\n",
       " (0.17254901960784313, 0.6274509803921569, 0.17254901960784313),\n",
       " (0.8392156862745098, 0.15294117647058825, 0.1568627450980392),\n",
       " (0.5803921568627451, 0.403921568627451, 0.7411764705882353),\n",
       " (0.5490196078431373, 0.33725490196078434, 0.29411764705882354),\n",
       " (0.8901960784313725, 0.4666666666666667, 0.7607843137254902),\n",
       " (0.4980392156862745, 0.4980392156862745, 0.4980392156862745),\n",
       " (0.7372549019607844, 0.7411764705882353, 0.13333333333333333),\n",
       " (0.09019607843137255, 0.7450980392156863, 0.8117647058823529)]"
      ]
     },
     "execution_count": 39,
     "metadata": {},
     "output_type": "execute_result"
    }
   ],
   "source": [
    "sns.color_palette()"
   ]
  },
  {
   "cell_type": "code",
   "execution_count": 40,
   "id": "5051d289-7568-4194-97c3-003841e53106",
   "metadata": {},
   "outputs": [],
   "source": [
    "sns.set_palette(palette = 'Set1')"
   ]
  },
  {
   "cell_type": "code",
   "execution_count": 41,
   "id": "e4a44e08-62f5-4642-8b79-3533ba977de8",
   "metadata": {},
   "outputs": [
    {
     "data": {
      "text/html": [
       "<svg  width=\"495\" height=\"55\"><rect x=\"0\" y=\"0\" width=\"55\" height=\"55\" style=\"fill:#e41a1c;stroke-width:2;stroke:rgb(255,255,255)\"/><rect x=\"55\" y=\"0\" width=\"55\" height=\"55\" style=\"fill:#377eb8;stroke-width:2;stroke:rgb(255,255,255)\"/><rect x=\"110\" y=\"0\" width=\"55\" height=\"55\" style=\"fill:#4daf4a;stroke-width:2;stroke:rgb(255,255,255)\"/><rect x=\"165\" y=\"0\" width=\"55\" height=\"55\" style=\"fill:#984ea3;stroke-width:2;stroke:rgb(255,255,255)\"/><rect x=\"220\" y=\"0\" width=\"55\" height=\"55\" style=\"fill:#ff7f00;stroke-width:2;stroke:rgb(255,255,255)\"/><rect x=\"275\" y=\"0\" width=\"55\" height=\"55\" style=\"fill:#ffff33;stroke-width:2;stroke:rgb(255,255,255)\"/><rect x=\"330\" y=\"0\" width=\"55\" height=\"55\" style=\"fill:#a65628;stroke-width:2;stroke:rgb(255,255,255)\"/><rect x=\"385\" y=\"0\" width=\"55\" height=\"55\" style=\"fill:#f781bf;stroke-width:2;stroke:rgb(255,255,255)\"/><rect x=\"440\" y=\"0\" width=\"55\" height=\"55\" style=\"fill:#999999;stroke-width:2;stroke:rgb(255,255,255)\"/></svg>"
      ],
      "text/plain": [
       "[(0.8941176470588236, 0.10196078431372549, 0.10980392156862745),\n",
       " (0.21568627450980393, 0.49411764705882355, 0.7215686274509804),\n",
       " (0.30196078431372547, 0.6862745098039216, 0.2901960784313726),\n",
       " (0.596078431372549, 0.3058823529411765, 0.6392156862745098),\n",
       " (1.0, 0.4980392156862745, 0.0),\n",
       " (1.0, 1.0, 0.2),\n",
       " (0.6509803921568628, 0.33725490196078434, 0.1568627450980392),\n",
       " (0.9686274509803922, 0.5058823529411764, 0.7490196078431373),\n",
       " (0.6, 0.6, 0.6)]"
      ]
     },
     "execution_count": 41,
     "metadata": {},
     "output_type": "execute_result"
    }
   ],
   "source": [
    "sns.color_palette()"
   ]
  },
  {
   "cell_type": "code",
   "execution_count": 42,
   "id": "b1d1908d-a3c4-49cf-a35d-8146323dd8d9",
   "metadata": {},
   "outputs": [
    {
     "data": {
      "image/png": "[encoded data removed]",
      "text/plain": [
       "<Figure size 800x400 with 1 Axes>"
      ]
     },
     "metadata": {},
     "output_type": "display_data"
    }
   ],
   "source": [
    "sns.histplot(data = apt, x = '거래금액', binwidth = 2, binrange = (0, 70), \n",
    "             hue = '재건축', ec = '0', hue_order = ['충족', '부족']);"
   ]
  },
  {
   "cell_type": "code",
   "execution_count": 43,
   "id": "350b603f-e5a6-4bcc-9c71-cd9847def84f",
   "metadata": {},
   "outputs": [],
   "source": [
    "mypal = ['silver', 'red', 'darkred']"
   ]
  },
  {
   "cell_type": "code",
   "execution_count": 51,
   "id": "820f1c3e-0bb3-4dda-bc16-0fece9ba0943",
   "metadata": {},
   "outputs": [
    {
     "name": "stderr",
     "output_type": "stream",
     "text": [
      "C:\\Users\\USER\\AppData\\Local\\Temp\\ipykernel_16940\\1854740661.py:1: UserWarning: The palette list has more values (3) than needed (2), which may not be intended.\n",
      "  sns.histplot(data = apt, x = '거래금액', binwidth = 2, binrange = (0, 70),\n"
     ]
    },
    {
     "data": {
      "image/png": "[encoded data removed]",
      "text/plain": [
       "<Figure size 800x400 with 1 Axes>"
      ]
     },
     "metadata": {},
     "output_type": "display_data"
    }
   ],
   "source": [
    "sns.histplot(data = apt, x = '거래금액', binwidth = 2, binrange = (0, 70), \n",
    "             hue = '재건축', ec = '0', hue_order = ['부족', '충족'], palette = mypal)\n",
    "plt.title(label = '아파트 거래금액의 분포', fontdict = dict(family = 'Malgun Gothic', size = 16, color = 'red'))\n",
    "plt.xlabel(xlabel = '거래금액(억)', fontdict = dict(fontweight = 'bold'))\n",
    "plt.ylabel(ylabel = '거래건수(건)');"
   ]
  },
  {
   "cell_type": "code",
   "execution_count": 55,
   "id": "f7e6d717-2775-4731-a99d-2bcfe1f4cc8f",
   "metadata": {},
   "outputs": [
    {
     "data": {
      "image/png": "[encoded data removed]",
      "text/plain": [
       "<Figure size 800x400 with 1 Axes>"
      ]
     },
     "metadata": {},
     "output_type": "display_data"
    }
   ],
   "source": [
    "sns.histplot(data = apt, x = '거래금액', binwidth = 2, binrange = (0, 70), \n",
    "             fc = '1', ec = '0.8', kde = True, color = 'red')\n",
    "plt.xlim(-3.5, 73.5);"
   ]
  },
  {
   "cell_type": "code",
   "execution_count": 61,
   "id": "4a1e49b8-ba82-4afd-84b2-f88de6d6ceac",
   "metadata": {},
   "outputs": [
    {
     "data": {
      "image/png": "[encoded data removed]",
      "text/plain": [
       "<Figure size 800x400 with 1 Axes>"
      ]
     },
     "metadata": {},
     "output_type": "display_data"
    }
   ],
   "source": [
    "sns.histplot(data = apt, x = '거래금액', binwidth = 2, binrange = (0, 70), \n",
    "             fc = '1', ec = '0.8', stat = 'density')\n",
    "sns.kdeplot(data = apt, x = '거래금액', color = 'red', lw = 1, ls = '--')\n",
    "plt.xlim(-3.5, 73.5);"
   ]
  },
  {
   "cell_type": "code",
   "execution_count": null,
   "id": "7b1dc3c2-9355-4fc0-b51c-4884f45d4a23",
   "metadata": {},
   "outputs": [],
   "source": []
  }
 ],
 "metadata": {
  "kernelspec": {
   "display_name": "Python 3 (ipykernel)",
   "language": "python",
   "name": "python3"
  },
  "language_info": {
   "codemirror_mode": {
    "name": "ipython",
    "version": 3
   },
   "file_extension": ".py",
   "mimetype": "text/x-python",
   "name": "python",
   "nbconvert_exporter": "python",
   "pygments_lexer": "ipython3",
   "version": "3.13.3"
  }
 },
 "nbformat": 4,
 "nbformat_minor": 5
}
